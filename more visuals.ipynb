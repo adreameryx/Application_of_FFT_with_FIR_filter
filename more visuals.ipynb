{
  "nbformat": 4,
  "nbformat_minor": 0,
  "metadata": {
    "colab": {
      "name": "Drawings-FeatureExtraction.ipynb",
      "provenance": [],
      "collapsed_sections": [],
      "mount_file_id": "1uh6R6MilSYtxltvTarRCyje6BIoRA4bM",
      "authorship_tag": "ABX9TyO2Q3id/emZVdPw4OwZSm5y",
      "include_colab_link": true
    },
    "kernelspec": {
      "name": "python3",
      "display_name": "Python 3"
    },
    "language_info": {
      "name": "python"
    }
  },
  "cells": [
    {
      "cell_type": "markdown",
      "metadata": {
        "id": "view-in-github",
        "colab_type": "text"
      },
      "source": [
        "<a href=\"https://colab.research.google.com/github/mahima8178/Application_of_FFT_with_FIR_filter/blob/master/more%20visuals.ipynb\" target=\"_parent\"><img src=\"https://colab.research.google.com/assets/colab-badge.svg\" alt=\"Open In Colab\"/></a>"
      ]
    },
    {
      "cell_type": "code",
      "metadata": {
        "colab": {
          "base_uri": "https://localhost:8080/"
        },
        "id": "W2DqAs_-lQCx",
        "outputId": "1e764783-e4bf-4b37-ab80-e3b1a0d9d39a"
      },
      "source": [
        "from google.colab import drive\n",
        "drive.mount('/content/drive')"
      ],
      "execution_count": 1,
      "outputs": [
        {
          "output_type": "stream",
          "text": [
            "Drive already mounted at /content/drive; to attempt to forcibly remount, call drive.mount(\"/content/drive\", force_remount=True).\n"
          ],
          "name": "stdout"
        }
      ]
    },
    {
      "cell_type": "code",
      "metadata": {
        "id": "bFi8X_L6lWc5"
      },
      "source": [
        "import os\n",
        "os.environ['KAGGLE_CONFIG_DIR'] = \"/content/drive/My Drive/Kaggle/\""
      ],
      "execution_count": 2,
      "outputs": []
    },
    {
      "cell_type": "code",
      "metadata": {
        "colab": {
          "base_uri": "https://localhost:8080/"
        },
        "id": "TyfoDLdkll7e",
        "outputId": "5f1f1724-e49e-4007-80c4-89728d0d0497"
      },
      "source": [
        "%cd /content/drive/My Drive/Kaggle/"
      ],
      "execution_count": 3,
      "outputs": [
        {
          "output_type": "stream",
          "text": [
            "/content/drive/My Drive/Kaggle\n"
          ],
          "name": "stdout"
        }
      ]
    },
    {
      "cell_type": "code",
      "metadata": {
        "colab": {
          "base_uri": "https://localhost:8080/"
        },
        "id": "DVuRyHSKltI5",
        "outputId": "41c59eed-7965-4357-b8f6-0d7ac36235b2"
      },
      "source": [
        "!kaggle datasets download -d team-ai/parkinson-disease-spiral-drawings"
      ],
      "execution_count": 4,
      "outputs": [
        {
          "output_type": "stream",
          "text": [
            "Downloading parkinson-disease-spiral-drawings.zip to /content/drive/My Drive/Kaggle\n",
            "\r  0% 0.00/7.40M [00:00<?, ?B/s]\r 68% 5.00M/7.40M [00:00<00:00, 46.4MB/s]\n",
            "\r100% 7.40M/7.40M [00:00<00:00, 47.2MB/s]\n"
          ],
          "name": "stdout"
        }
      ]
    },
    {
      "cell_type": "code",
      "metadata": {
        "colab": {
          "base_uri": "https://localhost:8080/"
        },
        "id": "MZkhBJOENt2U",
        "outputId": "eda17423-f951-4b72-c1d1-38eff76b5fa8"
      },
      "source": [
        "!unzip \\*.zip  && rm *.zip"
      ],
      "execution_count": 5,
      "outputs": [
        {
          "output_type": "stream",
          "text": [
            "Archive:  parkinson-disease-spiral-drawings.zip\n",
            "replace hw_dataset/.DS_Store? [y]es, [n]o, [A]ll, [N]one, [r]ename: N\n"
          ],
          "name": "stdout"
        }
      ]
    },
    {
      "cell_type": "code",
      "metadata": {
        "id": "uInzNpEPlyqt"
      },
      "source": [
        "%matplotlib inline\n",
        "import numpy as np\n",
        "import pandas as pd\n",
        "import os\n",
        "import seaborn as sns\n",
        "from time import time\n",
        "from math import sqrt"
      ],
      "execution_count": 6,
      "outputs": []
    },
    {
      "cell_type": "markdown",
      "metadata": {
        "id": "43S6cmjzmf48"
      },
      "source": [
        "Timing Decorator\n"
      ]
    },
    {
      "cell_type": "code",
      "metadata": {
        "id": "0J1IRxUxmRl8"
      },
      "source": [
        "def timeit(fn):\n",
        "    def wrapper(*args, **kwargs):\n",
        "        start=time()\n",
        "        res=fn(*args, **kwargs)\n",
        "        print(fn.__name__, \"took\", time()-start, \"seconds.\")\n",
        "        return res\n",
        "    return wrapper"
      ],
      "execution_count": 7,
      "outputs": []
    },
    {
      "cell_type": "markdown",
      "metadata": {
        "id": "XJTsnAFvmkBZ"
      },
      "source": [
        "Data paths"
      ]
    },
    {
      "cell_type": "code",
      "metadata": {
        "id": "D6d042CCmcaq"
      },
      "source": [
        "control_data_path=os.path.join('datanew', 'hw_dataset/hw_dataset/control')\n",
        "parkinson_data_path=os.path.join('datanew', 'hw_dataset/hw_dataset/parkinson')"
      ],
      "execution_count": 8,
      "outputs": []
    },
    {
      "cell_type": "code",
      "metadata": {
        "id": "u1WBSqR2mdEI"
      },
      "source": [
        "control_file_list=[os.path.join(control_data_path, x) for x in os.listdir(control_data_path)]\n",
        "parkinson_file_list=[os.path.join(parkinson_data_path, x) for x in os.listdir(parkinson_data_path)]"
      ],
      "execution_count": 9,
      "outputs": []
    },
    {
      "cell_type": "markdown",
      "metadata": {
        "id": "aat6L6GMUMLZ"
      },
      "source": [
        "![Screenshot (43).png](data:image/png;base64,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)"
      ]
    },
    {
      "cell_type": "markdown",
      "metadata": {
        "id": "WTiRv2RAogJ5"
      },
      "source": [
        "FEATURE EXTRACTION"
      ]
    },
    {
      "cell_type": "code",
      "metadata": {
        "colab": {
          "base_uri": "https://localhost:8080/",
          "height": 669
        },
        "id": "QZg2mLnwo7xo",
        "outputId": "8e90892f-5b4d-448a-c1f0-09078bb73e11"
      },
      "source": [
        "\n",
        "import pandas as pd\n",
        "import numpy as np\n",
        "import os\n",
        "import tensorflow as tf\n",
        "import keras\n",
        "import csv\n",
        "from matplotlib import pyplot as plt\n",
        "def read(file):\n",
        "    with open(file) as f:\n",
        "        reader = csv.reader(f,delimiter = ';')\n",
        "        patient_data = []\n",
        "        data = []\n",
        "        for row in reader:\n",
        "            for k in range(len(row)):\n",
        "                row[k]= int(row[k])\n",
        "            data.append(row)\n",
        "    return data\n",
        "\n",
        "path = '/content/drive/MyDrive/Kaggle/datanew/hw_dataset/'\n",
        "path2= '/content/drive/MyDrive/Kaggle/datanew/new_dataset/'\n",
        "hw = []\n",
        "hw.append([])\n",
        "hw.append([])\n",
        "hw.append([])\n",
        "for f in os.listdir(path+'hw_dataset/control/'):\n",
        "    hw[0].append(read(path+'hw_dataset/control/'+f))\n",
        "    \n",
        "for f in os.listdir(path+'hw_dataset/parkinson/'):\n",
        "    hw[1].append(read(path+'hw_dataset/parkinson/'+f))\n",
        "    \n",
        "for f in os.listdir(path2+'new_dataset/parkinson/'):\n",
        "    hw[2].append(read(path2+'new_dataset/parkinson/'+f))\n",
        "count = 0\n",
        "dfs  = []\n",
        "for i in range(3):\n",
        "    for k in range(len(hw[i])):\n",
        "        df = pd.DataFrame(hw[i][k],columns = ['x','y','z','Pressure','GripAngle','TimeStamp','testID'])\n",
        "        #first folder is control, everything else is parkinson\n",
        "        if i == 0:\n",
        "            isPark = 0\n",
        "        else:\n",
        "            isPark = 1\n",
        "        df['isParkinson'] = pd.Series(np.full((len(df),),isPark))\n",
        "        df['ID'] = pd.Series(np.full((len(df),),count))\n",
        "        dfs.append(df)\n",
        "        count+=1\n",
        "dfs[0].head(20)"
      ],
      "execution_count": 15,
      "outputs": [
        {
          "output_type": "execute_result",
          "data": {
            "text/html": [
              "<div>\n",
              "<style scoped>\n",
              "    .dataframe tbody tr th:only-of-type {\n",
              "        vertical-align: middle;\n",
              "    }\n",
              "\n",
              "    .dataframe tbody tr th {\n",
              "        vertical-align: top;\n",
              "    }\n",
              "\n",
              "    .dataframe thead th {\n",
              "        text-align: right;\n",
              "    }\n",
              "</style>\n",
              "<table border=\"1\" class=\"dataframe\">\n",
              "  <thead>\n",
              "    <tr style=\"text-align: right;\">\n",
              "      <th></th>\n",
              "      <th>x</th>\n",
              "      <th>y</th>\n",
              "      <th>z</th>\n",
              "      <th>Pressure</th>\n",
              "      <th>GripAngle</th>\n",
              "      <th>TimeStamp</th>\n",
              "      <th>testID</th>\n",
              "      <th>isParkinson</th>\n",
              "      <th>ID</th>\n",
              "    </tr>\n",
              "  </thead>\n",
              "  <tbody>\n",
              "    <tr>\n",
              "      <th>0</th>\n",
              "      <td>199</td>\n",
              "      <td>203</td>\n",
              "      <td>0</td>\n",
              "      <td>1</td>\n",
              "      <td>990</td>\n",
              "      <td>14431033</td>\n",
              "      <td>0</td>\n",
              "      <td>0</td>\n",
              "      <td>0</td>\n",
              "    </tr>\n",
              "    <tr>\n",
              "      <th>1</th>\n",
              "      <td>199</td>\n",
              "      <td>203</td>\n",
              "      <td>0</td>\n",
              "      <td>9</td>\n",
              "      <td>970</td>\n",
              "      <td>14431040</td>\n",
              "      <td>0</td>\n",
              "      <td>0</td>\n",
              "      <td>0</td>\n",
              "    </tr>\n",
              "    <tr>\n",
              "      <th>2</th>\n",
              "      <td>199</td>\n",
              "      <td>203</td>\n",
              "      <td>0</td>\n",
              "      <td>20</td>\n",
              "      <td>960</td>\n",
              "      <td>14431047</td>\n",
              "      <td>0</td>\n",
              "      <td>0</td>\n",
              "      <td>0</td>\n",
              "    </tr>\n",
              "    <tr>\n",
              "      <th>3</th>\n",
              "      <td>199</td>\n",
              "      <td>203</td>\n",
              "      <td>0</td>\n",
              "      <td>30</td>\n",
              "      <td>970</td>\n",
              "      <td>14431054</td>\n",
              "      <td>0</td>\n",
              "      <td>0</td>\n",
              "      <td>0</td>\n",
              "    </tr>\n",
              "    <tr>\n",
              "      <th>4</th>\n",
              "      <td>199</td>\n",
              "      <td>203</td>\n",
              "      <td>0</td>\n",
              "      <td>45</td>\n",
              "      <td>970</td>\n",
              "      <td>14431061</td>\n",
              "      <td>0</td>\n",
              "      <td>0</td>\n",
              "      <td>0</td>\n",
              "    </tr>\n",
              "    <tr>\n",
              "      <th>5</th>\n",
              "      <td>199</td>\n",
              "      <td>203</td>\n",
              "      <td>0</td>\n",
              "      <td>58</td>\n",
              "      <td>970</td>\n",
              "      <td>14431068</td>\n",
              "      <td>0</td>\n",
              "      <td>0</td>\n",
              "      <td>0</td>\n",
              "    </tr>\n",
              "    <tr>\n",
              "      <th>6</th>\n",
              "      <td>199</td>\n",
              "      <td>203</td>\n",
              "      <td>0</td>\n",
              "      <td>67</td>\n",
              "      <td>990</td>\n",
              "      <td>14431075</td>\n",
              "      <td>0</td>\n",
              "      <td>0</td>\n",
              "      <td>0</td>\n",
              "    </tr>\n",
              "    <tr>\n",
              "      <th>7</th>\n",
              "      <td>199</td>\n",
              "      <td>203</td>\n",
              "      <td>0</td>\n",
              "      <td>76</td>\n",
              "      <td>970</td>\n",
              "      <td>14431082</td>\n",
              "      <td>0</td>\n",
              "      <td>0</td>\n",
              "      <td>0</td>\n",
              "    </tr>\n",
              "    <tr>\n",
              "      <th>8</th>\n",
              "      <td>199</td>\n",
              "      <td>203</td>\n",
              "      <td>0</td>\n",
              "      <td>81</td>\n",
              "      <td>970</td>\n",
              "      <td>14431089</td>\n",
              "      <td>0</td>\n",
              "      <td>0</td>\n",
              "      <td>0</td>\n",
              "    </tr>\n",
              "    <tr>\n",
              "      <th>9</th>\n",
              "      <td>199</td>\n",
              "      <td>203</td>\n",
              "      <td>0</td>\n",
              "      <td>84</td>\n",
              "      <td>990</td>\n",
              "      <td>14431096</td>\n",
              "      <td>0</td>\n",
              "      <td>0</td>\n",
              "      <td>0</td>\n",
              "    </tr>\n",
              "    <tr>\n",
              "      <th>10</th>\n",
              "      <td>199</td>\n",
              "      <td>203</td>\n",
              "      <td>0</td>\n",
              "      <td>87</td>\n",
              "      <td>970</td>\n",
              "      <td>14431103</td>\n",
              "      <td>0</td>\n",
              "      <td>0</td>\n",
              "      <td>0</td>\n",
              "    </tr>\n",
              "    <tr>\n",
              "      <th>11</th>\n",
              "      <td>199</td>\n",
              "      <td>203</td>\n",
              "      <td>0</td>\n",
              "      <td>87</td>\n",
              "      <td>990</td>\n",
              "      <td>14431110</td>\n",
              "      <td>0</td>\n",
              "      <td>0</td>\n",
              "      <td>0</td>\n",
              "    </tr>\n",
              "    <tr>\n",
              "      <th>12</th>\n",
              "      <td>199</td>\n",
              "      <td>203</td>\n",
              "      <td>0</td>\n",
              "      <td>86</td>\n",
              "      <td>980</td>\n",
              "      <td>14431117</td>\n",
              "      <td>0</td>\n",
              "      <td>0</td>\n",
              "      <td>0</td>\n",
              "    </tr>\n",
              "    <tr>\n",
              "      <th>13</th>\n",
              "      <td>199</td>\n",
              "      <td>203</td>\n",
              "      <td>0</td>\n",
              "      <td>87</td>\n",
              "      <td>980</td>\n",
              "      <td>14431124</td>\n",
              "      <td>0</td>\n",
              "      <td>0</td>\n",
              "      <td>0</td>\n",
              "    </tr>\n",
              "    <tr>\n",
              "      <th>14</th>\n",
              "      <td>199</td>\n",
              "      <td>203</td>\n",
              "      <td>0</td>\n",
              "      <td>87</td>\n",
              "      <td>980</td>\n",
              "      <td>14431131</td>\n",
              "      <td>0</td>\n",
              "      <td>0</td>\n",
              "      <td>0</td>\n",
              "    </tr>\n",
              "    <tr>\n",
              "      <th>15</th>\n",
              "      <td>199</td>\n",
              "      <td>203</td>\n",
              "      <td>0</td>\n",
              "      <td>87</td>\n",
              "      <td>970</td>\n",
              "      <td>14431138</td>\n",
              "      <td>0</td>\n",
              "      <td>0</td>\n",
              "      <td>0</td>\n",
              "    </tr>\n",
              "    <tr>\n",
              "      <th>16</th>\n",
              "      <td>199</td>\n",
              "      <td>203</td>\n",
              "      <td>0</td>\n",
              "      <td>93</td>\n",
              "      <td>990</td>\n",
              "      <td>14431146</td>\n",
              "      <td>0</td>\n",
              "      <td>0</td>\n",
              "      <td>0</td>\n",
              "    </tr>\n",
              "    <tr>\n",
              "      <th>17</th>\n",
              "      <td>199</td>\n",
              "      <td>203</td>\n",
              "      <td>0</td>\n",
              "      <td>102</td>\n",
              "      <td>970</td>\n",
              "      <td>14431153</td>\n",
              "      <td>0</td>\n",
              "      <td>0</td>\n",
              "      <td>0</td>\n",
              "    </tr>\n",
              "    <tr>\n",
              "      <th>18</th>\n",
              "      <td>199</td>\n",
              "      <td>203</td>\n",
              "      <td>0</td>\n",
              "      <td>116</td>\n",
              "      <td>990</td>\n",
              "      <td>14431160</td>\n",
              "      <td>0</td>\n",
              "      <td>0</td>\n",
              "      <td>0</td>\n",
              "    </tr>\n",
              "    <tr>\n",
              "      <th>19</th>\n",
              "      <td>199</td>\n",
              "      <td>203</td>\n",
              "      <td>0</td>\n",
              "      <td>129</td>\n",
              "      <td>990</td>\n",
              "      <td>14431167</td>\n",
              "      <td>0</td>\n",
              "      <td>0</td>\n",
              "      <td>0</td>\n",
              "    </tr>\n",
              "  </tbody>\n",
              "</table>\n",
              "</div>"
            ],
            "text/plain": [
              "      x    y  z  Pressure  GripAngle  TimeStamp  testID  isParkinson  ID\n",
              "0   199  203  0         1        990   14431033       0            0   0\n",
              "1   199  203  0         9        970   14431040       0            0   0\n",
              "2   199  203  0        20        960   14431047       0            0   0\n",
              "3   199  203  0        30        970   14431054       0            0   0\n",
              "4   199  203  0        45        970   14431061       0            0   0\n",
              "5   199  203  0        58        970   14431068       0            0   0\n",
              "6   199  203  0        67        990   14431075       0            0   0\n",
              "7   199  203  0        76        970   14431082       0            0   0\n",
              "8   199  203  0        81        970   14431089       0            0   0\n",
              "9   199  203  0        84        990   14431096       0            0   0\n",
              "10  199  203  0        87        970   14431103       0            0   0\n",
              "11  199  203  0        87        990   14431110       0            0   0\n",
              "12  199  203  0        86        980   14431117       0            0   0\n",
              "13  199  203  0        87        980   14431124       0            0   0\n",
              "14  199  203  0        87        980   14431131       0            0   0\n",
              "15  199  203  0        87        970   14431138       0            0   0\n",
              "16  199  203  0        93        990   14431146       0            0   0\n",
              "17  199  203  0       102        970   14431153       0            0   0\n",
              "18  199  203  0       116        990   14431160       0            0   0\n",
              "19  199  203  0       129        990   14431167       0            0   0"
            ]
          },
          "metadata": {
            "tags": []
          },
          "execution_count": 15
        }
      ]
    },
    {
      "cell_type": "code",
      "metadata": {
        "colab": {
          "base_uri": "https://localhost:8080/",
          "height": 419
        },
        "id": "5MFoCpP2qUhy",
        "outputId": "2f3aec0f-6c81-41f0-861a-6e9e1c780a83"
      },
      "source": [
        "dfs[0].head(70)"
      ],
      "execution_count": 16,
      "outputs": [
        {
          "output_type": "execute_result",
          "data": {
            "text/html": [
              "<div>\n",
              "<style scoped>\n",
              "    .dataframe tbody tr th:only-of-type {\n",
              "        vertical-align: middle;\n",
              "    }\n",
              "\n",
              "    .dataframe tbody tr th {\n",
              "        vertical-align: top;\n",
              "    }\n",
              "\n",
              "    .dataframe thead th {\n",
              "        text-align: right;\n",
              "    }\n",
              "</style>\n",
              "<table border=\"1\" class=\"dataframe\">\n",
              "  <thead>\n",
              "    <tr style=\"text-align: right;\">\n",
              "      <th></th>\n",
              "      <th>x</th>\n",
              "      <th>y</th>\n",
              "      <th>z</th>\n",
              "      <th>Pressure</th>\n",
              "      <th>GripAngle</th>\n",
              "      <th>TimeStamp</th>\n",
              "      <th>testID</th>\n",
              "      <th>isParkinson</th>\n",
              "      <th>ID</th>\n",
              "    </tr>\n",
              "  </thead>\n",
              "  <tbody>\n",
              "    <tr>\n",
              "      <th>0</th>\n",
              "      <td>199</td>\n",
              "      <td>203</td>\n",
              "      <td>0</td>\n",
              "      <td>1</td>\n",
              "      <td>990</td>\n",
              "      <td>14431033</td>\n",
              "      <td>0</td>\n",
              "      <td>0</td>\n",
              "      <td>0</td>\n",
              "    </tr>\n",
              "    <tr>\n",
              "      <th>1</th>\n",
              "      <td>199</td>\n",
              "      <td>203</td>\n",
              "      <td>0</td>\n",
              "      <td>9</td>\n",
              "      <td>970</td>\n",
              "      <td>14431040</td>\n",
              "      <td>0</td>\n",
              "      <td>0</td>\n",
              "      <td>0</td>\n",
              "    </tr>\n",
              "    <tr>\n",
              "      <th>2</th>\n",
              "      <td>199</td>\n",
              "      <td>203</td>\n",
              "      <td>0</td>\n",
              "      <td>20</td>\n",
              "      <td>960</td>\n",
              "      <td>14431047</td>\n",
              "      <td>0</td>\n",
              "      <td>0</td>\n",
              "      <td>0</td>\n",
              "    </tr>\n",
              "    <tr>\n",
              "      <th>3</th>\n",
              "      <td>199</td>\n",
              "      <td>203</td>\n",
              "      <td>0</td>\n",
              "      <td>30</td>\n",
              "      <td>970</td>\n",
              "      <td>14431054</td>\n",
              "      <td>0</td>\n",
              "      <td>0</td>\n",
              "      <td>0</td>\n",
              "    </tr>\n",
              "    <tr>\n",
              "      <th>4</th>\n",
              "      <td>199</td>\n",
              "      <td>203</td>\n",
              "      <td>0</td>\n",
              "      <td>45</td>\n",
              "      <td>970</td>\n",
              "      <td>14431061</td>\n",
              "      <td>0</td>\n",
              "      <td>0</td>\n",
              "      <td>0</td>\n",
              "    </tr>\n",
              "    <tr>\n",
              "      <th>...</th>\n",
              "      <td>...</td>\n",
              "      <td>...</td>\n",
              "      <td>...</td>\n",
              "      <td>...</td>\n",
              "      <td>...</td>\n",
              "      <td>...</td>\n",
              "      <td>...</td>\n",
              "      <td>...</td>\n",
              "      <td>...</td>\n",
              "    </tr>\n",
              "    <tr>\n",
              "      <th>65</th>\n",
              "      <td>198</td>\n",
              "      <td>203</td>\n",
              "      <td>0</td>\n",
              "      <td>442</td>\n",
              "      <td>980</td>\n",
              "      <td>14431490</td>\n",
              "      <td>0</td>\n",
              "      <td>0</td>\n",
              "      <td>0</td>\n",
              "    </tr>\n",
              "    <tr>\n",
              "      <th>66</th>\n",
              "      <td>198</td>\n",
              "      <td>203</td>\n",
              "      <td>0</td>\n",
              "      <td>445</td>\n",
              "      <td>980</td>\n",
              "      <td>14431497</td>\n",
              "      <td>0</td>\n",
              "      <td>0</td>\n",
              "      <td>0</td>\n",
              "    </tr>\n",
              "    <tr>\n",
              "      <th>67</th>\n",
              "      <td>198</td>\n",
              "      <td>203</td>\n",
              "      <td>0</td>\n",
              "      <td>446</td>\n",
              "      <td>980</td>\n",
              "      <td>14431504</td>\n",
              "      <td>0</td>\n",
              "      <td>0</td>\n",
              "      <td>0</td>\n",
              "    </tr>\n",
              "    <tr>\n",
              "      <th>68</th>\n",
              "      <td>198</td>\n",
              "      <td>203</td>\n",
              "      <td>0</td>\n",
              "      <td>449</td>\n",
              "      <td>980</td>\n",
              "      <td>14431512</td>\n",
              "      <td>0</td>\n",
              "      <td>0</td>\n",
              "      <td>0</td>\n",
              "    </tr>\n",
              "    <tr>\n",
              "      <th>69</th>\n",
              "      <td>198</td>\n",
              "      <td>203</td>\n",
              "      <td>0</td>\n",
              "      <td>452</td>\n",
              "      <td>980</td>\n",
              "      <td>14431519</td>\n",
              "      <td>0</td>\n",
              "      <td>0</td>\n",
              "      <td>0</td>\n",
              "    </tr>\n",
              "  </tbody>\n",
              "</table>\n",
              "<p>70 rows × 9 columns</p>\n",
              "</div>"
            ],
            "text/plain": [
              "      x    y  z  Pressure  GripAngle  TimeStamp  testID  isParkinson  ID\n",
              "0   199  203  0         1        990   14431033       0            0   0\n",
              "1   199  203  0         9        970   14431040       0            0   0\n",
              "2   199  203  0        20        960   14431047       0            0   0\n",
              "3   199  203  0        30        970   14431054       0            0   0\n",
              "4   199  203  0        45        970   14431061       0            0   0\n",
              "..  ...  ... ..       ...        ...        ...     ...          ...  ..\n",
              "65  198  203  0       442        980   14431490       0            0   0\n",
              "66  198  203  0       445        980   14431497       0            0   0\n",
              "67  198  203  0       446        980   14431504       0            0   0\n",
              "68  198  203  0       449        980   14431512       0            0   0\n",
              "69  198  203  0       452        980   14431519       0            0   0\n",
              "\n",
              "[70 rows x 9 columns]"
            ]
          },
          "metadata": {
            "tags": []
          },
          "execution_count": 16
        }
      ]
    },
    {
      "cell_type": "code",
      "metadata": {
        "id": "9BXe6DRRmdG7"
      },
      "source": [
        "header_row=[\"X\", \"Y\", \"Z\", \"Pressure\" , \"GripAngle\" , \"Timestamp\" , \"Test_ID\"]"
      ],
      "execution_count": 17,
      "outputs": []
    },
    {
      "cell_type": "code",
      "metadata": {
        "id": "Y9q99gNpmdKp"
      },
      "source": [
        "#@timeit\n",
        "def get_no_strokes(df):\n",
        "    pressure_data=df['Pressure'].to_numpy()\n",
        "    on_surface = (pressure_data>600).astype(int)\n",
        "    return ((np.roll(on_surface, 1) - on_surface) != 0).astype(int).sum()"
      ],
      "execution_count": 18,
      "outputs": []
    },
    {
      "cell_type": "code",
      "metadata": {
        "id": "P-GZTJbVqtWs"
      },
      "source": [
        "#@timeit\n",
        "def get_speed(df):\n",
        "    total_dist=0\n",
        "    duration=df['Timestamp'].to_numpy()[-1]\n",
        "    coords=df[['X', 'Y', 'Z']].to_numpy()\n",
        "    for i in range(10, df.shape[0]):\n",
        "        temp=np.linalg.norm(coords[i, :]-coords[i-10, :])\n",
        "        total_dist+=temp\n",
        "    speed=total_dist/duration\n",
        "    return speed"
      ],
      "execution_count": 19,
      "outputs": []
    },
    {
      "cell_type": "code",
      "metadata": {
        "id": "rOYpHtLFmdM4"
      },
      "source": [
        "#@timeit\n",
        "def get_in_air_time(data):\n",
        "    data=data['Pressure'].to_numpy()\n",
        "    return (data<600).astype(int).sum()"
      ],
      "execution_count": 20,
      "outputs": []
    },
    {
      "cell_type": "code",
      "metadata": {
        "id": "bPWFtVmUmdPz"
      },
      "source": [
        "#@timeit\n",
        "def get_on_surface_time(data):\n",
        "    data=data['Pressure'].to_numpy()\n",
        "    return (data>600).astype(int).sum()"
      ],
      "execution_count": 21,
      "outputs": []
    },
    {
      "cell_type": "code",
      "metadata": {
        "id": "UhiJymTQmdR5"
      },
      "source": [
        "def find_velocity(f):\n",
        "    '''\n",
        "    change in direction and its position\n",
        "    \n",
        "    '''\n",
        "    data_pat=f\n",
        "    Vel = []\n",
        "    horz_Vel = []\n",
        "    horz_vel_mag = []\n",
        "    vert_vel_mag = []\n",
        "    vert_Vel = []\n",
        "    magnitude = []\n",
        "    timestamp_diff =  []\n",
        "    \n",
        "    t = 0\n",
        "    for i in range(len(data_pat)-2):\n",
        "        if t+10 <= len(data_pat)-1:\n",
        "            Vel.append(((data_pat['X'].to_numpy()[t+10] - data_pat['X'].to_numpy()[t])/(data_pat['Timestamp'].to_numpy()[t+10]-data_pat['Timestamp'].to_numpy()[t]) , (data_pat['Y'].to_numpy()[t+10]-data_pat['Y'].to_numpy()[t])/(data_pat['Timestamp'].to_numpy()[t+10]-data_pat['Timestamp'].to_numpy()[t])))\n",
        "            horz_Vel.append((data_pat['X'].to_numpy()[t+10] - data_pat['X'].to_numpy()[t])/(data_pat['Timestamp'].to_numpy()[t+10]-data_pat['Timestamp'].to_numpy()[t]))\n",
        "            \n",
        "            vert_Vel.append((data_pat['Y'].to_numpy()[t+10] - data_pat['Y'].to_numpy()[t])/(data_pat['Timestamp'].to_numpy()[t+10]-data_pat['Timestamp'].to_numpy()[t]))\n",
        "            magnitude.append(sqrt(((data_pat['X'].to_numpy()[t+10]-data_pat['X'].to_numpy()[t])/(data_pat['Timestamp'].to_numpy()[t+10]-data_pat['Timestamp'].to_numpy()[t]))**2 + (((data_pat['Y'].to_numpy()[t+10]-data_pat['Y'].to_numpy()[t])/(data_pat['Timestamp'].to_numpy()[t+10]-data_pat['Timestamp'].to_numpy()[t]))**2)))\n",
        "            timestamp_diff.append(data_pat['Timestamp'].to_numpy()[t+10]-data_pat['Timestamp'].to_numpy()[t])\n",
        "            horz_vel_mag.append(abs(horz_Vel[len(horz_Vel)-1]))\n",
        "            vert_vel_mag.append(abs(vert_Vel[len(vert_Vel)-1]))\n",
        "            t = t+10\n",
        "        else:\n",
        "            break\n",
        "    magnitude_vel = np.mean(magnitude)  \n",
        "    magnitude_horz_vel = np.mean(horz_vel_mag)\n",
        "    magnitude_vert_vel = np.mean(vert_vel_mag)\n",
        "    return Vel,magnitude,timestamp_diff,horz_Vel,vert_Vel,magnitude_vel,magnitude_horz_vel,magnitude_vert_vel"
      ],
      "execution_count": 22,
      "outputs": []
    },
    {
      "cell_type": "code",
      "metadata": {
        "id": "KH_dSRStmdUr"
      },
      "source": [
        "def find_acceleration(f):\n",
        "    '''\n",
        "    change in direction and its velocity\n",
        "   \n",
        "    '''\n",
        "    Vel,magnitude,timestamp_diff,horz_Vel,vert_Vel,magnitude_vel,magnitude_horz_vel,magnitude_vert_vel = find_velocity(f)\n",
        "    accl = []\n",
        "    horz_Accl =  []\n",
        "    vert_Accl = []\n",
        "    magnitude = []\n",
        "    horz_acc_mag = []\n",
        "    vert_acc_mag = []\n",
        "    for i in range(len(Vel)-2):\n",
        "        accl.append(((Vel[i+1][0]-Vel[i][0])/timestamp_diff[i] , (Vel[i+1][1]-Vel[i][1])/timestamp_diff[i]))\n",
        "        horz_Accl.append((horz_Vel[i+1]-horz_Vel[i])/timestamp_diff[i])\n",
        "        vert_Accl.append((vert_Vel[i+1]-vert_Vel[i])/timestamp_diff[i])\n",
        "        horz_acc_mag.append(abs(horz_Accl[len(horz_Accl)-1]))\n",
        "        vert_acc_mag.append(abs(vert_Accl[len(vert_Accl)-1]))\n",
        "        magnitude.append(sqrt(((Vel[i+1][0]-Vel[i][0])/timestamp_diff[i])**2 + ((Vel[i+1][1]-Vel[i][1])/timestamp_diff[i])**2))\n",
        "    \n",
        "    magnitude_acc = np.mean(magnitude)  \n",
        "    magnitude_horz_acc = np.mean(horz_acc_mag)\n",
        "    magnitude_vert_acc = np.mean(vert_acc_mag)\n",
        "    return accl,magnitude,horz_Accl,vert_Accl,timestamp_diff,magnitude_acc,magnitude_horz_acc,magnitude_vert_acc"
      ],
      "execution_count": 23,
      "outputs": []
    },
    {
      "cell_type": "code",
      "metadata": {
        "id": "isxtI-u7mdXt"
      },
      "source": [
        "def find_jerk(f):\n",
        "    accl,magnitude,horz_Accl,vert_Accl,timestamp_diff,magnitude_acc,magnitude_horz_acc,magnitude_vert_acc = find_acceleration(f)\n",
        "    jerk = []\n",
        "    hrz_jerk = []\n",
        "    vert_jerk = []\n",
        "    magnitude = []\n",
        "    horz_jerk_mag = []\n",
        "    vert_jerk_mag = []\n",
        "    \n",
        "    for i in range(len(accl)-2):\n",
        "        jerk.append(((accl[i+1][0]-accl[i][0])/timestamp_diff[i] , (accl[i+1][1]-accl[i][1])/timestamp_diff[i]))\n",
        "        hrz_jerk.append((horz_Accl[i+1]-horz_Accl[i])/timestamp_diff[i])\n",
        "        vert_jerk.append((vert_Accl[i+1]-vert_Accl[i])/timestamp_diff[i])\n",
        "        horz_jerk_mag.append(abs(hrz_jerk[len(hrz_jerk)-1]))\n",
        "        vert_jerk_mag.append(abs(vert_jerk[len(vert_jerk)-1]))\n",
        "        magnitude.append(sqrt(((accl[i+1][0]-accl[i][0])/timestamp_diff[i])**2 + ((accl[i+1][1]-accl[i][1])/timestamp_diff[i])**2))\n",
        "        \n",
        "    magnitude_jerk = np.mean(magnitude)  \n",
        "    magnitude_horz_jerk = np.mean(horz_jerk_mag)\n",
        "    magnitude_vert_jerk = np.mean(vert_jerk_mag)\n",
        "    return jerk,magnitude,hrz_jerk,vert_jerk,timestamp_diff,magnitude_jerk,magnitude_horz_jerk,magnitude_vert_jerk"
      ],
      "execution_count": 24,
      "outputs": []
    },
    {
      "cell_type": "code",
      "metadata": {
        "id": "gnWccrrhmdav"
      },
      "source": [
        "def NCV_per_halfcircle(f):\n",
        "    data_pat=f\n",
        "    Vel = []\n",
        "    ncv = []\n",
        "    temp_ncv = 0\n",
        "    basex = data_pat['X'].to_numpy()[0]\n",
        "    for i in range(len(data_pat)-2):\n",
        "        if data_pat['X'].to_numpy()[i] == basex:\n",
        "            ncv.append(temp_ncv)\n",
        "            temp_ncv = 0\n",
        "            continue\n",
        "            \n",
        "        Vel.append(((data_pat['X'].to_numpy()[i+1] - data_pat['X'].to_numpy()[i])/(data_pat['Timestamp'].to_numpy()[i+1]-data_pat['Timestamp'].to_numpy()[i]) , (data_pat['Y'].to_numpy()[i+1]-data_pat['Y'].to_numpy()[i])/(data_pat['Timestamp'].to_numpy()[i+1]-data_pat['Timestamp'].to_numpy()[i])))\n",
        "        if Vel[len(Vel)-1] != (0,0):\n",
        "            temp_ncv+=1\n",
        "    ncv.append(temp_ncv)\n",
        "    #ncv = list(filter((2).__ne__, ncv))\n",
        "    ncv_Val = np.sum(ncv)/np.count_nonzero(ncv)\n",
        "    return ncv,ncv_Val"
      ],
      "execution_count": 25,
      "outputs": []
    },
    {
      "cell_type": "code",
      "metadata": {
        "id": "wRHECqLjrH7u"
      },
      "source": [
        "def NCA_per_halfcircle(f):\n",
        "    data_pat=f\n",
        "    Vel,magnitude,timestamp_diff,horz_Vel,vert_Vel,magnitude_vel,magnitude_horz_vel,magnitude_vert_vel = find_velocity(f)\n",
        "    accl = []\n",
        "    nca = []\n",
        "    temp_nca = 0\n",
        "    basex = data_pat['X'].to_numpy()[0]\n",
        "    for i in range(len(Vel)-2):\n",
        "        if data_pat['X'].to_numpy()[i] == basex:\n",
        "            nca.append(temp_nca)\n",
        "            #print ('tempNCa::',temp_nca)\n",
        "            temp_nca = 0\n",
        "            continue\n",
        "            \n",
        "        accl.append(((Vel[i+1][0]-Vel[i][0])/timestamp_diff[i] , (Vel[i+1][1]-Vel[i][1])/timestamp_diff[i]))\n",
        "        if accl[len(accl)-1] != (0,0):\n",
        "            temp_nca+=1\n",
        "    nca.append(temp_nca)\n",
        "    nca = list(filter((2).__ne__, nca))\n",
        "    nca_Val = np.sum(nca)/np.count_nonzero(nca)\n",
        "    return nca,nca_Val"
      ],
      "execution_count": 26,
      "outputs": []
    },
    {
      "cell_type": "code",
      "metadata": {
        "id": "VLo3v9WrrL8C"
      },
      "source": [
        "#@timeit\n",
        "def get_features(f, parkinson_target):\n",
        "    global header_row\n",
        "    df=pd.read_csv(f, sep=';', header=None, names=header_row)\n",
        "    \n",
        "    df_static=df[df[\"Test_ID\"]==0]    # static test\n",
        "    df_dynamic=df[df[\"Test_ID\"]==1]    # dynamic test\n",
        "    df_stcp=df[df[\"Test_ID\"]==2]    # STCP\n",
        "    #df_static_dynamic=pd.concat([df_static, df_dynamic])\n",
        "    \n",
        "    initial_timestamp=df['Timestamp'][0]\n",
        "    df['Timestamp']=df['Timestamp']- initial_timestamp # offset timestamps\n",
        "    \n",
        "    duration_static = df_static['Timestamp'].to_numpy()[-1] if df_static.shape[0] else 1\n",
        "    duration_dynamic = df_dynamic['Timestamp'].to_numpy()[-1] if df_dynamic.shape[0] else 1\n",
        "    duration_STCP = df_stcp['Timestamp'].to_numpy()[-1] if df_stcp.shape[0] else 1\n",
        "\n",
        "    \n",
        "    data_point=[]\n",
        "    data_point.append(get_no_strokes(df_static) if df_static.shape[0] else 0) # no. of strokes for static test\n",
        "    data_point.append(get_no_strokes(df_dynamic) if df_dynamic.shape[0] else 0) # no. of strokes for dynamic test\n",
        "    data_point.append(get_speed(df_static) if df_static.shape[0] else 0) # speed for static test\n",
        "    data_point.append(get_speed(df_dynamic) if df_dynamic.shape[0] else 0) # speed for dynamic test\n",
        "\n",
        "    Vel,magnitude,timestamp_diff,horz_Vel,vert_Vel,magnitude_vel,magnitude_horz_vel,magnitude_vert_vel = find_velocity(df_static) if df_static.shape[0] else (0,0,0,0,0,0,0,0) # magnitudes of velocity, horizontal velocity and vertical velocity for static test\n",
        "    data_point.extend([magnitude_vel, magnitude_horz_vel,magnitude_vert_vel])\n",
        "    Vel,magnitude,timestamp_diff,horz_Vel,vert_Vel,magnitude_vel,magnitude_horz_vel,magnitude_vert_vel = find_velocity(df_dynamic) if df_dynamic.shape[0] else (0,0,0,0,0,0,0,0) # magnitudes of velocity, horizontal velocity and vertical velocity for dynamic test\n",
        "    data_point.extend([magnitude_vel, magnitude_horz_vel,magnitude_vert_vel])\n",
        "    \n",
        "    accl,magnitude,horz_Accl,vert_Accl,timestamp_diff,magnitude_acc,magnitude_horz_acc,magnitude_vert_acc=find_acceleration(df_static) if df_static.shape[0] else (0,0,0,0,0,0,0,0)# magnitudes of acceleration, horizontal acceleration and vertical acceleration for static test        \n",
        "    data_point.extend([magnitude_acc,magnitude_horz_acc,magnitude_vert_acc])\n",
        "    accl,magnitude,horz_Accl,vert_Accl,timestamp_diff,magnitude_acc,magnitude_horz_acc,magnitude_vert_acc=find_acceleration(df_dynamic) if df_dynamic.shape[0] else (0,0,0,0,0,0,0,0)# magnitudes of acceleration, horizontal acceleration and vertical acceleration for dynamic test        \n",
        "    data_point.extend([magnitude_acc,magnitude_horz_acc,magnitude_vert_acc])\n",
        "    \n",
        "    jerk,magnitude,hrz_jerk,vert_jerk,timestamp_diff,magnitude_jerk,magnitude_horz_jerk,magnitude_vert_jerk=find_jerk(df_static) if df_static.shape[0] else (0,0,0,0,0,0,0,0) # magnitudes of jerk, horizontal jerk and vertical jerk for static test\n",
        "    data_point.extend([magnitude_jerk,magnitude_horz_jerk,magnitude_vert_jerk])\n",
        "    jerk,magnitude,hrz_jerk,vert_jerk,timestamp_diff,magnitude_jerk,magnitude_horz_jerk,magnitude_vert_jerk=find_jerk(df_dynamic) if df_dynamic.shape[0] else (0,0,0,0,0,0,0,0) # magnitudes of jerk, horizontal jerk and vertical jerk for dynamic test\n",
        "    data_point.extend([magnitude_jerk,magnitude_horz_jerk,magnitude_vert_jerk])\n",
        "    \n",
        "    ncv,ncv_Val=NCV_per_halfcircle(df_static) if df_static.shape[0] else (0,0) # NCV for static test\n",
        "    data_point.append(ncv_Val)\n",
        "    ncv,ncv_Val=NCV_per_halfcircle(df_dynamic) if df_dynamic.shape[0] else (0,0) # NCV for dynamic test\n",
        "    data_point.append(ncv_Val)\n",
        "    \n",
        "    nca,nca_Val=NCA_per_halfcircle(df_static) if df_static.shape[0] else (0,0) # NCA for static test\n",
        "    data_point.append(nca_Val)\n",
        "    nca,nca_Val=NCA_per_halfcircle(df_dynamic) if df_dynamic.shape[0] else (0,0) # NCA for dynamic test\n",
        "    data_point.append(nca_Val)\n",
        "    \n",
        "    data_point.append(get_in_air_time(df_stcp) if df_stcp.shape[0] else 0) # in air time for STCP\n",
        "    data_point.append(get_on_surface_time(df_static) if df_static.shape[0] else 0) # on surface time for static test\n",
        "    data_point.append(get_on_surface_time(df_dynamic) if df_dynamic.shape[0] else 0) # on surface time for dynamic test\n",
        "    \n",
        "    data_point.append(parkinson_target)    # traget. 1 for parkinson. 0 for control.\n",
        "    \n",
        "    return data_point"
      ],
      "execution_count": 27,
      "outputs": []
    },
    {
      "cell_type": "code",
      "metadata": {
        "id": "FszD-SE3rdNv"
      },
      "source": [
        "temp_feat=get_features(parkinson_file_list[10], 1)"
      ],
      "execution_count": 28,
      "outputs": []
    },
    {
      "cell_type": "code",
      "metadata": {
        "colab": {
          "base_uri": "https://localhost:8080/"
        },
        "id": "ULB3IXZLsjV4",
        "outputId": "493f58b6-c7a9-431a-de16-5937db922545"
      },
      "source": [
        "print(temp_feat)"
      ],
      "execution_count": 29,
      "outputs": [
        {
          "output_type": "stream",
          "text": [
            "[4, 6, 0.010126987814961172, 0.009184125353444633, 0.05445614802965261, 0.03569787758649744, 0.03317427796846683, 0.0760646320500834, 0.049734326975706296, 0.04842743463433118, 0.00018766015065952324, 0.00012527728836561933, 0.00010431866995416987, 0.00020000048209027846, 0.0001259588197418885, 0.00011917547962521506, 3.4693836745563745e-06, 2.335721071757737e-06, 2.0102842342453857e-06, 3.2294283608720504e-06, 2.049743698924486e-06, 2.016946716153461e-06, 210.3, 319.5, 67.2, 262.0, 1221, 2712, 2337, 1]\n"
          ],
          "name": "stdout"
        }
      ]
    },
    {
      "cell_type": "code",
      "metadata": {
        "colab": {
          "base_uri": "https://localhost:8080/"
        },
        "id": "avGF7CPgre9l",
        "outputId": "8108361f-8fdd-4aac-d0b0-c3b4c3606ea1"
      },
      "source": [
        "len(parkinson_file_list)"
      ],
      "execution_count": 30,
      "outputs": [
        {
          "output_type": "execute_result",
          "data": {
            "text/plain": [
              "64"
            ]
          },
          "metadata": {
            "tags": []
          },
          "execution_count": 30
        }
      ]
    },
    {
      "cell_type": "code",
      "metadata": {
        "id": "kcUQlGNjrfAV"
      },
      "source": [
        "raw=[]\n",
        "for x in parkinson_file_list:\n",
        "    raw.append(get_features(x, 1))\n",
        "for x in control_file_list:\n",
        "    raw.append(get_features(x, 0))"
      ],
      "execution_count": 33,
      "outputs": []
    },
    {
      "cell_type": "code",
      "metadata": {
        "id": "37C9ZncerfDU"
      },
      "source": [
        "raw=np.array(raw)"
      ],
      "execution_count": 34,
      "outputs": []
    },
    {
      "cell_type": "code",
      "metadata": {
        "id": "PgMtV1BkrfFX"
      },
      "source": [
        "features_headers=['no_strokes_st', 'no_strokes_dy', 'speed_st', 'speed_dy', 'magnitude_vel_st' , 'magnitude_horz_vel_st' , 'magnitude_vert_vel_st', 'magnitude_vel_dy', 'magnitude_horz_vel_dy' , 'magnitude_vert_vel_dy', 'magnitude_acc_st' , 'magnitude_horz_acc_st' , 'magnitude_vert_acc_st','magnitude_acc_dy' , 'magnitude_horz_acc_dy' , 'magnitude_vert_acc_dy', 'magnitude_jerk_st', 'magnitude_horz_jerk_st' , 'magnitude_vert_jerk_st', 'magnitude_jerk_dy', 'magnitude_horz_jerk_dy' , 'magnitude_vert_jerk_dy', 'ncv_st', 'ncv_dy', 'nca_st', 'nca_dy', 'in_air_stcp','on_surface_st', 'on_surface_dy', 'target']"
      ],
      "execution_count": 35,
      "outputs": []
    },
    {
      "cell_type": "code",
      "metadata": {
        "id": "luEksyOYrfH9"
      },
      "source": [
        "data=pd.DataFrame(raw, columns=features_headers)"
      ],
      "execution_count": 36,
      "outputs": []
    },
    {
      "cell_type": "code",
      "metadata": {
        "colab": {
          "base_uri": "https://localhost:8080/",
          "height": 224
        },
        "id": "UbWoS7nPrfKo",
        "outputId": "4049d8f7-9307-40c1-cda2-bcb448d270ff"
      },
      "source": [
        "data.tail()"
      ],
      "execution_count": 37,
      "outputs": [
        {
          "output_type": "execute_result",
          "data": {
            "text/html": [
              "<div>\n",
              "<style scoped>\n",
              "    .dataframe tbody tr th:only-of-type {\n",
              "        vertical-align: middle;\n",
              "    }\n",
              "\n",
              "    .dataframe tbody tr th {\n",
              "        vertical-align: top;\n",
              "    }\n",
              "\n",
              "    .dataframe thead th {\n",
              "        text-align: right;\n",
              "    }\n",
              "</style>\n",
              "<table border=\"1\" class=\"dataframe\">\n",
              "  <thead>\n",
              "    <tr style=\"text-align: right;\">\n",
              "      <th></th>\n",
              "      <th>no_strokes_st</th>\n",
              "      <th>no_strokes_dy</th>\n",
              "      <th>speed_st</th>\n",
              "      <th>speed_dy</th>\n",
              "      <th>magnitude_vel_st</th>\n",
              "      <th>magnitude_horz_vel_st</th>\n",
              "      <th>magnitude_vert_vel_st</th>\n",
              "      <th>magnitude_vel_dy</th>\n",
              "      <th>magnitude_horz_vel_dy</th>\n",
              "      <th>magnitude_vert_vel_dy</th>\n",
              "      <th>magnitude_acc_st</th>\n",
              "      <th>magnitude_horz_acc_st</th>\n",
              "      <th>magnitude_vert_acc_st</th>\n",
              "      <th>magnitude_acc_dy</th>\n",
              "      <th>magnitude_horz_acc_dy</th>\n",
              "      <th>magnitude_vert_acc_dy</th>\n",
              "      <th>magnitude_jerk_st</th>\n",
              "      <th>magnitude_horz_jerk_st</th>\n",
              "      <th>magnitude_vert_jerk_st</th>\n",
              "      <th>magnitude_jerk_dy</th>\n",
              "      <th>magnitude_horz_jerk_dy</th>\n",
              "      <th>magnitude_vert_jerk_dy</th>\n",
              "      <th>ncv_st</th>\n",
              "      <th>ncv_dy</th>\n",
              "      <th>nca_st</th>\n",
              "      <th>nca_dy</th>\n",
              "      <th>in_air_stcp</th>\n",
              "      <th>on_surface_st</th>\n",
              "      <th>on_surface_dy</th>\n",
              "      <th>target</th>\n",
              "    </tr>\n",
              "  </thead>\n",
              "  <tbody>\n",
              "    <tr>\n",
              "      <th>75</th>\n",
              "      <td>0.0</td>\n",
              "      <td>0.0</td>\n",
              "      <td>0.001152</td>\n",
              "      <td>0.001140</td>\n",
              "      <td>0.103493</td>\n",
              "      <td>0.066596</td>\n",
              "      <td>0.064488</td>\n",
              "      <td>0.106868</td>\n",
              "      <td>0.068777</td>\n",
              "      <td>0.067774</td>\n",
              "      <td>0.000400</td>\n",
              "      <td>0.000241</td>\n",
              "      <td>0.000258</td>\n",
              "      <td>0.000409</td>\n",
              "      <td>0.000249</td>\n",
              "      <td>0.000256</td>\n",
              "      <td>0.000009</td>\n",
              "      <td>0.000005</td>\n",
              "      <td>0.000006</td>\n",
              "      <td>0.000008</td>\n",
              "      <td>0.000005</td>\n",
              "      <td>0.000006</td>\n",
              "      <td>277.285714</td>\n",
              "      <td>266.285714</td>\n",
              "      <td>81.333333</td>\n",
              "      <td>117.000000</td>\n",
              "      <td>1536.0</td>\n",
              "      <td>0.0</td>\n",
              "      <td>0.0</td>\n",
              "      <td>0.0</td>\n",
              "    </tr>\n",
              "    <tr>\n",
              "      <th>76</th>\n",
              "      <td>2.0</td>\n",
              "      <td>2.0</td>\n",
              "      <td>0.069104</td>\n",
              "      <td>0.061284</td>\n",
              "      <td>0.091484</td>\n",
              "      <td>0.057594</td>\n",
              "      <td>0.058259</td>\n",
              "      <td>0.089721</td>\n",
              "      <td>0.056244</td>\n",
              "      <td>0.057436</td>\n",
              "      <td>0.000363</td>\n",
              "      <td>0.000203</td>\n",
              "      <td>0.000246</td>\n",
              "      <td>0.000333</td>\n",
              "      <td>0.000219</td>\n",
              "      <td>0.000198</td>\n",
              "      <td>0.000008</td>\n",
              "      <td>0.000005</td>\n",
              "      <td>0.000006</td>\n",
              "      <td>0.000007</td>\n",
              "      <td>0.000005</td>\n",
              "      <td>0.000004</td>\n",
              "      <td>255.125000</td>\n",
              "      <td>282.000000</td>\n",
              "      <td>70.750000</td>\n",
              "      <td>140.000000</td>\n",
              "      <td>0.0</td>\n",
              "      <td>2994.0</td>\n",
              "      <td>3064.0</td>\n",
              "      <td>0.0</td>\n",
              "    </tr>\n",
              "    <tr>\n",
              "      <th>77</th>\n",
              "      <td>6.0</td>\n",
              "      <td>10.0</td>\n",
              "      <td>0.001159</td>\n",
              "      <td>0.001157</td>\n",
              "      <td>0.150016</td>\n",
              "      <td>0.095055</td>\n",
              "      <td>0.095358</td>\n",
              "      <td>0.136387</td>\n",
              "      <td>0.090064</td>\n",
              "      <td>0.085038</td>\n",
              "      <td>0.000554</td>\n",
              "      <td>0.000377</td>\n",
              "      <td>0.000327</td>\n",
              "      <td>0.000475</td>\n",
              "      <td>0.000327</td>\n",
              "      <td>0.000268</td>\n",
              "      <td>0.000010</td>\n",
              "      <td>0.000007</td>\n",
              "      <td>0.000006</td>\n",
              "      <td>0.000009</td>\n",
              "      <td>0.000007</td>\n",
              "      <td>0.000005</td>\n",
              "      <td>189.125000</td>\n",
              "      <td>234.571429</td>\n",
              "      <td>14.000000</td>\n",
              "      <td>58.333333</td>\n",
              "      <td>1536.0</td>\n",
              "      <td>835.0</td>\n",
              "      <td>363.0</td>\n",
              "      <td>0.0</td>\n",
              "    </tr>\n",
              "    <tr>\n",
              "      <th>78</th>\n",
              "      <td>2.0</td>\n",
              "      <td>2.0</td>\n",
              "      <td>0.001387</td>\n",
              "      <td>0.001339</td>\n",
              "      <td>0.088510</td>\n",
              "      <td>0.055965</td>\n",
              "      <td>0.055433</td>\n",
              "      <td>0.114583</td>\n",
              "      <td>0.073060</td>\n",
              "      <td>0.070357</td>\n",
              "      <td>0.000385</td>\n",
              "      <td>0.000247</td>\n",
              "      <td>0.000230</td>\n",
              "      <td>0.000426</td>\n",
              "      <td>0.000292</td>\n",
              "      <td>0.000243</td>\n",
              "      <td>0.000009</td>\n",
              "      <td>0.000006</td>\n",
              "      <td>0.000005</td>\n",
              "      <td>0.000009</td>\n",
              "      <td>0.000006</td>\n",
              "      <td>0.000005</td>\n",
              "      <td>224.222222</td>\n",
              "      <td>227.125000</td>\n",
              "      <td>71.500000</td>\n",
              "      <td>73.666667</td>\n",
              "      <td>1536.0</td>\n",
              "      <td>3029.0</td>\n",
              "      <td>2312.0</td>\n",
              "      <td>0.0</td>\n",
              "    </tr>\n",
              "    <tr>\n",
              "      <th>79</th>\n",
              "      <td>2.0</td>\n",
              "      <td>2.0</td>\n",
              "      <td>0.000012</td>\n",
              "      <td>0.000012</td>\n",
              "      <td>0.101776</td>\n",
              "      <td>0.064709</td>\n",
              "      <td>0.064496</td>\n",
              "      <td>0.112287</td>\n",
              "      <td>0.072237</td>\n",
              "      <td>0.069907</td>\n",
              "      <td>0.000342</td>\n",
              "      <td>0.000194</td>\n",
              "      <td>0.000227</td>\n",
              "      <td>0.000347</td>\n",
              "      <td>0.000208</td>\n",
              "      <td>0.000216</td>\n",
              "      <td>0.000007</td>\n",
              "      <td>0.000004</td>\n",
              "      <td>0.000005</td>\n",
              "      <td>0.000007</td>\n",
              "      <td>0.000004</td>\n",
              "      <td>0.000005</td>\n",
              "      <td>270.000000</td>\n",
              "      <td>253.714286</td>\n",
              "      <td>127.500000</td>\n",
              "      <td>109.000000</td>\n",
              "      <td>0.0</td>\n",
              "      <td>2670.0</td>\n",
              "      <td>2363.0</td>\n",
              "      <td>0.0</td>\n",
              "    </tr>\n",
              "  </tbody>\n",
              "</table>\n",
              "</div>"
            ],
            "text/plain": [
              "    no_strokes_st  no_strokes_dy  ...  on_surface_dy  target\n",
              "75            0.0            0.0  ...            0.0     0.0\n",
              "76            2.0            2.0  ...         3064.0     0.0\n",
              "77            6.0           10.0  ...          363.0     0.0\n",
              "78            2.0            2.0  ...         2312.0     0.0\n",
              "79            2.0            2.0  ...         2363.0     0.0\n",
              "\n",
              "[5 rows x 30 columns]"
            ]
          },
          "metadata": {
            "tags": []
          },
          "execution_count": 37
        }
      ]
    },
    {
      "cell_type": "code",
      "metadata": {
        "colab": {
          "base_uri": "https://localhost:8080/",
          "height": 224
        },
        "id": "2JrX_GROrfOD",
        "outputId": "ddc109d2-c143-4be1-a702-e7221d94b702"
      },
      "source": [
        "data.head()"
      ],
      "execution_count": 38,
      "outputs": [
        {
          "output_type": "execute_result",
          "data": {
            "text/html": [
              "<div>\n",
              "<style scoped>\n",
              "    .dataframe tbody tr th:only-of-type {\n",
              "        vertical-align: middle;\n",
              "    }\n",
              "\n",
              "    .dataframe tbody tr th {\n",
              "        vertical-align: top;\n",
              "    }\n",
              "\n",
              "    .dataframe thead th {\n",
              "        text-align: right;\n",
              "    }\n",
              "</style>\n",
              "<table border=\"1\" class=\"dataframe\">\n",
              "  <thead>\n",
              "    <tr style=\"text-align: right;\">\n",
              "      <th></th>\n",
              "      <th>no_strokes_st</th>\n",
              "      <th>no_strokes_dy</th>\n",
              "      <th>speed_st</th>\n",
              "      <th>speed_dy</th>\n",
              "      <th>magnitude_vel_st</th>\n",
              "      <th>magnitude_horz_vel_st</th>\n",
              "      <th>magnitude_vert_vel_st</th>\n",
              "      <th>magnitude_vel_dy</th>\n",
              "      <th>magnitude_horz_vel_dy</th>\n",
              "      <th>magnitude_vert_vel_dy</th>\n",
              "      <th>magnitude_acc_st</th>\n",
              "      <th>magnitude_horz_acc_st</th>\n",
              "      <th>magnitude_vert_acc_st</th>\n",
              "      <th>magnitude_acc_dy</th>\n",
              "      <th>magnitude_horz_acc_dy</th>\n",
              "      <th>magnitude_vert_acc_dy</th>\n",
              "      <th>magnitude_jerk_st</th>\n",
              "      <th>magnitude_horz_jerk_st</th>\n",
              "      <th>magnitude_vert_jerk_st</th>\n",
              "      <th>magnitude_jerk_dy</th>\n",
              "      <th>magnitude_horz_jerk_dy</th>\n",
              "      <th>magnitude_vert_jerk_dy</th>\n",
              "      <th>ncv_st</th>\n",
              "      <th>ncv_dy</th>\n",
              "      <th>nca_st</th>\n",
              "      <th>nca_dy</th>\n",
              "      <th>in_air_stcp</th>\n",
              "      <th>on_surface_st</th>\n",
              "      <th>on_surface_dy</th>\n",
              "      <th>target</th>\n",
              "    </tr>\n",
              "  </thead>\n",
              "  <tbody>\n",
              "    <tr>\n",
              "      <th>0</th>\n",
              "      <td>0.0</td>\n",
              "      <td>0.0</td>\n",
              "      <td>0.000000</td>\n",
              "      <td>0.000000</td>\n",
              "      <td>0.000000</td>\n",
              "      <td>0.000000</td>\n",
              "      <td>0.000000</td>\n",
              "      <td>0.000000</td>\n",
              "      <td>0.000000</td>\n",
              "      <td>0.000000</td>\n",
              "      <td>0.000000</td>\n",
              "      <td>0.000000</td>\n",
              "      <td>0.000000</td>\n",
              "      <td>0.000000</td>\n",
              "      <td>0.000000</td>\n",
              "      <td>0.000000</td>\n",
              "      <td>0.000000</td>\n",
              "      <td>0.000000</td>\n",
              "      <td>0.000000</td>\n",
              "      <td>0.000000</td>\n",
              "      <td>0.000000</td>\n",
              "      <td>0.000000</td>\n",
              "      <td>0.000000</td>\n",
              "      <td>0.000000</td>\n",
              "      <td>0.000000</td>\n",
              "      <td>0.0</td>\n",
              "      <td>0.0</td>\n",
              "      <td>0.0</td>\n",
              "      <td>0.0</td>\n",
              "      <td>1.0</td>\n",
              "    </tr>\n",
              "    <tr>\n",
              "      <th>1</th>\n",
              "      <td>0.0</td>\n",
              "      <td>0.0</td>\n",
              "      <td>0.000000</td>\n",
              "      <td>0.000000</td>\n",
              "      <td>0.000000</td>\n",
              "      <td>0.000000</td>\n",
              "      <td>0.000000</td>\n",
              "      <td>0.000000</td>\n",
              "      <td>0.000000</td>\n",
              "      <td>0.000000</td>\n",
              "      <td>0.000000</td>\n",
              "      <td>0.000000</td>\n",
              "      <td>0.000000</td>\n",
              "      <td>0.000000</td>\n",
              "      <td>0.000000</td>\n",
              "      <td>0.000000</td>\n",
              "      <td>0.000000</td>\n",
              "      <td>0.000000</td>\n",
              "      <td>0.000000</td>\n",
              "      <td>0.000000</td>\n",
              "      <td>0.000000</td>\n",
              "      <td>0.000000</td>\n",
              "      <td>0.000000</td>\n",
              "      <td>0.000000</td>\n",
              "      <td>0.000000</td>\n",
              "      <td>0.0</td>\n",
              "      <td>0.0</td>\n",
              "      <td>0.0</td>\n",
              "      <td>0.0</td>\n",
              "      <td>1.0</td>\n",
              "    </tr>\n",
              "    <tr>\n",
              "      <th>2</th>\n",
              "      <td>2.0</td>\n",
              "      <td>6.0</td>\n",
              "      <td>0.001793</td>\n",
              "      <td>0.001434</td>\n",
              "      <td>0.041127</td>\n",
              "      <td>0.026362</td>\n",
              "      <td>0.025751</td>\n",
              "      <td>0.059535</td>\n",
              "      <td>0.037716</td>\n",
              "      <td>0.038586</td>\n",
              "      <td>0.000159</td>\n",
              "      <td>0.000095</td>\n",
              "      <td>0.000098</td>\n",
              "      <td>0.000194</td>\n",
              "      <td>0.000118</td>\n",
              "      <td>0.000118</td>\n",
              "      <td>0.000003</td>\n",
              "      <td>0.000002</td>\n",
              "      <td>0.000002</td>\n",
              "      <td>0.000004</td>\n",
              "      <td>0.000002</td>\n",
              "      <td>0.000002</td>\n",
              "      <td>315.714286</td>\n",
              "      <td>299.666667</td>\n",
              "      <td>212.000000</td>\n",
              "      <td>285.0</td>\n",
              "      <td>705.0</td>\n",
              "      <td>4025.0</td>\n",
              "      <td>2487.0</td>\n",
              "      <td>1.0</td>\n",
              "    </tr>\n",
              "    <tr>\n",
              "      <th>3</th>\n",
              "      <td>22.0</td>\n",
              "      <td>12.0</td>\n",
              "      <td>0.001636</td>\n",
              "      <td>0.001620</td>\n",
              "      <td>0.128316</td>\n",
              "      <td>0.083959</td>\n",
              "      <td>0.079109</td>\n",
              "      <td>0.068212</td>\n",
              "      <td>0.042802</td>\n",
              "      <td>0.043473</td>\n",
              "      <td>0.000409</td>\n",
              "      <td>0.000266</td>\n",
              "      <td>0.000253</td>\n",
              "      <td>0.000270</td>\n",
              "      <td>0.000175</td>\n",
              "      <td>0.000163</td>\n",
              "      <td>0.000005</td>\n",
              "      <td>0.000003</td>\n",
              "      <td>0.000003</td>\n",
              "      <td>0.000004</td>\n",
              "      <td>0.000003</td>\n",
              "      <td>0.000003</td>\n",
              "      <td>205.714286</td>\n",
              "      <td>262.285714</td>\n",
              "      <td>53.666667</td>\n",
              "      <td>83.0</td>\n",
              "      <td>206.0</td>\n",
              "      <td>1369.0</td>\n",
              "      <td>2807.0</td>\n",
              "      <td>1.0</td>\n",
              "    </tr>\n",
              "    <tr>\n",
              "      <th>4</th>\n",
              "      <td>54.0</td>\n",
              "      <td>34.0</td>\n",
              "      <td>0.003032</td>\n",
              "      <td>0.002656</td>\n",
              "      <td>0.092602</td>\n",
              "      <td>0.060102</td>\n",
              "      <td>0.057756</td>\n",
              "      <td>0.104627</td>\n",
              "      <td>0.067375</td>\n",
              "      <td>0.066732</td>\n",
              "      <td>0.000406</td>\n",
              "      <td>0.000235</td>\n",
              "      <td>0.000277</td>\n",
              "      <td>0.000422</td>\n",
              "      <td>0.000244</td>\n",
              "      <td>0.000289</td>\n",
              "      <td>0.000008</td>\n",
              "      <td>0.000004</td>\n",
              "      <td>0.000005</td>\n",
              "      <td>0.000007</td>\n",
              "      <td>0.000004</td>\n",
              "      <td>0.000005</td>\n",
              "      <td>310.000000</td>\n",
              "      <td>334.750000</td>\n",
              "      <td>225.000000</td>\n",
              "      <td>75.5</td>\n",
              "      <td>1497.0</td>\n",
              "      <td>1881.0</td>\n",
              "      <td>1592.0</td>\n",
              "      <td>1.0</td>\n",
              "    </tr>\n",
              "  </tbody>\n",
              "</table>\n",
              "</div>"
            ],
            "text/plain": [
              "   no_strokes_st  no_strokes_dy  speed_st  ...  on_surface_st  on_surface_dy  target\n",
              "0            0.0            0.0  0.000000  ...            0.0            0.0     1.0\n",
              "1            0.0            0.0  0.000000  ...            0.0            0.0     1.0\n",
              "2            2.0            6.0  0.001793  ...         4025.0         2487.0     1.0\n",
              "3           22.0           12.0  0.001636  ...         1369.0         2807.0     1.0\n",
              "4           54.0           34.0  0.003032  ...         1881.0         1592.0     1.0\n",
              "\n",
              "[5 rows x 30 columns]"
            ]
          },
          "metadata": {
            "tags": []
          },
          "execution_count": 38
        }
      ]
    },
    {
      "cell_type": "code",
      "metadata": {
        "id": "wPvlMgeCv-5h"
      },
      "source": [
        "data.to_csv('data.csv')"
      ],
      "execution_count": 39,
      "outputs": []
    },
    {
      "cell_type": "code",
      "metadata": {
        "colab": {
          "base_uri": "https://localhost:8080/"
        },
        "id": "xjbwPUVKwD1E",
        "outputId": "3e008f7f-fc9f-4ac4-ec5d-fffddeb65f43"
      },
      "source": [
        "\n",
        "print('data shape', data.shape)"
      ],
      "execution_count": 40,
      "outputs": [
        {
          "output_type": "stream",
          "text": [
            "data shape (80, 30)\n"
          ],
          "name": "stdout"
        }
      ]
    },
    {
      "cell_type": "code",
      "metadata": {
        "colab": {
          "base_uri": "https://localhost:8080/"
        },
        "id": "wM_t_cCSwGDj",
        "outputId": "5283c008-1720-4b8e-d16c-9b9409b6ddd2"
      },
      "source": [
        "pos=data[data['target']==1]\n",
        "neg=data[data['target']==0]\n",
        "\n",
        "train_pos=pos.head(pos.shape[0]-5)\n",
        "train_neg=neg.head(pos.shape[0]-5)\n",
        "train=pd.concat([train_pos, train_neg])\n",
        "print('train shape', train.shape)\n",
        "\n",
        "test_pos=pos.tail(5)\n",
        "test_neg=neg.tail(5)\n",
        "test=pd.concat([test_pos, test_neg])\n",
        "\n",
        "\n",
        "train_y=train['target']\n",
        "train_x=train.drop(['target'], axis=1)\n",
        "test_y=test['target']\n",
        "test_x=test.drop(['target'], axis=1)"
      ],
      "execution_count": 41,
      "outputs": [
        {
          "output_type": "stream",
          "text": [
            "train shape (75, 30)\n"
          ],
          "name": "stdout"
        }
      ]
    },
    {
      "cell_type": "code",
      "metadata": {
        "colab": {
          "base_uri": "https://localhost:8080/"
        },
        "id": "xwaXXEocdOiR",
        "outputId": "8502a6a2-4858-4d81-a016-4d374a2236f7"
      },
      "source": [
        "train_y"
      ],
      "execution_count": 42,
      "outputs": [
        {
          "output_type": "execute_result",
          "data": {
            "text/plain": [
              "0     1.0\n",
              "1     1.0\n",
              "2     1.0\n",
              "3     1.0\n",
              "4     1.0\n",
              "     ... \n",
              "75    0.0\n",
              "76    0.0\n",
              "77    0.0\n",
              "78    0.0\n",
              "79    0.0\n",
              "Name: target, Length: 75, dtype: float64"
            ]
          },
          "metadata": {
            "tags": []
          },
          "execution_count": 42
        }
      ]
    },
    {
      "cell_type": "code",
      "metadata": {
        "colab": {
          "base_uri": "https://localhost:8080/",
          "height": 439
        },
        "id": "kCETGauzdTl1",
        "outputId": "10d82a64-8992-4834-e072-b6c12a7d988f"
      },
      "source": [
        "train_x"
      ],
      "execution_count": 43,
      "outputs": [
        {
          "output_type": "execute_result",
          "data": {
            "text/html": [
              "<div>\n",
              "<style scoped>\n",
              "    .dataframe tbody tr th:only-of-type {\n",
              "        vertical-align: middle;\n",
              "    }\n",
              "\n",
              "    .dataframe tbody tr th {\n",
              "        vertical-align: top;\n",
              "    }\n",
              "\n",
              "    .dataframe thead th {\n",
              "        text-align: right;\n",
              "    }\n",
              "</style>\n",
              "<table border=\"1\" class=\"dataframe\">\n",
              "  <thead>\n",
              "    <tr style=\"text-align: right;\">\n",
              "      <th></th>\n",
              "      <th>no_strokes_st</th>\n",
              "      <th>no_strokes_dy</th>\n",
              "      <th>speed_st</th>\n",
              "      <th>speed_dy</th>\n",
              "      <th>magnitude_vel_st</th>\n",
              "      <th>magnitude_horz_vel_st</th>\n",
              "      <th>magnitude_vert_vel_st</th>\n",
              "      <th>magnitude_vel_dy</th>\n",
              "      <th>magnitude_horz_vel_dy</th>\n",
              "      <th>magnitude_vert_vel_dy</th>\n",
              "      <th>magnitude_acc_st</th>\n",
              "      <th>magnitude_horz_acc_st</th>\n",
              "      <th>magnitude_vert_acc_st</th>\n",
              "      <th>magnitude_acc_dy</th>\n",
              "      <th>magnitude_horz_acc_dy</th>\n",
              "      <th>magnitude_vert_acc_dy</th>\n",
              "      <th>magnitude_jerk_st</th>\n",
              "      <th>magnitude_horz_jerk_st</th>\n",
              "      <th>magnitude_vert_jerk_st</th>\n",
              "      <th>magnitude_jerk_dy</th>\n",
              "      <th>magnitude_horz_jerk_dy</th>\n",
              "      <th>magnitude_vert_jerk_dy</th>\n",
              "      <th>ncv_st</th>\n",
              "      <th>ncv_dy</th>\n",
              "      <th>nca_st</th>\n",
              "      <th>nca_dy</th>\n",
              "      <th>in_air_stcp</th>\n",
              "      <th>on_surface_st</th>\n",
              "      <th>on_surface_dy</th>\n",
              "    </tr>\n",
              "  </thead>\n",
              "  <tbody>\n",
              "    <tr>\n",
              "      <th>0</th>\n",
              "      <td>0.0</td>\n",
              "      <td>0.0</td>\n",
              "      <td>0.000000</td>\n",
              "      <td>0.000000</td>\n",
              "      <td>0.000000</td>\n",
              "      <td>0.000000</td>\n",
              "      <td>0.000000</td>\n",
              "      <td>0.000000</td>\n",
              "      <td>0.000000</td>\n",
              "      <td>0.000000</td>\n",
              "      <td>0.000000</td>\n",
              "      <td>0.000000</td>\n",
              "      <td>0.000000</td>\n",
              "      <td>0.000000</td>\n",
              "      <td>0.000000</td>\n",
              "      <td>0.000000</td>\n",
              "      <td>0.000000</td>\n",
              "      <td>0.000000</td>\n",
              "      <td>0.000000</td>\n",
              "      <td>0.000000</td>\n",
              "      <td>0.000000</td>\n",
              "      <td>0.000000</td>\n",
              "      <td>0.000000</td>\n",
              "      <td>0.000000</td>\n",
              "      <td>0.000000</td>\n",
              "      <td>0.000000</td>\n",
              "      <td>0.0</td>\n",
              "      <td>0.0</td>\n",
              "      <td>0.0</td>\n",
              "    </tr>\n",
              "    <tr>\n",
              "      <th>1</th>\n",
              "      <td>0.0</td>\n",
              "      <td>0.0</td>\n",
              "      <td>0.000000</td>\n",
              "      <td>0.000000</td>\n",
              "      <td>0.000000</td>\n",
              "      <td>0.000000</td>\n",
              "      <td>0.000000</td>\n",
              "      <td>0.000000</td>\n",
              "      <td>0.000000</td>\n",
              "      <td>0.000000</td>\n",
              "      <td>0.000000</td>\n",
              "      <td>0.000000</td>\n",
              "      <td>0.000000</td>\n",
              "      <td>0.000000</td>\n",
              "      <td>0.000000</td>\n",
              "      <td>0.000000</td>\n",
              "      <td>0.000000</td>\n",
              "      <td>0.000000</td>\n",
              "      <td>0.000000</td>\n",
              "      <td>0.000000</td>\n",
              "      <td>0.000000</td>\n",
              "      <td>0.000000</td>\n",
              "      <td>0.000000</td>\n",
              "      <td>0.000000</td>\n",
              "      <td>0.000000</td>\n",
              "      <td>0.000000</td>\n",
              "      <td>0.0</td>\n",
              "      <td>0.0</td>\n",
              "      <td>0.0</td>\n",
              "    </tr>\n",
              "    <tr>\n",
              "      <th>2</th>\n",
              "      <td>2.0</td>\n",
              "      <td>6.0</td>\n",
              "      <td>0.001793</td>\n",
              "      <td>0.001434</td>\n",
              "      <td>0.041127</td>\n",
              "      <td>0.026362</td>\n",
              "      <td>0.025751</td>\n",
              "      <td>0.059535</td>\n",
              "      <td>0.037716</td>\n",
              "      <td>0.038586</td>\n",
              "      <td>0.000159</td>\n",
              "      <td>0.000095</td>\n",
              "      <td>0.000098</td>\n",
              "      <td>0.000194</td>\n",
              "      <td>0.000118</td>\n",
              "      <td>0.000118</td>\n",
              "      <td>0.000003</td>\n",
              "      <td>0.000002</td>\n",
              "      <td>0.000002</td>\n",
              "      <td>0.000004</td>\n",
              "      <td>0.000002</td>\n",
              "      <td>0.000002</td>\n",
              "      <td>315.714286</td>\n",
              "      <td>299.666667</td>\n",
              "      <td>212.000000</td>\n",
              "      <td>285.000000</td>\n",
              "      <td>705.0</td>\n",
              "      <td>4025.0</td>\n",
              "      <td>2487.0</td>\n",
              "    </tr>\n",
              "    <tr>\n",
              "      <th>3</th>\n",
              "      <td>22.0</td>\n",
              "      <td>12.0</td>\n",
              "      <td>0.001636</td>\n",
              "      <td>0.001620</td>\n",
              "      <td>0.128316</td>\n",
              "      <td>0.083959</td>\n",
              "      <td>0.079109</td>\n",
              "      <td>0.068212</td>\n",
              "      <td>0.042802</td>\n",
              "      <td>0.043473</td>\n",
              "      <td>0.000409</td>\n",
              "      <td>0.000266</td>\n",
              "      <td>0.000253</td>\n",
              "      <td>0.000270</td>\n",
              "      <td>0.000175</td>\n",
              "      <td>0.000163</td>\n",
              "      <td>0.000005</td>\n",
              "      <td>0.000003</td>\n",
              "      <td>0.000003</td>\n",
              "      <td>0.000004</td>\n",
              "      <td>0.000003</td>\n",
              "      <td>0.000003</td>\n",
              "      <td>205.714286</td>\n",
              "      <td>262.285714</td>\n",
              "      <td>53.666667</td>\n",
              "      <td>83.000000</td>\n",
              "      <td>206.0</td>\n",
              "      <td>1369.0</td>\n",
              "      <td>2807.0</td>\n",
              "    </tr>\n",
              "    <tr>\n",
              "      <th>4</th>\n",
              "      <td>54.0</td>\n",
              "      <td>34.0</td>\n",
              "      <td>0.003032</td>\n",
              "      <td>0.002656</td>\n",
              "      <td>0.092602</td>\n",
              "      <td>0.060102</td>\n",
              "      <td>0.057756</td>\n",
              "      <td>0.104627</td>\n",
              "      <td>0.067375</td>\n",
              "      <td>0.066732</td>\n",
              "      <td>0.000406</td>\n",
              "      <td>0.000235</td>\n",
              "      <td>0.000277</td>\n",
              "      <td>0.000422</td>\n",
              "      <td>0.000244</td>\n",
              "      <td>0.000289</td>\n",
              "      <td>0.000008</td>\n",
              "      <td>0.000004</td>\n",
              "      <td>0.000005</td>\n",
              "      <td>0.000007</td>\n",
              "      <td>0.000004</td>\n",
              "      <td>0.000005</td>\n",
              "      <td>310.000000</td>\n",
              "      <td>334.750000</td>\n",
              "      <td>225.000000</td>\n",
              "      <td>75.500000</td>\n",
              "      <td>1497.0</td>\n",
              "      <td>1881.0</td>\n",
              "      <td>1592.0</td>\n",
              "    </tr>\n",
              "    <tr>\n",
              "      <th>...</th>\n",
              "      <td>...</td>\n",
              "      <td>...</td>\n",
              "      <td>...</td>\n",
              "      <td>...</td>\n",
              "      <td>...</td>\n",
              "      <td>...</td>\n",
              "      <td>...</td>\n",
              "      <td>...</td>\n",
              "      <td>...</td>\n",
              "      <td>...</td>\n",
              "      <td>...</td>\n",
              "      <td>...</td>\n",
              "      <td>...</td>\n",
              "      <td>...</td>\n",
              "      <td>...</td>\n",
              "      <td>...</td>\n",
              "      <td>...</td>\n",
              "      <td>...</td>\n",
              "      <td>...</td>\n",
              "      <td>...</td>\n",
              "      <td>...</td>\n",
              "      <td>...</td>\n",
              "      <td>...</td>\n",
              "      <td>...</td>\n",
              "      <td>...</td>\n",
              "      <td>...</td>\n",
              "      <td>...</td>\n",
              "      <td>...</td>\n",
              "      <td>...</td>\n",
              "    </tr>\n",
              "    <tr>\n",
              "      <th>75</th>\n",
              "      <td>0.0</td>\n",
              "      <td>0.0</td>\n",
              "      <td>0.001152</td>\n",
              "      <td>0.001140</td>\n",
              "      <td>0.103493</td>\n",
              "      <td>0.066596</td>\n",
              "      <td>0.064488</td>\n",
              "      <td>0.106868</td>\n",
              "      <td>0.068777</td>\n",
              "      <td>0.067774</td>\n",
              "      <td>0.000400</td>\n",
              "      <td>0.000241</td>\n",
              "      <td>0.000258</td>\n",
              "      <td>0.000409</td>\n",
              "      <td>0.000249</td>\n",
              "      <td>0.000256</td>\n",
              "      <td>0.000009</td>\n",
              "      <td>0.000005</td>\n",
              "      <td>0.000006</td>\n",
              "      <td>0.000008</td>\n",
              "      <td>0.000005</td>\n",
              "      <td>0.000006</td>\n",
              "      <td>277.285714</td>\n",
              "      <td>266.285714</td>\n",
              "      <td>81.333333</td>\n",
              "      <td>117.000000</td>\n",
              "      <td>1536.0</td>\n",
              "      <td>0.0</td>\n",
              "      <td>0.0</td>\n",
              "    </tr>\n",
              "    <tr>\n",
              "      <th>76</th>\n",
              "      <td>2.0</td>\n",
              "      <td>2.0</td>\n",
              "      <td>0.069104</td>\n",
              "      <td>0.061284</td>\n",
              "      <td>0.091484</td>\n",
              "      <td>0.057594</td>\n",
              "      <td>0.058259</td>\n",
              "      <td>0.089721</td>\n",
              "      <td>0.056244</td>\n",
              "      <td>0.057436</td>\n",
              "      <td>0.000363</td>\n",
              "      <td>0.000203</td>\n",
              "      <td>0.000246</td>\n",
              "      <td>0.000333</td>\n",
              "      <td>0.000219</td>\n",
              "      <td>0.000198</td>\n",
              "      <td>0.000008</td>\n",
              "      <td>0.000005</td>\n",
              "      <td>0.000006</td>\n",
              "      <td>0.000007</td>\n",
              "      <td>0.000005</td>\n",
              "      <td>0.000004</td>\n",
              "      <td>255.125000</td>\n",
              "      <td>282.000000</td>\n",
              "      <td>70.750000</td>\n",
              "      <td>140.000000</td>\n",
              "      <td>0.0</td>\n",
              "      <td>2994.0</td>\n",
              "      <td>3064.0</td>\n",
              "    </tr>\n",
              "    <tr>\n",
              "      <th>77</th>\n",
              "      <td>6.0</td>\n",
              "      <td>10.0</td>\n",
              "      <td>0.001159</td>\n",
              "      <td>0.001157</td>\n",
              "      <td>0.150016</td>\n",
              "      <td>0.095055</td>\n",
              "      <td>0.095358</td>\n",
              "      <td>0.136387</td>\n",
              "      <td>0.090064</td>\n",
              "      <td>0.085038</td>\n",
              "      <td>0.000554</td>\n",
              "      <td>0.000377</td>\n",
              "      <td>0.000327</td>\n",
              "      <td>0.000475</td>\n",
              "      <td>0.000327</td>\n",
              "      <td>0.000268</td>\n",
              "      <td>0.000010</td>\n",
              "      <td>0.000007</td>\n",
              "      <td>0.000006</td>\n",
              "      <td>0.000009</td>\n",
              "      <td>0.000007</td>\n",
              "      <td>0.000005</td>\n",
              "      <td>189.125000</td>\n",
              "      <td>234.571429</td>\n",
              "      <td>14.000000</td>\n",
              "      <td>58.333333</td>\n",
              "      <td>1536.0</td>\n",
              "      <td>835.0</td>\n",
              "      <td>363.0</td>\n",
              "    </tr>\n",
              "    <tr>\n",
              "      <th>78</th>\n",
              "      <td>2.0</td>\n",
              "      <td>2.0</td>\n",
              "      <td>0.001387</td>\n",
              "      <td>0.001339</td>\n",
              "      <td>0.088510</td>\n",
              "      <td>0.055965</td>\n",
              "      <td>0.055433</td>\n",
              "      <td>0.114583</td>\n",
              "      <td>0.073060</td>\n",
              "      <td>0.070357</td>\n",
              "      <td>0.000385</td>\n",
              "      <td>0.000247</td>\n",
              "      <td>0.000230</td>\n",
              "      <td>0.000426</td>\n",
              "      <td>0.000292</td>\n",
              "      <td>0.000243</td>\n",
              "      <td>0.000009</td>\n",
              "      <td>0.000006</td>\n",
              "      <td>0.000005</td>\n",
              "      <td>0.000009</td>\n",
              "      <td>0.000006</td>\n",
              "      <td>0.000005</td>\n",
              "      <td>224.222222</td>\n",
              "      <td>227.125000</td>\n",
              "      <td>71.500000</td>\n",
              "      <td>73.666667</td>\n",
              "      <td>1536.0</td>\n",
              "      <td>3029.0</td>\n",
              "      <td>2312.0</td>\n",
              "    </tr>\n",
              "    <tr>\n",
              "      <th>79</th>\n",
              "      <td>2.0</td>\n",
              "      <td>2.0</td>\n",
              "      <td>0.000012</td>\n",
              "      <td>0.000012</td>\n",
              "      <td>0.101776</td>\n",
              "      <td>0.064709</td>\n",
              "      <td>0.064496</td>\n",
              "      <td>0.112287</td>\n",
              "      <td>0.072237</td>\n",
              "      <td>0.069907</td>\n",
              "      <td>0.000342</td>\n",
              "      <td>0.000194</td>\n",
              "      <td>0.000227</td>\n",
              "      <td>0.000347</td>\n",
              "      <td>0.000208</td>\n",
              "      <td>0.000216</td>\n",
              "      <td>0.000007</td>\n",
              "      <td>0.000004</td>\n",
              "      <td>0.000005</td>\n",
              "      <td>0.000007</td>\n",
              "      <td>0.000004</td>\n",
              "      <td>0.000005</td>\n",
              "      <td>270.000000</td>\n",
              "      <td>253.714286</td>\n",
              "      <td>127.500000</td>\n",
              "      <td>109.000000</td>\n",
              "      <td>0.0</td>\n",
              "      <td>2670.0</td>\n",
              "      <td>2363.0</td>\n",
              "    </tr>\n",
              "  </tbody>\n",
              "</table>\n",
              "<p>75 rows × 29 columns</p>\n",
              "</div>"
            ],
            "text/plain": [
              "    no_strokes_st  no_strokes_dy  ...  on_surface_st  on_surface_dy\n",
              "0             0.0            0.0  ...            0.0            0.0\n",
              "1             0.0            0.0  ...            0.0            0.0\n",
              "2             2.0            6.0  ...         4025.0         2487.0\n",
              "3            22.0           12.0  ...         1369.0         2807.0\n",
              "4            54.0           34.0  ...         1881.0         1592.0\n",
              "..            ...            ...  ...            ...            ...\n",
              "75            0.0            0.0  ...            0.0            0.0\n",
              "76            2.0            2.0  ...         2994.0         3064.0\n",
              "77            6.0           10.0  ...          835.0          363.0\n",
              "78            2.0            2.0  ...         3029.0         2312.0\n",
              "79            2.0            2.0  ...         2670.0         2363.0\n",
              "\n",
              "[75 rows x 29 columns]"
            ]
          },
          "metadata": {
            "tags": []
          },
          "execution_count": 43
        }
      ]
    },
    {
      "cell_type": "code",
      "metadata": {
        "colab": {
          "base_uri": "https://localhost:8080/"
        },
        "id": "Byv0ODL5dXps",
        "outputId": "478275bd-3650-4af6-b769-0ec9e05ea310"
      },
      "source": [
        "test_y"
      ],
      "execution_count": 44,
      "outputs": [
        {
          "output_type": "execute_result",
          "data": {
            "text/plain": [
              "59    1.0\n",
              "60    1.0\n",
              "61    1.0\n",
              "62    1.0\n",
              "63    1.0\n",
              "75    0.0\n",
              "76    0.0\n",
              "77    0.0\n",
              "78    0.0\n",
              "79    0.0\n",
              "Name: target, dtype: float64"
            ]
          },
          "metadata": {
            "tags": []
          },
          "execution_count": 44
        }
      ]
    },
    {
      "cell_type": "code",
      "metadata": {
        "colab": {
          "base_uri": "https://localhost:8080/",
          "height": 379
        },
        "id": "zjFZakXZdfnq",
        "outputId": "3312380c-3271-43ab-dcf3-8844264b9c82"
      },
      "source": [
        "test_x"
      ],
      "execution_count": 45,
      "outputs": [
        {
          "output_type": "execute_result",
          "data": {
            "text/html": [
              "<div>\n",
              "<style scoped>\n",
              "    .dataframe tbody tr th:only-of-type {\n",
              "        vertical-align: middle;\n",
              "    }\n",
              "\n",
              "    .dataframe tbody tr th {\n",
              "        vertical-align: top;\n",
              "    }\n",
              "\n",
              "    .dataframe thead th {\n",
              "        text-align: right;\n",
              "    }\n",
              "</style>\n",
              "<table border=\"1\" class=\"dataframe\">\n",
              "  <thead>\n",
              "    <tr style=\"text-align: right;\">\n",
              "      <th></th>\n",
              "      <th>no_strokes_st</th>\n",
              "      <th>no_strokes_dy</th>\n",
              "      <th>speed_st</th>\n",
              "      <th>speed_dy</th>\n",
              "      <th>magnitude_vel_st</th>\n",
              "      <th>magnitude_horz_vel_st</th>\n",
              "      <th>magnitude_vert_vel_st</th>\n",
              "      <th>magnitude_vel_dy</th>\n",
              "      <th>magnitude_horz_vel_dy</th>\n",
              "      <th>magnitude_vert_vel_dy</th>\n",
              "      <th>magnitude_acc_st</th>\n",
              "      <th>magnitude_horz_acc_st</th>\n",
              "      <th>magnitude_vert_acc_st</th>\n",
              "      <th>magnitude_acc_dy</th>\n",
              "      <th>magnitude_horz_acc_dy</th>\n",
              "      <th>magnitude_vert_acc_dy</th>\n",
              "      <th>magnitude_jerk_st</th>\n",
              "      <th>magnitude_horz_jerk_st</th>\n",
              "      <th>magnitude_vert_jerk_st</th>\n",
              "      <th>magnitude_jerk_dy</th>\n",
              "      <th>magnitude_horz_jerk_dy</th>\n",
              "      <th>magnitude_vert_jerk_dy</th>\n",
              "      <th>ncv_st</th>\n",
              "      <th>ncv_dy</th>\n",
              "      <th>nca_st</th>\n",
              "      <th>nca_dy</th>\n",
              "      <th>in_air_stcp</th>\n",
              "      <th>on_surface_st</th>\n",
              "      <th>on_surface_dy</th>\n",
              "    </tr>\n",
              "  </thead>\n",
              "  <tbody>\n",
              "    <tr>\n",
              "      <th>59</th>\n",
              "      <td>2.0</td>\n",
              "      <td>2.0</td>\n",
              "      <td>0.004495</td>\n",
              "      <td>0.004138</td>\n",
              "      <td>0.282933</td>\n",
              "      <td>0.232494</td>\n",
              "      <td>0.124390</td>\n",
              "      <td>0.233773</td>\n",
              "      <td>0.191026</td>\n",
              "      <td>0.102773</td>\n",
              "      <td>0.001433</td>\n",
              "      <td>0.001273</td>\n",
              "      <td>0.000421</td>\n",
              "      <td>0.001167</td>\n",
              "      <td>0.001010</td>\n",
              "      <td>0.000403</td>\n",
              "      <td>0.000028</td>\n",
              "      <td>0.000026</td>\n",
              "      <td>0.000007</td>\n",
              "      <td>0.000024</td>\n",
              "      <td>0.000022</td>\n",
              "      <td>0.000007</td>\n",
              "      <td>643.000000</td>\n",
              "      <td>193.428571</td>\n",
              "      <td>135.000000</td>\n",
              "      <td>37.750000</td>\n",
              "      <td>0.0</td>\n",
              "      <td>1170.0</td>\n",
              "      <td>1527.0</td>\n",
              "    </tr>\n",
              "    <tr>\n",
              "      <th>60</th>\n",
              "      <td>44.0</td>\n",
              "      <td>0.0</td>\n",
              "      <td>0.000009</td>\n",
              "      <td>0.000009</td>\n",
              "      <td>0.157871</td>\n",
              "      <td>0.103463</td>\n",
              "      <td>0.093055</td>\n",
              "      <td>0.207649</td>\n",
              "      <td>0.130071</td>\n",
              "      <td>0.130124</td>\n",
              "      <td>0.000620</td>\n",
              "      <td>0.000362</td>\n",
              "      <td>0.000415</td>\n",
              "      <td>0.001358</td>\n",
              "      <td>0.000831</td>\n",
              "      <td>0.000982</td>\n",
              "      <td>0.000012</td>\n",
              "      <td>0.000007</td>\n",
              "      <td>0.000009</td>\n",
              "      <td>0.000030</td>\n",
              "      <td>0.000018</td>\n",
              "      <td>0.000023</td>\n",
              "      <td>174.555556</td>\n",
              "      <td>443.666667</td>\n",
              "      <td>89.000000</td>\n",
              "      <td>147.000000</td>\n",
              "      <td>2267.0</td>\n",
              "      <td>513.0</td>\n",
              "      <td>0.0</td>\n",
              "    </tr>\n",
              "    <tr>\n",
              "      <th>61</th>\n",
              "      <td>0.0</td>\n",
              "      <td>0.0</td>\n",
              "      <td>0.000010</td>\n",
              "      <td>0.000009</td>\n",
              "      <td>0.208928</td>\n",
              "      <td>0.130988</td>\n",
              "      <td>0.133271</td>\n",
              "      <td>0.199471</td>\n",
              "      <td>0.122773</td>\n",
              "      <td>0.133141</td>\n",
              "      <td>0.000773</td>\n",
              "      <td>0.000553</td>\n",
              "      <td>0.000410</td>\n",
              "      <td>0.000840</td>\n",
              "      <td>0.000530</td>\n",
              "      <td>0.000546</td>\n",
              "      <td>0.000013</td>\n",
              "      <td>0.000010</td>\n",
              "      <td>0.000006</td>\n",
              "      <td>0.000011</td>\n",
              "      <td>0.000009</td>\n",
              "      <td>0.000005</td>\n",
              "      <td>174.500000</td>\n",
              "      <td>264.333333</td>\n",
              "      <td>31.000000</td>\n",
              "      <td>96.000000</td>\n",
              "      <td>2403.0</td>\n",
              "      <td>0.0</td>\n",
              "      <td>0.0</td>\n",
              "    </tr>\n",
              "    <tr>\n",
              "      <th>62</th>\n",
              "      <td>2.0</td>\n",
              "      <td>2.0</td>\n",
              "      <td>0.000251</td>\n",
              "      <td>0.000238</td>\n",
              "      <td>0.199831</td>\n",
              "      <td>0.128719</td>\n",
              "      <td>0.124814</td>\n",
              "      <td>0.275863</td>\n",
              "      <td>0.171905</td>\n",
              "      <td>0.178293</td>\n",
              "      <td>0.000680</td>\n",
              "      <td>0.000432</td>\n",
              "      <td>0.000444</td>\n",
              "      <td>0.001092</td>\n",
              "      <td>0.000690</td>\n",
              "      <td>0.000710</td>\n",
              "      <td>0.000012</td>\n",
              "      <td>0.000009</td>\n",
              "      <td>0.000007</td>\n",
              "      <td>0.000015</td>\n",
              "      <td>0.000010</td>\n",
              "      <td>0.000009</td>\n",
              "      <td>135.888889</td>\n",
              "      <td>208.250000</td>\n",
              "      <td>19.833333</td>\n",
              "      <td>24.000000</td>\n",
              "      <td>0.0</td>\n",
              "      <td>1299.0</td>\n",
              "      <td>885.0</td>\n",
              "    </tr>\n",
              "    <tr>\n",
              "      <th>63</th>\n",
              "      <td>16.0</td>\n",
              "      <td>2.0</td>\n",
              "      <td>0.000011</td>\n",
              "      <td>0.000015</td>\n",
              "      <td>0.158056</td>\n",
              "      <td>0.099742</td>\n",
              "      <td>0.101824</td>\n",
              "      <td>0.292125</td>\n",
              "      <td>0.184873</td>\n",
              "      <td>0.190290</td>\n",
              "      <td>0.000469</td>\n",
              "      <td>0.000261</td>\n",
              "      <td>0.000329</td>\n",
              "      <td>0.001137</td>\n",
              "      <td>0.000691</td>\n",
              "      <td>0.000761</td>\n",
              "      <td>0.000009</td>\n",
              "      <td>0.000005</td>\n",
              "      <td>0.000007</td>\n",
              "      <td>0.000015</td>\n",
              "      <td>0.000009</td>\n",
              "      <td>0.000011</td>\n",
              "      <td>261.166667</td>\n",
              "      <td>230.200000</td>\n",
              "      <td>78.000000</td>\n",
              "      <td>40.000000</td>\n",
              "      <td>2181.0</td>\n",
              "      <td>1117.0</td>\n",
              "      <td>1059.0</td>\n",
              "    </tr>\n",
              "    <tr>\n",
              "      <th>75</th>\n",
              "      <td>0.0</td>\n",
              "      <td>0.0</td>\n",
              "      <td>0.001152</td>\n",
              "      <td>0.001140</td>\n",
              "      <td>0.103493</td>\n",
              "      <td>0.066596</td>\n",
              "      <td>0.064488</td>\n",
              "      <td>0.106868</td>\n",
              "      <td>0.068777</td>\n",
              "      <td>0.067774</td>\n",
              "      <td>0.000400</td>\n",
              "      <td>0.000241</td>\n",
              "      <td>0.000258</td>\n",
              "      <td>0.000409</td>\n",
              "      <td>0.000249</td>\n",
              "      <td>0.000256</td>\n",
              "      <td>0.000009</td>\n",
              "      <td>0.000005</td>\n",
              "      <td>0.000006</td>\n",
              "      <td>0.000008</td>\n",
              "      <td>0.000005</td>\n",
              "      <td>0.000006</td>\n",
              "      <td>277.285714</td>\n",
              "      <td>266.285714</td>\n",
              "      <td>81.333333</td>\n",
              "      <td>117.000000</td>\n",
              "      <td>1536.0</td>\n",
              "      <td>0.0</td>\n",
              "      <td>0.0</td>\n",
              "    </tr>\n",
              "    <tr>\n",
              "      <th>76</th>\n",
              "      <td>2.0</td>\n",
              "      <td>2.0</td>\n",
              "      <td>0.069104</td>\n",
              "      <td>0.061284</td>\n",
              "      <td>0.091484</td>\n",
              "      <td>0.057594</td>\n",
              "      <td>0.058259</td>\n",
              "      <td>0.089721</td>\n",
              "      <td>0.056244</td>\n",
              "      <td>0.057436</td>\n",
              "      <td>0.000363</td>\n",
              "      <td>0.000203</td>\n",
              "      <td>0.000246</td>\n",
              "      <td>0.000333</td>\n",
              "      <td>0.000219</td>\n",
              "      <td>0.000198</td>\n",
              "      <td>0.000008</td>\n",
              "      <td>0.000005</td>\n",
              "      <td>0.000006</td>\n",
              "      <td>0.000007</td>\n",
              "      <td>0.000005</td>\n",
              "      <td>0.000004</td>\n",
              "      <td>255.125000</td>\n",
              "      <td>282.000000</td>\n",
              "      <td>70.750000</td>\n",
              "      <td>140.000000</td>\n",
              "      <td>0.0</td>\n",
              "      <td>2994.0</td>\n",
              "      <td>3064.0</td>\n",
              "    </tr>\n",
              "    <tr>\n",
              "      <th>77</th>\n",
              "      <td>6.0</td>\n",
              "      <td>10.0</td>\n",
              "      <td>0.001159</td>\n",
              "      <td>0.001157</td>\n",
              "      <td>0.150016</td>\n",
              "      <td>0.095055</td>\n",
              "      <td>0.095358</td>\n",
              "      <td>0.136387</td>\n",
              "      <td>0.090064</td>\n",
              "      <td>0.085038</td>\n",
              "      <td>0.000554</td>\n",
              "      <td>0.000377</td>\n",
              "      <td>0.000327</td>\n",
              "      <td>0.000475</td>\n",
              "      <td>0.000327</td>\n",
              "      <td>0.000268</td>\n",
              "      <td>0.000010</td>\n",
              "      <td>0.000007</td>\n",
              "      <td>0.000006</td>\n",
              "      <td>0.000009</td>\n",
              "      <td>0.000007</td>\n",
              "      <td>0.000005</td>\n",
              "      <td>189.125000</td>\n",
              "      <td>234.571429</td>\n",
              "      <td>14.000000</td>\n",
              "      <td>58.333333</td>\n",
              "      <td>1536.0</td>\n",
              "      <td>835.0</td>\n",
              "      <td>363.0</td>\n",
              "    </tr>\n",
              "    <tr>\n",
              "      <th>78</th>\n",
              "      <td>2.0</td>\n",
              "      <td>2.0</td>\n",
              "      <td>0.001387</td>\n",
              "      <td>0.001339</td>\n",
              "      <td>0.088510</td>\n",
              "      <td>0.055965</td>\n",
              "      <td>0.055433</td>\n",
              "      <td>0.114583</td>\n",
              "      <td>0.073060</td>\n",
              "      <td>0.070357</td>\n",
              "      <td>0.000385</td>\n",
              "      <td>0.000247</td>\n",
              "      <td>0.000230</td>\n",
              "      <td>0.000426</td>\n",
              "      <td>0.000292</td>\n",
              "      <td>0.000243</td>\n",
              "      <td>0.000009</td>\n",
              "      <td>0.000006</td>\n",
              "      <td>0.000005</td>\n",
              "      <td>0.000009</td>\n",
              "      <td>0.000006</td>\n",
              "      <td>0.000005</td>\n",
              "      <td>224.222222</td>\n",
              "      <td>227.125000</td>\n",
              "      <td>71.500000</td>\n",
              "      <td>73.666667</td>\n",
              "      <td>1536.0</td>\n",
              "      <td>3029.0</td>\n",
              "      <td>2312.0</td>\n",
              "    </tr>\n",
              "    <tr>\n",
              "      <th>79</th>\n",
              "      <td>2.0</td>\n",
              "      <td>2.0</td>\n",
              "      <td>0.000012</td>\n",
              "      <td>0.000012</td>\n",
              "      <td>0.101776</td>\n",
              "      <td>0.064709</td>\n",
              "      <td>0.064496</td>\n",
              "      <td>0.112287</td>\n",
              "      <td>0.072237</td>\n",
              "      <td>0.069907</td>\n",
              "      <td>0.000342</td>\n",
              "      <td>0.000194</td>\n",
              "      <td>0.000227</td>\n",
              "      <td>0.000347</td>\n",
              "      <td>0.000208</td>\n",
              "      <td>0.000216</td>\n",
              "      <td>0.000007</td>\n",
              "      <td>0.000004</td>\n",
              "      <td>0.000005</td>\n",
              "      <td>0.000007</td>\n",
              "      <td>0.000004</td>\n",
              "      <td>0.000005</td>\n",
              "      <td>270.000000</td>\n",
              "      <td>253.714286</td>\n",
              "      <td>127.500000</td>\n",
              "      <td>109.000000</td>\n",
              "      <td>0.0</td>\n",
              "      <td>2670.0</td>\n",
              "      <td>2363.0</td>\n",
              "    </tr>\n",
              "  </tbody>\n",
              "</table>\n",
              "</div>"
            ],
            "text/plain": [
              "    no_strokes_st  no_strokes_dy  ...  on_surface_st  on_surface_dy\n",
              "59            2.0            2.0  ...         1170.0         1527.0\n",
              "60           44.0            0.0  ...          513.0            0.0\n",
              "61            0.0            0.0  ...            0.0            0.0\n",
              "62            2.0            2.0  ...         1299.0          885.0\n",
              "63           16.0            2.0  ...         1117.0         1059.0\n",
              "75            0.0            0.0  ...            0.0            0.0\n",
              "76            2.0            2.0  ...         2994.0         3064.0\n",
              "77            6.0           10.0  ...          835.0          363.0\n",
              "78            2.0            2.0  ...         3029.0         2312.0\n",
              "79            2.0            2.0  ...         2670.0         2363.0\n",
              "\n",
              "[10 rows x 29 columns]"
            ]
          },
          "metadata": {
            "tags": []
          },
          "execution_count": 45
        }
      ]
    },
    {
      "cell_type": "code",
      "metadata": {
        "id": "lBqbQG0NPiky"
      },
      "source": [
        "def accuracy(prediction,actual):\n",
        "    correct = 0\n",
        "    not_correct = 0\n",
        "    for i in range(len(prediction)):\n",
        "        if prediction[i] == actual[i]:\n",
        "            correct+=1\n",
        "        else:\n",
        "            not_correct+=1\n",
        "    return (correct*100)/(correct+not_correct)\n",
        "\n",
        "\n",
        "def metrics(prediction,actual):\n",
        "    tp = 0\n",
        "    tn = 0\n",
        "    fp = 0\n",
        "    fn = 0\n",
        "    for i in range(len(prediction)):\n",
        "        if prediction[i] == actual[i] and actual[i]==1:\n",
        "            tp+=1\n",
        "        if prediction[i] == actual[i] and actual[i]==0:\n",
        "            tn+=1\n",
        "        if prediction[i] != actual[i] and actual[i]==0:\n",
        "            fp+=1\n",
        "        if prediction[i] != actual[i] and actual[i]==1:\n",
        "            fn+=1\n",
        "    metrics = {'Precision':(tp/(tp+fp+tn+fn)),'Recall':(tp/(tp+fn)),'F1':(2*(tp/(tp+fp+tn+fn))*(tp/(tp+fn)))/((tp/(tp+fp+tn+fn))+(tp/(tp+fn)))}\n",
        "    return (metrics)"
      ],
      "execution_count": 58,
      "outputs": []
    },
    {
      "cell_type": "code",
      "metadata": {
        "id": "uVdzBHL8Pinq"
      },
      "source": [
        "from sklearn.linear_model import LogisticRegression\n",
        "from sklearn.ensemble import RandomForestClassifier\n",
        "from sklearn.svm import SVC\n",
        "from sklearn.tree import DecisionTreeClassifier\n",
        "from sklearn.neighbors import KNeighborsClassifier"
      ],
      "execution_count": 47,
      "outputs": []
    },
    {
      "cell_type": "code",
      "metadata": {
        "colab": {
          "base_uri": "https://localhost:8080/"
        },
        "id": "WiuMoE52Piq9",
        "outputId": "eb2bef5d-f91c-4c43-ddf3-d66c9014707a"
      },
      "source": [
        "clf=LogisticRegression()\n",
        "clf.fit(train_x, train_y)\n",
        "preds=clf.predict(test_x)\n",
        "print('accuracy:',accuracy(test_y.tolist(), preds.tolist()), '%')\n",
        "print(metrics(test_y.tolist(), preds.tolist()))"
      ],
      "execution_count": 48,
      "outputs": [
        {
          "output_type": "stream",
          "text": [
            "accuracy: 50.0 %\n",
            "{'Precision': 0.5, 'Recall': 0.5, 'F1': 0.5}\n"
          ],
          "name": "stdout"
        },
        {
          "output_type": "stream",
          "text": [
            "/usr/local/lib/python3.7/dist-packages/sklearn/linear_model/_logistic.py:940: ConvergenceWarning: lbfgs failed to converge (status=1):\n",
            "STOP: TOTAL NO. of ITERATIONS REACHED LIMIT.\n",
            "\n",
            "Increase the number of iterations (max_iter) or scale the data as shown in:\n",
            "    https://scikit-learn.org/stable/modules/preprocessing.html\n",
            "Please also refer to the documentation for alternative solver options:\n",
            "    https://scikit-learn.org/stable/modules/linear_model.html#logistic-regression\n",
            "  extra_warning_msg=_LOGISTIC_SOLVER_CONVERGENCE_MSG)\n"
          ],
          "name": "stderr"
        }
      ]
    },
    {
      "cell_type": "code",
      "metadata": {
        "colab": {
          "base_uri": "https://localhost:8080/"
        },
        "id": "PiWX7Fl2Pitv",
        "outputId": "d178fde1-90aa-4a3d-cdd3-5cab6a1fae60"
      },
      "source": [
        "clf=RandomForestClassifier()\n",
        "clf.fit(train_x, train_y)\n",
        "preds=clf.predict(test_x)\n",
        "print('accuracy:',accuracy(test_y.tolist(), preds.tolist()), '%')\n",
        "print(metrics(test_y.tolist(), preds.tolist()))\n"
      ],
      "execution_count": 49,
      "outputs": [
        {
          "output_type": "stream",
          "text": [
            "accuracy: 100.0 %\n",
            "{'Precision': 0.5, 'Recall': 1.0, 'F1': 0.6666666666666666}\n"
          ],
          "name": "stdout"
        }
      ]
    },
    {
      "cell_type": "code",
      "metadata": {
        "id": "hd4T3pjscq2u"
      },
      "source": [
        "from sklearn.preprocessing import LabelEncoder,LabelBinarizer\n",
        "le = LabelEncoder()\n",
        "\n",
        "trainY = le.fit_transform(train_y)\n",
        "testY = le.transform(test_y)"
      ],
      "execution_count": 50,
      "outputs": []
    },
    {
      "cell_type": "code",
      "metadata": {
        "colab": {
          "base_uri": "https://localhost:8080/"
        },
        "id": "qSEMY0sEd0CW",
        "outputId": "4652a292-734c-49d5-97c4-ddb0dee19eda"
      },
      "source": [
        "trainY"
      ],
      "execution_count": 51,
      "outputs": [
        {
          "output_type": "execute_result",
          "data": {
            "text/plain": [
              "array([1, 1, 1, 1, 1, 1, 1, 1, 1, 1, 1, 1, 1, 1, 1, 1, 1, 1, 1, 1, 1, 1,\n",
              "       1, 1, 1, 1, 1, 1, 1, 1, 1, 1, 1, 1, 1, 1, 1, 1, 1, 1, 1, 1, 1, 1,\n",
              "       1, 1, 1, 1, 1, 1, 1, 1, 1, 1, 1, 1, 1, 1, 1, 0, 0, 0, 0, 0, 0, 0,\n",
              "       0, 0, 0, 0, 0, 0, 0, 0, 0])"
            ]
          },
          "metadata": {
            "tags": []
          },
          "execution_count": 51
        }
      ]
    },
    {
      "cell_type": "code",
      "metadata": {
        "colab": {
          "base_uri": "https://localhost:8080/"
        },
        "id": "Y39pka_2d0FW",
        "outputId": "f876dc70-f49d-4a1a-d0af-c5d1ed10ac4f"
      },
      "source": [
        "testY"
      ],
      "execution_count": 52,
      "outputs": [
        {
          "output_type": "execute_result",
          "data": {
            "text/plain": [
              "array([1, 1, 1, 1, 1, 0, 0, 0, 0, 0])"
            ]
          },
          "metadata": {
            "tags": []
          },
          "execution_count": 52
        }
      ]
    },
    {
      "cell_type": "code",
      "metadata": {
        "colab": {
          "base_uri": "https://localhost:8080/"
        },
        "id": "MzRa_EUdd0Je",
        "outputId": "5559ced1-48f1-4914-9d51-171a2ab165b1"
      },
      "source": [
        "\n",
        "from sklearn.metrics import classification_report,confusion_matrix\n",
        "cnf = confusion_matrix(testY,preds)\n",
        "cnf"
      ],
      "execution_count": 53,
      "outputs": [
        {
          "output_type": "execute_result",
          "data": {
            "text/plain": [
              "array([[5, 0],\n",
              "       [0, 5]])"
            ]
          },
          "metadata": {
            "tags": []
          },
          "execution_count": 53
        }
      ]
    },
    {
      "cell_type": "code",
      "metadata": {
        "colab": {
          "base_uri": "https://localhost:8080/",
          "height": 320
        },
        "id": "do43r8veeMKX",
        "outputId": "b07475fa-bc1b-4f6e-dd25-58da37e08d66"
      },
      "source": [
        "plt.figure(figsize=(5,5))\n",
        "sns.heatmap(cnf , annot=True , cmap=\"coolwarm\" , cbar=False)\n",
        "plt.show()"
      ],
      "execution_count": 54,
      "outputs": [
        {
          "output_type": "display_data",
          "data": {
            "image/png": "[encoded data removed]",
            "text/plain": [
              "<Figure size 360x360 with 1 Axes>"
            ]
          },
          "metadata": {
            "tags": [],
            "needs_background": "light"
          }
        }
      ]
    },
    {
      "cell_type": "code",
      "metadata": {
        "colab": {
          "base_uri": "https://localhost:8080/"
        },
        "id": "9iIv10TNeMcz",
        "outputId": "ec1c926a-284a-40df-ffdc-69fc65460cab"
      },
      "source": [
        "from sklearn import metrics\n",
        "acc = metrics.accuracy_score(testY,preds)\n",
        "acc"
      ],
      "execution_count": 55,
      "outputs": [
        {
          "output_type": "execute_result",
          "data": {
            "text/plain": [
              "1.0"
            ]
          },
          "metadata": {
            "tags": []
          },
          "execution_count": 55
        }
      ]
    },
    {
      "cell_type": "code",
      "metadata": {
        "colab": {
          "base_uri": "https://localhost:8080/"
        },
        "id": "hLmCWzFqPiwl",
        "outputId": "17211942-4884-4741-bfb9-f1839f3207db"
      },
      "source": [
        "clf=SVC()\n",
        "clf.fit(train_x, train_y)\n",
        "preds=clf.predict(test_x)\n",
        "print('accuracy:',accuracy(test_y.tolist(), preds.tolist()), '%')\n",
        "print(metrics(test_y.tolist(), preds.tolist()))"
      ],
      "execution_count": 59,
      "outputs": [
        {
          "output_type": "stream",
          "text": [
            "accuracy: 50.0 %\n",
            "{'Precision': 0.5, 'Recall': 0.5, 'F1': 0.5}\n"
          ],
          "name": "stdout"
        }
      ]
    },
    {
      "cell_type": "code",
      "metadata": {
        "colab": {
          "base_uri": "https://localhost:8080/"
        },
        "id": "zCFZbOHyPiy0",
        "outputId": "279447e2-eb86-4eed-821c-4e254ff5d4f4"
      },
      "source": [
        "clf=DecisionTreeClassifier()\n",
        "clf.fit(train_x, train_y)\n",
        "preds=clf.predict(test_x)\n",
        "print('accuracy:',accuracy(test_y.tolist(), preds.tolist()), '%')\n",
        "print(metrics(test_y.tolist(), preds.tolist()))"
      ],
      "execution_count": 61,
      "outputs": [
        {
          "output_type": "stream",
          "text": [
            "accuracy: 100.0 %\n",
            "{'Precision': 0.5, 'Recall': 1.0, 'F1': 0.6666666666666666}\n"
          ],
          "name": "stdout"
        }
      ]
    },
    {
      "cell_type": "code",
      "metadata": {
        "colab": {
          "base_uri": "https://localhost:8080/"
        },
        "id": "V2LXnWmtPi1e",
        "outputId": "5029cb9a-4abb-45ed-cbae-ed9487ecaadb"
      },
      "source": [
        "\n",
        "clf=KNeighborsClassifier()\n",
        "clf.fit(train_x, train_y)\n",
        "preds=clf.predict(test_x)\n",
        "print('accuracy:',accuracy(test_y.tolist(), preds.tolist()), '%')\n",
        "print(metrics(test_y.tolist(), preds.tolist()))"
      ],
      "execution_count": 62,
      "outputs": [
        {
          "output_type": "stream",
          "text": [
            "accuracy: 70.0 %\n",
            "{'Precision': 0.5, 'Recall': 0.625, 'F1': 0.5555555555555556}\n"
          ],
          "name": "stdout"
        }
      ]
    },
    {
      "cell_type": "markdown",
      "metadata": {
        "id": "0XfiLrrEQ3NF"
      },
      "source": [
        "PLOT"
      ]
    },
    {
      "cell_type": "code",
      "metadata": {
        "id": "C7Yg2dpBPi31"
      },
      "source": [
        "def plot(f, plot_func, t_id=0, x=None, y=None, reg_plot=True):\n",
        "    global header_row\n",
        "    df=pd.read_csv(f, sep=';', header=None, names=header_row)\n",
        "    df=df[df[\"Test_ID\"]==t_id]\n",
        "    initial_timestamp=df['Timestamp'][0]\n",
        "    df['Timestamp']=df['Timestamp']- initial_timestamp\n",
        "    if reg_plot:\n",
        "        plot_func(data=df, x=x, y=y, fit_reg=False, scatter_kws={\"s\": 0.5})\n",
        "    else:\n",
        "        plot_func(data=df, x=x, y=y)\n",
        "    print(metrics(test_y.tolist(), preds.tolist()))"
      ],
      "execution_count": 63,
      "outputs": []
    },
    {
      "cell_type": "code",
      "metadata": {
        "id": "xOrfn4miQyCL"
      },
      "source": [
        ""
      ],
      "execution_count": 63,
      "outputs": []
    },
    {
      "cell_type": "markdown",
      "metadata": {
        "id": "6bb2xfiuQ123"
      },
      "source": [
        "Pressure (Parkinsons)"
      ]
    },
    {
      "cell_type": "code",
      "metadata": {
        "colab": {
          "base_uri": "https://localhost:8080/",
          "height": 296
        },
        "id": "uxCgQL-BQ2hN",
        "outputId": "7a4b0ec0-6af5-44eb-c8d9-c1a071ad18e7"
      },
      "source": [
        "plot(f=parkinson_file_list[51],  plot_func=sns.regplot, t_id=0, x='Timestamp', y='Pressure')"
      ],
      "execution_count": 64,
      "outputs": [
        {
          "output_type": "stream",
          "text": [
            "{'Precision': 0.5, 'Recall': 0.625, 'F1': 0.5555555555555556}\n"
          ],
          "name": "stdout"
        },
        {
          "output_type": "display_data",
          "data": {
            "image/png": "[encoded data removed]",
            "text/plain": [
              "<Figure size 432x288 with 1 Axes>"
            ]
          },
          "metadata": {
            "tags": [],
            "needs_background": "light"
          }
        }
      ]
    },
    {
      "cell_type": "code",
      "metadata": {
        "id": "8LECLrrUQ7Zq"
      },
      "source": [
        ""
      ],
      "execution_count": 64,
      "outputs": []
    },
    {
      "cell_type": "markdown",
      "metadata": {
        "id": "jUZBrx4hRApr"
      },
      "source": [
        "Pressure (Control)"
      ]
    },
    {
      "cell_type": "code",
      "metadata": {
        "colab": {
          "base_uri": "https://localhost:8080/",
          "height": 296
        },
        "id": "5Qhexb4CRDHz",
        "outputId": "c385385e-d3d1-478a-f472-184838cd30ec"
      },
      "source": [
        "\n",
        "plot(control_file_list[4], plot_func=sns.regplot, t_id=0, x='Timestamp', y='Pressure')"
      ],
      "execution_count": 65,
      "outputs": [
        {
          "output_type": "stream",
          "text": [
            "{'Precision': 0.5, 'Recall': 0.625, 'F1': 0.5555555555555556}\n"
          ],
          "name": "stdout"
        },
        {
          "output_type": "display_data",
          "data": {
            "image/png": "[encoded data removed]",
            "text/plain": [
              "<Figure size 432x288 with 1 Axes>"
            ]
          },
          "metadata": {
            "tags": [],
            "needs_background": "light"
          }
        }
      ]
    },
    {
      "cell_type": "code",
      "metadata": {
        "colab": {
          "base_uri": "https://localhost:8080/",
          "height": 296
        },
        "id": "PSI44dhxRFSL",
        "outputId": "4b1addec-d2d0-4fa6-fd92-1f63618fcbab"
      },
      "source": [
        "plot(f=parkinson_file_list[24], plot_func=sns.barplot, t_id=0, x='Timestamp', y='Pressure', reg_plot=False)"
      ],
      "execution_count": 66,
      "outputs": [
        {
          "output_type": "stream",
          "text": [
            "{'Precision': 0.5, 'Recall': 0.625, 'F1': 0.5555555555555556}\n"
          ],
          "name": "stdout"
        },
        {
          "output_type": "display_data",
          "data": {
            "image/png": "[encoded data removed]",
            "text/plain": [
              "<Figure size 432x288 with 1 Axes>"
            ]
          },
          "metadata": {
            "tags": [],
            "needs_background": "light"
          }
        }
      ]
    },
    {
      "cell_type": "code",
      "metadata": {
        "id": "G97QMZIjRYeS"
      },
      "source": [
        ""
      ],
      "execution_count": 66,
      "outputs": []
    },
    {
      "cell_type": "code",
      "metadata": {
        "id": "5wahSW4TZDL-"
      },
      "source": [
        "def show_spiral(data,test_num = 0,num=None):\n",
        "    x = []\n",
        "    y = []\n",
        "    for row in data:\n",
        "        if row[6] == test_num:\n",
        "            x.append(row[0])\n",
        "            y.append(row[1])\n",
        "    fig, ax = plt.subplots()\n",
        "    ax.plot(x,y,'b-')\n",
        "\n",
        "    ax.set_title(str(0))\n",
        "#     plt.plot(x,y,'b-')\n",
        "    plt.show()"
      ],
      "execution_count": 67,
      "outputs": []
    },
    {
      "cell_type": "code",
      "metadata": {
        "id": "xtK6WTiAZDPc",
        "colab": {
          "base_uri": "https://localhost:8080/",
          "height": 281
        },
        "outputId": "403a1c8c-434c-4c6b-8d9c-c18474a900c7"
      },
      "source": [
        "show_spiral(hw[1][0])"
      ],
      "execution_count": 68,
      "outputs": [
        {
          "output_type": "display_data",
          "data": {
            "image/png": "[encoded data removed]",
            "text/plain": [
              "<Figure size 432x288 with 1 Axes>"
            ]
          },
          "metadata": {
            "tags": [],
            "needs_background": "light"
          }
        }
      ]
    },
    {
      "cell_type": "code",
      "metadata": {
        "colab": {
          "base_uri": "https://localhost:8080/",
          "height": 281
        },
        "id": "OsUy4mamtPU_",
        "outputId": "86678807-e8ca-4621-f86f-79f821c69f36"
      },
      "source": [
        "show_spiral(hw[1][2])"
      ],
      "execution_count": 69,
      "outputs": [
        {
          "output_type": "display_data",
          "data": {
            "image/png": "[encoded data removed]",
            "text/plain": [
              "<Figure size 432x288 with 1 Axes>"
            ]
          },
          "metadata": {
            "tags": [],
            "needs_background": "light"
          }
        }
      ]
    },
    {
      "cell_type": "code",
      "metadata": {
        "colab": {
          "base_uri": "https://localhost:8080/",
          "height": 281
        },
        "id": "FqE7foRotPYO",
        "outputId": "552a986d-3df1-40b3-c7cf-24c6da5af0a2"
      },
      "source": [
        "show_spiral(hw[1][1])"
      ],
      "execution_count": 70,
      "outputs": [
        {
          "output_type": "display_data",
          "data": {
            "image/png": "[encoded data removed]",
            "text/plain": [
              "<Figure size 432x288 with 1 Axes>"
            ]
          },
          "metadata": {
            "tags": [],
            "needs_background": "light"
          }
        }
      ]
    },
    {
      "cell_type": "code",
      "metadata": {
        "colab": {
          "base_uri": "https://localhost:8080/",
          "height": 281
        },
        "id": "PBYvYkzetPbW",
        "outputId": "a096beb4-699e-445d-98c4-f6a66e14c2c5"
      },
      "source": [
        "show_spiral(hw[1][3])"
      ],
      "execution_count": 71,
      "outputs": [
        {
          "output_type": "display_data",
          "data": {
            "image/png": "[encoded data removed]",
            "text/plain": [
              "<Figure size 432x288 with 1 Axes>"
            ]
          },
          "metadata": {
            "tags": [],
            "needs_background": "light"
          }
        }
      ]
    },
    {
      "cell_type": "code",
      "metadata": {
        "colab": {
          "base_uri": "https://localhost:8080/",
          "height": 281
        },
        "id": "j86pIy_ntPe5",
        "outputId": "db84da6e-8edf-4d41-cc28-71a1f988774c"
      },
      "source": [
        "show_spiral(hw[1][22])"
      ],
      "execution_count": 72,
      "outputs": [
        {
          "output_type": "display_data",
          "data": {
            "image/png": "[encoded data removed]",
            "text/plain": [
              "<Figure size 432x288 with 1 Axes>"
            ]
          },
          "metadata": {
            "tags": [],
            "needs_background": "light"
          }
        }
      ]
    },
    {
      "cell_type": "code",
      "metadata": {
        "id": "0Q30ETuXtPiT"
      },
      "source": [
        "import keras\n",
        "import PIL\n",
        "import numpy as np\n",
        "import os\n",
        "from matplotlib.pyplot import imshow\n",
        "from PIL import Image\n",
        "from keras.preprocessing.image import ImageDataGenerator, array_to_img, img_to_array, load_img\n",
        "from keras.models import Sequential\n",
        "from keras.layers import Conv2D, MaxPooling2D\n",
        "from keras.layers import Activation, Dropout, Flatten, Dense\n",
        "from keras import backend as K\n",
        "from keras.preprocessing.image import ImageDataGenerator"
      ],
      "execution_count": 73,
      "outputs": []
    },
    {
      "cell_type": "code",
      "metadata": {
        "id": "OVJCim21vGw1"
      },
      "source": [
        "import glob"
      ],
      "execution_count": 74,
      "outputs": []
    },
    {
      "cell_type": "code",
      "metadata": {
        "id": "0Y1cXnvVvG6g"
      },
      "source": [
        "from scipy.ndimage import convolve\n",
        "from sklearn import metrics\n",
        "from sklearn.linear_model import Perceptron\n",
        "from sklearn.model_selection import train_test_split\n",
        "from sklearn.neural_network import BernoulliRBM\n",
        "from sklearn.pipeline import Pipeline\n",
        "from sklearn.base import clone\n",
        "from sklearn.metrics import confusion_matrix\n",
        "from sklearn.neural_network import MLPClassifier\n",
        "from sklearn.metrics import accuracy_score\n",
        "from sklearn.model_selection import train_test_split\n",
        "from sklearn.neural_network import BernoulliRBM as fe\n",
        "import pandas as pd\n",
        "import numpy as np\n",
        "import glob"
      ],
      "execution_count": 75,
      "outputs": []
    },
    {
      "cell_type": "code",
      "metadata": {
        "id": "EpmSG-XLwLV_"
      },
      "source": [
        "control_path = \"/content/drive/MyDrive/Kaggle/datanew/hw_dataset/hw_dataset/control\"\n",
        "parkinson_path = \"/content/drive/MyDrive/Kaggle/datanew/hw_dataset/hw_dataset/parkinson\"\n",
        "\n",
        "\n",
        "def getFiles(path):\n",
        "    all_files = glob.glob(path + \"/*.txt\")\n",
        "    data = []\n",
        "\n",
        "    for file in all_files:\n",
        "        df = pd.read_csv(file,sep=\";\")\n",
        "        data.append(df)\n",
        "    \n",
        "    return data\n",
        "         \n",
        "\n",
        "def extractFeatures(df):\n",
        "    features = []\n",
        "    features.append(np.argmax( df.values[:,0]) - np.argmin( df.values[:,0]))\n",
        "    features.append(np.argmax( df.values[:,1]) - np.argmin( df.values[:,1]))\n",
        "    features.append(np.argmax( df.values[:,2]) - np.argmin( df.values[:,2]))\n",
        "    features.append(np.argmax( df.values[:,3]) - np.argmin( df.values[:,3]))\n",
        "    features.append(np.argmax( df.values[:,4]) - np.argmin( df.values[:,4]))\n",
        "    return features\n",
        "    \n",
        "\n",
        "def getControlFeatures():\n",
        "    control_data = []\n",
        "    control = getFiles(control_path)\n",
        "    for i in control:\n",
        "        new_df = splitByTest(i)\n",
        "        for k in range(new_df.shape[0]):\n",
        "            last_df = np.array_split(i,40)\n",
        "            for j in last_df:\n",
        "                control_data.append(extractFeatures(j))\n",
        "    return pd.DataFrame(control_data)\n",
        "\n",
        "\n",
        "def getParkinsonFeatures():\n",
        "    parkinson_data = []\n",
        "    parkinson = getFiles(parkinson_path)\n",
        "    for i in parkinson:\n",
        "        new_df = splitByTest(i)\n",
        "        for k in range(new_df.shape[0]):\n",
        "            last_df = np.array_split(i,40)\n",
        "            for j in last_df:\n",
        "                parkinson_data.append(extractFeatures(j))\n",
        "    return pd.DataFrame(parkinson_data)\n",
        "\n",
        "\n",
        "def getClasses(control, parkinson):\n",
        "    classes = []\n",
        "    for i in range(control.shape[0]):\n",
        "        classes.append(0)\n",
        "    for i in range(parkinson.shape[0]):\n",
        "        classes.append(1)\n",
        "    res = np.array(classes)\n",
        "\n",
        "    return res\n",
        "\n",
        "def splitByTest(df):\n",
        "    data = []\n",
        "    test = df.values[0][6]\n",
        "    split = []\n",
        "    cont = 0\n",
        "    for i in range(df.shape[0]):\n",
        "        if df.values[i][6] == test:\n",
        "            split.append(df.values[i])\n",
        "        else:\n",
        "            aux = pd.DataFrame(split)\n",
        "            data.append(aux)\n",
        "            split = []\n",
        "            test = df.values[i][6]\n",
        "            split.append(df.values[i])\n",
        "    data.append(split)\n",
        "    return pd.DataFrame(data)"
      ],
      "execution_count": 76,
      "outputs": []
    },
    {
      "cell_type": "markdown",
      "metadata": {
        "id": "cN3nw6-Rv1Y8"
      },
      "source": [
        "RBM"
      ]
    },
    {
      "cell_type": "code",
      "metadata": {
        "id": "OOMuDiyLvXi9"
      },
      "source": [
        "rbm = BernoulliRBM( verbose=True)\n",
        "\n",
        "rbm.learning_rate = 0.0002\n",
        "rbm.n_iter = 300\n",
        "\n",
        "rbm.n_components = 200"
      ],
      "execution_count": 77,
      "outputs": []
    },
    {
      "cell_type": "markdown",
      "metadata": {
        "id": "iQcn2qrJv7uq"
      },
      "source": [
        "MLP and pipeline"
      ]
    },
    {
      "cell_type": "code",
      "metadata": {
        "id": "pYo8OrtVvvfE"
      },
      "source": [
        "mlp = MLPClassifier(alpha=1e-08, hidden_layer_sizes=(70,10),solver='adam',\n",
        "                    activation='relu',  learning_rate_init = .0005,\n",
        "                    max_iter=5000, momentum = 0.7)\n",
        "\n",
        "rbm_features_classifier = Pipeline(steps=[('rbm', rbm), ('MLP', mlp)])"
      ],
      "execution_count": 78,
      "outputs": []
    },
    {
      "cell_type": "code",
      "metadata": {
        "colab": {
          "base_uri": "https://localhost:8080/"
        },
        "id": "a8CqHicyvvi2",
        "outputId": "9a8f0d8c-4ebb-4408-a1f5-2592da0cb864"
      },
      "source": [
        "data = getControlFeatures()\n",
        "park = getParkinsonFeatures()\n",
        "\n",
        "def getClasses(control, parkinson):\n",
        "    classes = []\n",
        "    for i in range(control.shape[0]):\n",
        "        classes.append(0)\n",
        "    for i in range(parkinson.shape[0]):\n",
        "        classes.append(1)\n",
        "    res = np.array(classes)\n",
        "\n",
        "    return res\n",
        "all_data = np.concatenate((data,park),axis= 0)\n",
        "target = getClasses(data,park)\n",
        "\n",
        "train_data, test_data, train_target, test_target = train_test_split(all_data,target, test_size= 0.3, random_state=30 )"
      ],
      "execution_count": 79,
      "outputs": [
        {
          "output_type": "stream",
          "text": [
            "/usr/local/lib/python3.7/dist-packages/pandas/core/internals/construction.py:305: VisibleDeprecationWarning: Creating an ndarray from ragged nested sequences (which is a list-or-tuple of lists-or-tuples-or ndarrays with different lengths or shapes) is deprecated. If you meant to do this, you must specify 'dtype=object' when creating the ndarray\n",
            "  values = np.array([convert(v) for v in values])\n"
          ],
          "name": "stderr"
        }
      ]
    },
    {
      "cell_type": "code",
      "metadata": {
        "colab": {
          "base_uri": "https://localhost:8080/"
        },
        "id": "iAeFxBZzvvmG",
        "outputId": "281a822e-4174-4658-8131-0901676c90ae"
      },
      "source": [
        "train_data, test_data, train_target, test_target = train_test_split(all_data,target, test_size= 0.3, random_state=30 )\n",
        "\n",
        "rbm_features_classifier.fit(train_data, train_target)"
      ],
      "execution_count": 80,
      "outputs": [
        {
          "output_type": "stream",
          "text": [
            "[BernoulliRBM] Iteration 1, pseudo-likelihood = -92837.90, time = 0.15s\n",
            "[BernoulliRBM] Iteration 2, pseudo-likelihood = -191652.09, time = 0.30s\n",
            "[BernoulliRBM] Iteration 3, pseudo-likelihood = -295609.38, time = 0.31s\n",
            "[BernoulliRBM] Iteration 4, pseudo-likelihood = -381015.32, time = 0.30s\n",
            "[BernoulliRBM] Iteration 5, pseudo-likelihood = -517742.21, time = 0.29s\n",
            "[BernoulliRBM] Iteration 6, pseudo-likelihood = -567937.15, time = 0.29s\n",
            "[BernoulliRBM] Iteration 7, pseudo-likelihood = -636627.09, time = 0.29s\n",
            "[BernoulliRBM] Iteration 8, pseudo-likelihood = -822304.74, time = 0.29s\n",
            "[BernoulliRBM] Iteration 9, pseudo-likelihood = -866109.44, time = 0.29s\n",
            "[BernoulliRBM] Iteration 10, pseudo-likelihood = -916453.00, time = 0.30s\n",
            "[BernoulliRBM] Iteration 11, pseudo-likelihood = -1130293.07, time = 0.29s\n",
            "[BernoulliRBM] Iteration 12, pseudo-likelihood = -1142464.97, time = 0.29s\n",
            "[BernoulliRBM] Iteration 13, pseudo-likelihood = -1261636.20, time = 0.29s\n",
            "[BernoulliRBM] Iteration 14, pseudo-likelihood = -1299532.69, time = 0.29s\n",
            "[BernoulliRBM] Iteration 15, pseudo-likelihood = -1534351.63, time = 0.30s\n",
            "[BernoulliRBM] Iteration 16, pseudo-likelihood = -1491592.82, time = 0.29s\n",
            "[BernoulliRBM] Iteration 17, pseudo-likelihood = -1693844.36, time = 0.30s\n",
            "[BernoulliRBM] Iteration 18, pseudo-likelihood = -1704698.28, time = 0.29s\n",
            "[BernoulliRBM] Iteration 19, pseudo-likelihood = -1894881.55, time = 0.29s\n",
            "[BernoulliRBM] Iteration 20, pseudo-likelihood = -2023280.20, time = 0.28s\n",
            "[BernoulliRBM] Iteration 21, pseudo-likelihood = -1978831.78, time = 0.29s\n",
            "[BernoulliRBM] Iteration 22, pseudo-likelihood = -2108988.39, time = 0.28s\n",
            "[BernoulliRBM] Iteration 23, pseudo-likelihood = -2265713.42, time = 0.28s\n",
            "[BernoulliRBM] Iteration 24, pseudo-likelihood = -2420147.22, time = 0.30s\n",
            "[BernoulliRBM] Iteration 25, pseudo-likelihood = -2465862.91, time = 0.29s\n",
            "[BernoulliRBM] Iteration 26, pseudo-likelihood = -2469407.97, time = 0.29s\n",
            "[BernoulliRBM] Iteration 27, pseudo-likelihood = -2597260.82, time = 0.29s\n",
            "[BernoulliRBM] Iteration 28, pseudo-likelihood = -2802653.96, time = 0.29s\n",
            "[BernoulliRBM] Iteration 29, pseudo-likelihood = -2748190.67, time = 0.30s\n",
            "[BernoulliRBM] Iteration 30, pseudo-likelihood = -3095693.44, time = 0.28s\n",
            "[BernoulliRBM] Iteration 31, pseudo-likelihood = -2986808.91, time = 0.30s\n",
            "[BernoulliRBM] Iteration 32, pseudo-likelihood = -3222730.84, time = 0.29s\n",
            "[BernoulliRBM] Iteration 33, pseudo-likelihood = -3130856.72, time = 0.29s\n",
            "[BernoulliRBM] Iteration 34, pseudo-likelihood = -3311842.10, time = 0.28s\n",
            "[BernoulliRBM] Iteration 35, pseudo-likelihood = -3343695.05, time = 0.29s\n",
            "[BernoulliRBM] Iteration 36, pseudo-likelihood = -3669218.71, time = 0.28s\n",
            "[BernoulliRBM] Iteration 37, pseudo-likelihood = -3643594.57, time = 0.28s\n",
            "[BernoulliRBM] Iteration 38, pseudo-likelihood = -3725806.97, time = 0.31s\n",
            "[BernoulliRBM] Iteration 39, pseudo-likelihood = -3998475.28, time = 0.29s\n",
            "[BernoulliRBM] Iteration 40, pseudo-likelihood = -4000538.65, time = 0.29s\n",
            "[BernoulliRBM] Iteration 41, pseudo-likelihood = -4041430.79, time = 0.29s\n",
            "[BernoulliRBM] Iteration 42, pseudo-likelihood = -4130971.04, time = 0.31s\n",
            "[BernoulliRBM] Iteration 43, pseudo-likelihood = -4328898.57, time = 0.28s\n",
            "[BernoulliRBM] Iteration 44, pseudo-likelihood = -4384051.68, time = 0.28s\n",
            "[BernoulliRBM] Iteration 45, pseudo-likelihood = -4574315.06, time = 0.29s\n",
            "[BernoulliRBM] Iteration 46, pseudo-likelihood = -4778604.05, time = 0.32s\n",
            "[BernoulliRBM] Iteration 47, pseudo-likelihood = -4497246.41, time = 0.39s\n",
            "[BernoulliRBM] Iteration 48, pseudo-likelihood = -4350293.22, time = 0.38s\n",
            "[BernoulliRBM] Iteration 49, pseudo-likelihood = -4654021.19, time = 0.33s\n",
            "[BernoulliRBM] Iteration 50, pseudo-likelihood = -4965145.43, time = 0.29s\n",
            "[BernoulliRBM] Iteration 51, pseudo-likelihood = -5114744.03, time = 0.29s\n",
            "[BernoulliRBM] Iteration 52, pseudo-likelihood = -5148819.62, time = 0.28s\n",
            "[BernoulliRBM] Iteration 53, pseudo-likelihood = -5263047.05, time = 0.29s\n",
            "[BernoulliRBM] Iteration 54, pseudo-likelihood = -5355983.03, time = 0.28s\n",
            "[BernoulliRBM] Iteration 55, pseudo-likelihood = -5494323.59, time = 0.30s\n",
            "[BernoulliRBM] Iteration 56, pseudo-likelihood = -5316027.86, time = 0.29s\n",
            "[BernoulliRBM] Iteration 57, pseudo-likelihood = -5644268.18, time = 0.29s\n",
            "[BernoulliRBM] Iteration 58, pseudo-likelihood = -5495418.54, time = 0.28s\n",
            "[BernoulliRBM] Iteration 59, pseudo-likelihood = -5845855.13, time = 0.30s\n",
            "[BernoulliRBM] Iteration 60, pseudo-likelihood = -5929076.14, time = 0.28s\n",
            "[BernoulliRBM] Iteration 61, pseudo-likelihood = -5696010.45, time = 0.29s\n",
            "[BernoulliRBM] Iteration 62, pseudo-likelihood = -5562310.79, time = 0.29s\n",
            "[BernoulliRBM] Iteration 63, pseudo-likelihood = -6272713.03, time = 0.28s\n",
            "[BernoulliRBM] Iteration 64, pseudo-likelihood = -5921763.67, time = 0.29s\n",
            "[BernoulliRBM] Iteration 65, pseudo-likelihood = -6374808.25, time = 0.29s\n",
            "[BernoulliRBM] Iteration 66, pseudo-likelihood = -6429879.81, time = 0.29s\n",
            "[BernoulliRBM] Iteration 67, pseudo-likelihood = -6526843.22, time = 0.29s\n",
            "[BernoulliRBM] Iteration 68, pseudo-likelihood = -6679642.32, time = 0.30s\n",
            "[BernoulliRBM] Iteration 69, pseudo-likelihood = -6509331.71, time = 0.29s\n",
            "[BernoulliRBM] Iteration 70, pseudo-likelihood = -6414509.06, time = 0.28s\n",
            "[BernoulliRBM] Iteration 71, pseudo-likelihood = -7122120.46, time = 0.29s\n",
            "[BernoulliRBM] Iteration 72, pseudo-likelihood = -7080510.03, time = 0.29s\n",
            "[BernoulliRBM] Iteration 73, pseudo-likelihood = -6853290.15, time = 0.29s\n",
            "[BernoulliRBM] Iteration 74, pseudo-likelihood = -7209932.50, time = 0.29s\n",
            "[BernoulliRBM] Iteration 75, pseudo-likelihood = -7453171.35, time = 0.29s\n",
            "[BernoulliRBM] Iteration 76, pseudo-likelihood = -7127862.29, time = 0.29s\n",
            "[BernoulliRBM] Iteration 77, pseudo-likelihood = -7086245.40, time = 0.29s\n",
            "[BernoulliRBM] Iteration 78, pseudo-likelihood = -7466589.39, time = 0.29s\n",
            "[BernoulliRBM] Iteration 79, pseudo-likelihood = -7761148.36, time = 0.29s\n",
            "[BernoulliRBM] Iteration 80, pseudo-likelihood = -7836856.97, time = 0.29s\n",
            "[BernoulliRBM] Iteration 81, pseudo-likelihood = -8069336.45, time = 0.29s\n",
            "[BernoulliRBM] Iteration 82, pseudo-likelihood = -8363440.51, time = 0.29s\n",
            "[BernoulliRBM] Iteration 83, pseudo-likelihood = -8445601.48, time = 0.29s\n",
            "[BernoulliRBM] Iteration 84, pseudo-likelihood = -8512876.75, time = 0.29s\n",
            "[BernoulliRBM] Iteration 85, pseudo-likelihood = -8474007.06, time = 0.29s\n",
            "[BernoulliRBM] Iteration 86, pseudo-likelihood = -8629407.43, time = 0.29s\n",
            "[BernoulliRBM] Iteration 87, pseudo-likelihood = -8361048.83, time = 0.29s\n",
            "[BernoulliRBM] Iteration 88, pseudo-likelihood = -8811478.23, time = 0.29s\n",
            "[BernoulliRBM] Iteration 89, pseudo-likelihood = -8878296.14, time = 0.29s\n",
            "[BernoulliRBM] Iteration 90, pseudo-likelihood = -8367721.70, time = 0.29s\n",
            "[BernoulliRBM] Iteration 91, pseudo-likelihood = -8866333.33, time = 0.28s\n",
            "[BernoulliRBM] Iteration 92, pseudo-likelihood = -9308130.82, time = 0.30s\n",
            "[BernoulliRBM] Iteration 93, pseudo-likelihood = -8799098.07, time = 0.29s\n",
            "[BernoulliRBM] Iteration 94, pseudo-likelihood = -8847433.85, time = 0.29s\n",
            "[BernoulliRBM] Iteration 95, pseudo-likelihood = -9049468.79, time = 0.28s\n",
            "[BernoulliRBM] Iteration 96, pseudo-likelihood = -8788963.71, time = 0.28s\n",
            "[BernoulliRBM] Iteration 97, pseudo-likelihood = -9456505.82, time = 0.29s\n",
            "[BernoulliRBM] Iteration 98, pseudo-likelihood = -9299081.62, time = 0.28s\n",
            "[BernoulliRBM] Iteration 99, pseudo-likelihood = -9726376.50, time = 0.28s\n",
            "[BernoulliRBM] Iteration 100, pseudo-likelihood = -9719667.93, time = 0.30s\n",
            "[BernoulliRBM] Iteration 101, pseudo-likelihood = -9857190.47, time = 0.30s\n",
            "[BernoulliRBM] Iteration 102, pseudo-likelihood = -9562509.69, time = 0.29s\n",
            "[BernoulliRBM] Iteration 103, pseudo-likelihood = -9890684.00, time = 0.28s\n",
            "[BernoulliRBM] Iteration 104, pseudo-likelihood = -9732983.45, time = 0.30s\n",
            "[BernoulliRBM] Iteration 105, pseudo-likelihood = -9923375.35, time = 0.29s\n",
            "[BernoulliRBM] Iteration 106, pseudo-likelihood = -10285042.31, time = 0.30s\n",
            "[BernoulliRBM] Iteration 107, pseudo-likelihood = -10876138.19, time = 0.28s\n",
            "[BernoulliRBM] Iteration 108, pseudo-likelihood = -9894392.12, time = 0.29s\n",
            "[BernoulliRBM] Iteration 109, pseudo-likelihood = -10802551.02, time = 0.29s\n",
            "[BernoulliRBM] Iteration 110, pseudo-likelihood = -10814332.84, time = 0.29s\n",
            "[BernoulliRBM] Iteration 111, pseudo-likelihood = -10839138.27, time = 0.29s\n",
            "[BernoulliRBM] Iteration 112, pseudo-likelihood = -11401554.42, time = 0.28s\n",
            "[BernoulliRBM] Iteration 113, pseudo-likelihood = -11106774.83, time = 0.30s\n",
            "[BernoulliRBM] Iteration 114, pseudo-likelihood = -11006520.94, time = 0.29s\n",
            "[BernoulliRBM] Iteration 115, pseudo-likelihood = -11625562.46, time = 0.29s\n",
            "[BernoulliRBM] Iteration 116, pseudo-likelihood = -11078947.95, time = 0.29s\n",
            "[BernoulliRBM] Iteration 117, pseudo-likelihood = -11498727.40, time = 0.30s\n",
            "[BernoulliRBM] Iteration 118, pseudo-likelihood = -12259842.95, time = 0.30s\n",
            "[BernoulliRBM] Iteration 119, pseudo-likelihood = -11449106.28, time = 0.29s\n",
            "[BernoulliRBM] Iteration 120, pseudo-likelihood = -11461813.35, time = 0.31s\n",
            "[BernoulliRBM] Iteration 121, pseudo-likelihood = -12005209.01, time = 0.28s\n",
            "[BernoulliRBM] Iteration 122, pseudo-likelihood = -11975492.16, time = 0.30s\n",
            "[BernoulliRBM] Iteration 123, pseudo-likelihood = -13115189.88, time = 0.30s\n",
            "[BernoulliRBM] Iteration 124, pseudo-likelihood = -11789969.39, time = 0.30s\n",
            "[BernoulliRBM] Iteration 125, pseudo-likelihood = -11974143.65, time = 0.28s\n",
            "[BernoulliRBM] Iteration 126, pseudo-likelihood = -12038923.20, time = 0.28s\n",
            "[BernoulliRBM] Iteration 127, pseudo-likelihood = -12104748.12, time = 0.28s\n",
            "[BernoulliRBM] Iteration 128, pseudo-likelihood = -12651028.63, time = 0.28s\n",
            "[BernoulliRBM] Iteration 129, pseudo-likelihood = -13032473.58, time = 0.29s\n",
            "[BernoulliRBM] Iteration 130, pseudo-likelihood = -12838659.42, time = 0.28s\n",
            "[BernoulliRBM] Iteration 131, pseudo-likelihood = -13442770.30, time = 0.29s\n",
            "[BernoulliRBM] Iteration 132, pseudo-likelihood = -12904234.87, time = 0.29s\n",
            "[BernoulliRBM] Iteration 133, pseudo-likelihood = -12906270.62, time = 0.28s\n",
            "[BernoulliRBM] Iteration 134, pseudo-likelihood = -12874059.51, time = 0.28s\n",
            "[BernoulliRBM] Iteration 135, pseudo-likelihood = -13174571.96, time = 0.29s\n",
            "[BernoulliRBM] Iteration 136, pseudo-likelihood = -13536788.78, time = 0.28s\n",
            "[BernoulliRBM] Iteration 137, pseudo-likelihood = -12799266.26, time = 0.29s\n",
            "[BernoulliRBM] Iteration 138, pseudo-likelihood = -14223304.97, time = 0.29s\n",
            "[BernoulliRBM] Iteration 139, pseudo-likelihood = -13902249.57, time = 0.30s\n",
            "[BernoulliRBM] Iteration 140, pseudo-likelihood = -13734824.07, time = 0.29s\n",
            "[BernoulliRBM] Iteration 141, pseudo-likelihood = -13309149.10, time = 0.28s\n",
            "[BernoulliRBM] Iteration 142, pseudo-likelihood = -13515970.73, time = 0.30s\n",
            "[BernoulliRBM] Iteration 143, pseudo-likelihood = -15464993.31, time = 0.29s\n",
            "[BernoulliRBM] Iteration 144, pseudo-likelihood = -13690317.11, time = 0.28s\n",
            "[BernoulliRBM] Iteration 145, pseudo-likelihood = -14357704.12, time = 0.29s\n",
            "[BernoulliRBM] Iteration 146, pseudo-likelihood = -13777471.53, time = 0.30s\n",
            "[BernoulliRBM] Iteration 147, pseudo-likelihood = -13273367.16, time = 0.30s\n",
            "[BernoulliRBM] Iteration 148, pseudo-likelihood = -13948385.17, time = 0.29s\n",
            "[BernoulliRBM] Iteration 149, pseudo-likelihood = -14245420.45, time = 0.28s\n",
            "[BernoulliRBM] Iteration 150, pseudo-likelihood = -15158787.58, time = 0.28s\n",
            "[BernoulliRBM] Iteration 151, pseudo-likelihood = -14830879.73, time = 0.28s\n",
            "[BernoulliRBM] Iteration 152, pseudo-likelihood = -14554514.95, time = 0.29s\n",
            "[BernoulliRBM] Iteration 153, pseudo-likelihood = -15044790.41, time = 0.29s\n",
            "[BernoulliRBM] Iteration 154, pseudo-likelihood = -14577061.71, time = 0.28s\n",
            "[BernoulliRBM] Iteration 155, pseudo-likelihood = -15540305.01, time = 0.29s\n",
            "[BernoulliRBM] Iteration 156, pseudo-likelihood = -14682739.56, time = 0.29s\n",
            "[BernoulliRBM] Iteration 157, pseudo-likelihood = -15257543.36, time = 0.29s\n",
            "[BernoulliRBM] Iteration 158, pseudo-likelihood = -15524406.23, time = 0.29s\n",
            "[BernoulliRBM] Iteration 159, pseudo-likelihood = -15569318.18, time = 0.29s\n",
            "[BernoulliRBM] Iteration 160, pseudo-likelihood = -14982878.02, time = 0.29s\n",
            "[BernoulliRBM] Iteration 161, pseudo-likelihood = -16374426.04, time = 0.29s\n",
            "[BernoulliRBM] Iteration 162, pseudo-likelihood = -16001833.85, time = 0.29s\n",
            "[BernoulliRBM] Iteration 163, pseudo-likelihood = -15874412.16, time = 0.28s\n",
            "[BernoulliRBM] Iteration 164, pseudo-likelihood = -16017643.11, time = 0.29s\n",
            "[BernoulliRBM] Iteration 165, pseudo-likelihood = -15793644.98, time = 0.29s\n",
            "[BernoulliRBM] Iteration 166, pseudo-likelihood = -16425221.13, time = 0.28s\n",
            "[BernoulliRBM] Iteration 167, pseudo-likelihood = -15752135.00, time = 0.28s\n",
            "[BernoulliRBM] Iteration 168, pseudo-likelihood = -16649209.48, time = 0.28s\n",
            "[BernoulliRBM] Iteration 169, pseudo-likelihood = -16608910.24, time = 0.29s\n",
            "[BernoulliRBM] Iteration 170, pseudo-likelihood = -15866757.71, time = 0.28s\n",
            "[BernoulliRBM] Iteration 171, pseudo-likelihood = -17169094.23, time = 0.29s\n",
            "[BernoulliRBM] Iteration 172, pseudo-likelihood = -16508485.91, time = 0.28s\n",
            "[BernoulliRBM] Iteration 173, pseudo-likelihood = -17101795.76, time = 0.28s\n",
            "[BernoulliRBM] Iteration 174, pseudo-likelihood = -16804963.24, time = 0.29s\n",
            "[BernoulliRBM] Iteration 175, pseudo-likelihood = -16072322.72, time = 0.28s\n",
            "[BernoulliRBM] Iteration 176, pseudo-likelihood = -17283160.30, time = 0.28s\n",
            "[BernoulliRBM] Iteration 177, pseudo-likelihood = -17767591.58, time = 0.28s\n",
            "[BernoulliRBM] Iteration 178, pseudo-likelihood = -17194146.75, time = 0.29s\n",
            "[BernoulliRBM] Iteration 179, pseudo-likelihood = -16928423.72, time = 0.30s\n",
            "[BernoulliRBM] Iteration 180, pseudo-likelihood = -17029765.87, time = 0.28s\n",
            "[BernoulliRBM] Iteration 181, pseudo-likelihood = -17871572.64, time = 0.29s\n",
            "[BernoulliRBM] Iteration 182, pseudo-likelihood = -17870201.62, time = 0.29s\n",
            "[BernoulliRBM] Iteration 183, pseudo-likelihood = -18787226.81, time = 0.29s\n",
            "[BernoulliRBM] Iteration 184, pseudo-likelihood = -16768749.29, time = 0.29s\n",
            "[BernoulliRBM] Iteration 185, pseudo-likelihood = -18069359.56, time = 0.30s\n",
            "[BernoulliRBM] Iteration 186, pseudo-likelihood = -19157445.96, time = 0.29s\n",
            "[BernoulliRBM] Iteration 187, pseudo-likelihood = -18414370.73, time = 0.28s\n",
            "[BernoulliRBM] Iteration 188, pseudo-likelihood = -18206187.76, time = 0.28s\n",
            "[BernoulliRBM] Iteration 189, pseudo-likelihood = -17700480.44, time = 0.29s\n",
            "[BernoulliRBM] Iteration 190, pseudo-likelihood = -18839780.84, time = 0.29s\n",
            "[BernoulliRBM] Iteration 191, pseudo-likelihood = -18900872.05, time = 0.29s\n",
            "[BernoulliRBM] Iteration 192, pseudo-likelihood = -17851178.04, time = 0.31s\n",
            "[BernoulliRBM] Iteration 193, pseudo-likelihood = -18170977.48, time = 0.28s\n",
            "[BernoulliRBM] Iteration 194, pseudo-likelihood = -19308600.97, time = 0.31s\n",
            "[BernoulliRBM] Iteration 195, pseudo-likelihood = -19080390.45, time = 0.29s\n",
            "[BernoulliRBM] Iteration 196, pseudo-likelihood = -18947390.29, time = 0.29s\n",
            "[BernoulliRBM] Iteration 197, pseudo-likelihood = -19716471.10, time = 0.29s\n",
            "[BernoulliRBM] Iteration 198, pseudo-likelihood = -19130086.27, time = 0.29s\n",
            "[BernoulliRBM] Iteration 199, pseudo-likelihood = -19224197.07, time = 0.29s\n",
            "[BernoulliRBM] Iteration 200, pseudo-likelihood = -21212309.44, time = 0.29s\n",
            "[BernoulliRBM] Iteration 201, pseudo-likelihood = -19595548.15, time = 0.30s\n",
            "[BernoulliRBM] Iteration 202, pseudo-likelihood = -19604830.83, time = 0.28s\n",
            "[BernoulliRBM] Iteration 203, pseudo-likelihood = -20336500.18, time = 0.29s\n",
            "[BernoulliRBM] Iteration 204, pseudo-likelihood = -20399687.76, time = 0.29s\n",
            "[BernoulliRBM] Iteration 205, pseudo-likelihood = -20090657.55, time = 0.29s\n",
            "[BernoulliRBM] Iteration 206, pseudo-likelihood = -20961426.80, time = 0.30s\n",
            "[BernoulliRBM] Iteration 207, pseudo-likelihood = -19695889.87, time = 0.29s\n",
            "[BernoulliRBM] Iteration 208, pseudo-likelihood = -20745363.32, time = 0.29s\n",
            "[BernoulliRBM] Iteration 209, pseudo-likelihood = -21948924.58, time = 0.29s\n",
            "[BernoulliRBM] Iteration 210, pseudo-likelihood = -20107655.73, time = 0.29s\n",
            "[BernoulliRBM] Iteration 211, pseudo-likelihood = -19628443.90, time = 0.29s\n",
            "[BernoulliRBM] Iteration 212, pseudo-likelihood = -20409372.63, time = 0.29s\n",
            "[BernoulliRBM] Iteration 213, pseudo-likelihood = -21630420.49, time = 0.30s\n",
            "[BernoulliRBM] Iteration 214, pseudo-likelihood = -20865329.52, time = 0.29s\n",
            "[BernoulliRBM] Iteration 215, pseudo-likelihood = -21294688.65, time = 0.29s\n",
            "[BernoulliRBM] Iteration 216, pseudo-likelihood = -21018238.72, time = 0.28s\n",
            "[BernoulliRBM] Iteration 217, pseudo-likelihood = -20288817.25, time = 0.29s\n",
            "[BernoulliRBM] Iteration 218, pseudo-likelihood = -21549566.91, time = 0.30s\n",
            "[BernoulliRBM] Iteration 219, pseudo-likelihood = -20480226.23, time = 0.29s\n",
            "[BernoulliRBM] Iteration 220, pseudo-likelihood = -22518220.75, time = 0.31s\n",
            "[BernoulliRBM] Iteration 221, pseudo-likelihood = -21304093.44, time = 0.29s\n",
            "[BernoulliRBM] Iteration 222, pseudo-likelihood = -21493418.41, time = 0.29s\n",
            "[BernoulliRBM] Iteration 223, pseudo-likelihood = -21718765.39, time = 0.29s\n",
            "[BernoulliRBM] Iteration 224, pseudo-likelihood = -21605356.29, time = 0.29s\n",
            "[BernoulliRBM] Iteration 225, pseudo-likelihood = -22340020.95, time = 0.29s\n",
            "[BernoulliRBM] Iteration 226, pseudo-likelihood = -21504549.21, time = 0.29s\n",
            "[BernoulliRBM] Iteration 227, pseudo-likelihood = -21344064.65, time = 0.29s\n",
            "[BernoulliRBM] Iteration 228, pseudo-likelihood = -21911620.42, time = 0.28s\n",
            "[BernoulliRBM] Iteration 229, pseudo-likelihood = -21968369.95, time = 0.28s\n",
            "[BernoulliRBM] Iteration 230, pseudo-likelihood = -22662631.57, time = 0.29s\n",
            "[BernoulliRBM] Iteration 231, pseudo-likelihood = -23136504.11, time = 0.30s\n",
            "[BernoulliRBM] Iteration 232, pseudo-likelihood = -22436760.53, time = 0.28s\n",
            "[BernoulliRBM] Iteration 233, pseudo-likelihood = -22574959.40, time = 0.28s\n",
            "[BernoulliRBM] Iteration 234, pseudo-likelihood = -23689112.55, time = 0.29s\n",
            "[BernoulliRBM] Iteration 235, pseudo-likelihood = -22871069.98, time = 0.29s\n",
            "[BernoulliRBM] Iteration 236, pseudo-likelihood = -22261905.03, time = 0.28s\n",
            "[BernoulliRBM] Iteration 237, pseudo-likelihood = -24359003.36, time = 0.28s\n",
            "[BernoulliRBM] Iteration 238, pseudo-likelihood = -23132963.80, time = 0.30s\n",
            "[BernoulliRBM] Iteration 239, pseudo-likelihood = -23439102.63, time = 0.29s\n",
            "[BernoulliRBM] Iteration 240, pseudo-likelihood = -24506464.19, time = 0.28s\n",
            "[BernoulliRBM] Iteration 241, pseudo-likelihood = -23237096.07, time = 0.28s\n",
            "[BernoulliRBM] Iteration 242, pseudo-likelihood = -23207601.48, time = 0.30s\n",
            "[BernoulliRBM] Iteration 243, pseudo-likelihood = -24702324.73, time = 0.28s\n",
            "[BernoulliRBM] Iteration 244, pseudo-likelihood = -23784563.01, time = 0.29s\n",
            "[BernoulliRBM] Iteration 245, pseudo-likelihood = -24367076.73, time = 0.29s\n",
            "[BernoulliRBM] Iteration 246, pseudo-likelihood = -24151027.19, time = 0.28s\n",
            "[BernoulliRBM] Iteration 247, pseudo-likelihood = -23432978.66, time = 0.28s\n",
            "[BernoulliRBM] Iteration 248, pseudo-likelihood = -24324969.50, time = 0.28s\n",
            "[BernoulliRBM] Iteration 249, pseudo-likelihood = -23993315.05, time = 0.33s\n",
            "[BernoulliRBM] Iteration 250, pseudo-likelihood = -23536653.90, time = 0.28s\n",
            "[BernoulliRBM] Iteration 251, pseudo-likelihood = -23594676.91, time = 0.28s\n",
            "[BernoulliRBM] Iteration 252, pseudo-likelihood = -24791260.39, time = 0.32s\n",
            "[BernoulliRBM] Iteration 253, pseudo-likelihood = -24840699.61, time = 0.29s\n",
            "[BernoulliRBM] Iteration 254, pseudo-likelihood = -24178164.19, time = 0.28s\n",
            "[BernoulliRBM] Iteration 255, pseudo-likelihood = -24066826.07, time = 0.28s\n",
            "[BernoulliRBM] Iteration 256, pseudo-likelihood = -23568635.47, time = 0.28s\n",
            "[BernoulliRBM] Iteration 257, pseudo-likelihood = -26091185.63, time = 0.28s\n",
            "[BernoulliRBM] Iteration 258, pseudo-likelihood = -26213139.42, time = 0.28s\n",
            "[BernoulliRBM] Iteration 259, pseudo-likelihood = -25109971.02, time = 0.29s\n",
            "[BernoulliRBM] Iteration 260, pseudo-likelihood = -25647251.92, time = 0.29s\n",
            "[BernoulliRBM] Iteration 261, pseudo-likelihood = -26379032.95, time = 0.28s\n",
            "[BernoulliRBM] Iteration 262, pseudo-likelihood = -23995754.59, time = 0.28s\n",
            "[BernoulliRBM] Iteration 263, pseudo-likelihood = -25187858.53, time = 0.28s\n",
            "[BernoulliRBM] Iteration 264, pseudo-likelihood = -25153488.73, time = 0.29s\n",
            "[BernoulliRBM] Iteration 265, pseudo-likelihood = -26101895.33, time = 0.29s\n",
            "[BernoulliRBM] Iteration 266, pseudo-likelihood = -26507976.25, time = 0.29s\n",
            "[BernoulliRBM] Iteration 267, pseudo-likelihood = -26745042.19, time = 0.28s\n",
            "[BernoulliRBM] Iteration 268, pseudo-likelihood = -26893471.34, time = 0.28s\n",
            "[BernoulliRBM] Iteration 269, pseudo-likelihood = -25769562.01, time = 0.28s\n",
            "[BernoulliRBM] Iteration 270, pseudo-likelihood = -26815267.61, time = 0.29s\n",
            "[BernoulliRBM] Iteration 271, pseudo-likelihood = -25752882.85, time = 0.28s\n",
            "[BernoulliRBM] Iteration 272, pseudo-likelihood = -26561163.39, time = 0.29s\n",
            "[BernoulliRBM] Iteration 273, pseudo-likelihood = -26575431.40, time = 0.29s\n",
            "[BernoulliRBM] Iteration 274, pseudo-likelihood = -30864781.21, time = 0.29s\n",
            "[BernoulliRBM] Iteration 275, pseudo-likelihood = -26067377.42, time = 0.29s\n",
            "[BernoulliRBM] Iteration 276, pseudo-likelihood = -26315164.98, time = 0.29s\n",
            "[BernoulliRBM] Iteration 277, pseudo-likelihood = -25585460.11, time = 0.29s\n",
            "[BernoulliRBM] Iteration 278, pseudo-likelihood = -27328700.79, time = 0.29s\n",
            "[BernoulliRBM] Iteration 279, pseudo-likelihood = -27832447.95, time = 0.29s\n",
            "[BernoulliRBM] Iteration 280, pseudo-likelihood = -25482863.70, time = 0.29s\n",
            "[BernoulliRBM] Iteration 281, pseudo-likelihood = -28489937.74, time = 0.29s\n",
            "[BernoulliRBM] Iteration 282, pseudo-likelihood = -27001576.03, time = 0.28s\n",
            "[BernoulliRBM] Iteration 283, pseudo-likelihood = -27875031.75, time = 0.29s\n",
            "[BernoulliRBM] Iteration 284, pseudo-likelihood = -28066385.45, time = 0.30s\n",
            "[BernoulliRBM] Iteration 285, pseudo-likelihood = -28024058.02, time = 0.28s\n",
            "[BernoulliRBM] Iteration 286, pseudo-likelihood = -28890594.63, time = 0.29s\n",
            "[BernoulliRBM] Iteration 287, pseudo-likelihood = -28960366.23, time = 0.28s\n",
            "[BernoulliRBM] Iteration 288, pseudo-likelihood = -28242269.64, time = 0.30s\n",
            "[BernoulliRBM] Iteration 289, pseudo-likelihood = -29064208.60, time = 0.29s\n",
            "[BernoulliRBM] Iteration 290, pseudo-likelihood = -27021093.52, time = 0.28s\n",
            "[BernoulliRBM] Iteration 291, pseudo-likelihood = -27173709.19, time = 0.29s\n",
            "[BernoulliRBM] Iteration 292, pseudo-likelihood = -29144178.93, time = 0.28s\n",
            "[BernoulliRBM] Iteration 293, pseudo-likelihood = -28320688.21, time = 0.29s\n",
            "[BernoulliRBM] Iteration 294, pseudo-likelihood = -27432952.41, time = 0.29s\n",
            "[BernoulliRBM] Iteration 295, pseudo-likelihood = -28199918.69, time = 0.28s\n",
            "[BernoulliRBM] Iteration 296, pseudo-likelihood = -29655887.62, time = 0.29s\n",
            "[BernoulliRBM] Iteration 297, pseudo-likelihood = -29466655.63, time = 0.28s\n",
            "[BernoulliRBM] Iteration 298, pseudo-likelihood = -29954168.08, time = 0.30s\n",
            "[BernoulliRBM] Iteration 299, pseudo-likelihood = -29227035.85, time = 0.28s\n",
            "[BernoulliRBM] Iteration 300, pseudo-likelihood = -29297936.63, time = 0.28s\n"
          ],
          "name": "stdout"
        },
        {
          "output_type": "execute_result",
          "data": {
            "text/plain": [
              "Pipeline(memory=None,\n",
              "         steps=[('rbm',\n",
              "                 BernoulliRBM(batch_size=10, learning_rate=0.0002,\n",
              "                              n_components=200, n_iter=300, random_state=None,\n",
              "                              verbose=True)),\n",
              "                ('MLP',\n",
              "                 MLPClassifier(activation='relu', alpha=1e-08,\n",
              "                               batch_size='auto', beta_1=0.9, beta_2=0.999,\n",
              "                               early_stopping=False, epsilon=1e-08,\n",
              "                               hidden_layer_sizes=(70, 10),\n",
              "                               learning_rate='constant',\n",
              "                               learning_rate_init=0.0005, max_fun=15000,\n",
              "                               max_iter=5000, momentum=0.7, n_iter_no_change=10,\n",
              "                               nesterovs_momentum=True, power_t=0.5,\n",
              "                               random_state=None, shuffle=True, solver='adam',\n",
              "                               tol=0.0001, validation_fraction=0.1,\n",
              "                               verbose=False, warm_start=False))],\n",
              "         verbose=False)"
            ]
          },
          "metadata": {
            "tags": []
          },
          "execution_count": 80
        }
      ]
    },
    {
      "cell_type": "code",
      "metadata": {
        "colab": {
          "base_uri": "https://localhost:8080/"
        },
        "id": "pOREoFnAxbOJ",
        "outputId": "a5a0ce4c-5347-41be-d4d7-97446577872d"
      },
      "source": [
        "Y_pred = rbm_features_classifier.predict(test_data)\n",
        "\n",
        "print(confusion_matrix(Y_pred, test_target))\n",
        "print(accuracy_score(Y_pred, test_target))"
      ],
      "execution_count": 81,
      "outputs": [
        {
          "output_type": "stream",
          "text": [
            "[[   9    5]\n",
            " [ 426 1984]]\n",
            "0.8221947194719472\n"
          ],
          "name": "stdout"
        }
      ]
    },
    {
      "cell_type": "code",
      "metadata": {
        "colab": {
          "base_uri": "https://localhost:8080/"
        },
        "id": "usNXSJcZxbRB",
        "outputId": "bb85c215-169d-4790-b5c7-c9858e5ee022"
      },
      "source": [
        "print(\"MLP using RBM features:\\n%s\\n\" % (\n",
        "    metrics.classification_report(test_target, Y_pred)))"
      ],
      "execution_count": 82,
      "outputs": [
        {
          "output_type": "stream",
          "text": [
            "MLP using RBM features:\n",
            "              precision    recall  f1-score   support\n",
            "\n",
            "           0       0.64      0.02      0.04       435\n",
            "           1       0.82      1.00      0.90      1989\n",
            "\n",
            "    accuracy                           0.82      2424\n",
            "   macro avg       0.73      0.51      0.47      2424\n",
            "weighted avg       0.79      0.82      0.75      2424\n",
            "\n",
            "\n"
          ],
          "name": "stdout"
        }
      ]
    },
    {
      "cell_type": "code",
      "metadata": {
        "colab": {
          "base_uri": "https://localhost:8080/",
          "height": 52
        },
        "id": "RfPULoUp81Aj",
        "outputId": "e06eea75-2093-4c51-9afb-1c966423d8aa"
      },
      "source": [
        "clf = metrics.classification_report(test_target,Y_pred)\n",
        "clf"
      ],
      "execution_count": 83,
      "outputs": [
        {
          "output_type": "execute_result",
          "data": {
            "application/vnd.google.colaboratory.intrinsic+json": {
              "type": "string"
            },
            "text/plain": [
              "'              precision    recall  f1-score   support\\n\\n           0       0.64      0.02      0.04       435\\n           1       0.82      1.00      0.90      1989\\n\\n    accuracy                           0.82      2424\\n   macro avg       0.73      0.51      0.47      2424\\nweighted avg       0.79      0.82      0.75      2424\\n'"
            ]
          },
          "metadata": {
            "tags": []
          },
          "execution_count": 83
        }
      ]
    },
    {
      "cell_type": "code",
      "metadata": {
        "id": "GfQOdvp8AekZ"
      },
      "source": [
        "clf_report = classification_report(test_target,\n",
        "                                   Y_pred,\n",
        "                                   labels=target,\n",
        "                                   target_names=target,\n",
        "                                   output_dict=True)"
      ],
      "execution_count": 84,
      "outputs": []
    },
    {
      "cell_type": "code",
      "metadata": {
        "id": "eeE64ovDy1MJ"
      },
      "source": [
        "report_df = pd.DataFrame.from_dict(clf_report)"
      ],
      "execution_count": 142,
      "outputs": []
    },
    {
      "cell_type": "code",
      "metadata": {
        "colab": {
          "base_uri": "https://localhost:8080/",
          "height": 173
        },
        "id": "6ubXbLY3zN55",
        "outputId": "9249b590-5893-47fe-eae2-8669b37e3708"
      },
      "source": [
        "report_df"
      ],
      "execution_count": 143,
      "outputs": [
        {
          "output_type": "execute_result",
          "data": {
            "text/html": [
              "<div>\n",
              "<style scoped>\n",
              "    .dataframe tbody tr th:only-of-type {\n",
              "        vertical-align: middle;\n",
              "    }\n",
              "\n",
              "    .dataframe tbody tr th {\n",
              "        vertical-align: top;\n",
              "    }\n",
              "\n",
              "    .dataframe thead th {\n",
              "        text-align: right;\n",
              "    }\n",
              "</style>\n",
              "<table border=\"1\" class=\"dataframe\">\n",
              "  <thead>\n",
              "    <tr style=\"text-align: right;\">\n",
              "      <th></th>\n",
              "      <th>0</th>\n",
              "      <th>1</th>\n",
              "      <th>accuracy</th>\n",
              "      <th>macro avg</th>\n",
              "      <th>weighted avg</th>\n",
              "    </tr>\n",
              "  </thead>\n",
              "  <tbody>\n",
              "    <tr>\n",
              "      <th>precision</th>\n",
              "      <td>0.642857</td>\n",
              "      <td>0.823237</td>\n",
              "      <td>0.823002</td>\n",
              "      <td>7.901967e-01</td>\n",
              "      <td>8.148038e-01</td>\n",
              "    </tr>\n",
              "    <tr>\n",
              "      <th>recall</th>\n",
              "      <td>0.020690</td>\n",
              "      <td>0.997486</td>\n",
              "      <td>0.823002</td>\n",
              "      <td>8.185680e-01</td>\n",
              "      <td>9.518212e-01</td>\n",
              "    </tr>\n",
              "    <tr>\n",
              "      <th>f1-score</th>\n",
              "      <td>0.040089</td>\n",
              "      <td>0.902023</td>\n",
              "      <td>0.823002</td>\n",
              "      <td>7.441442e-01</td>\n",
              "      <td>8.617280e-01</td>\n",
              "    </tr>\n",
              "    <tr>\n",
              "      <th>support</th>\n",
              "      <td>435.000000</td>\n",
              "      <td>1989.000000</td>\n",
              "      <td>0.823002</td>\n",
              "      <td>1.377120e+07</td>\n",
              "      <td>1.377120e+07</td>\n",
              "    </tr>\n",
              "  </tbody>\n",
              "</table>\n",
              "</div>"
            ],
            "text/plain": [
              "                    0            1  accuracy     macro avg  weighted avg\n",
              "precision    0.642857     0.823237  0.823002  7.901967e-01  8.148038e-01\n",
              "recall       0.020690     0.997486  0.823002  8.185680e-01  9.518212e-01\n",
              "f1-score     0.040089     0.902023  0.823002  7.441442e-01  8.617280e-01\n",
              "support    435.000000  1989.000000  0.823002  1.377120e+07  1.377120e+07"
            ]
          },
          "metadata": {
            "tags": []
          },
          "execution_count": 143
        }
      ]
    },
    {
      "cell_type": "code",
      "metadata": {
        "colab": {
          "base_uri": "https://localhost:8080/",
          "height": 142
        },
        "id": "GIRwshwY4CMf",
        "outputId": "8f93239a-7f5e-4dcd-f842-fbfa38732c81"
      },
      "source": [
        "df1 = pd.DataFrame({\n",
        "        'Control': [0.642857,0.020690,0.040089],\n",
        "        'Parkinson': [0.823237,0.997486,0.902023]\n",
        "        }, index=['precision','recall','f1-score'])\n",
        "df1"
      ],
      "execution_count": 212,
      "outputs": [
        {
          "output_type": "execute_result",
          "data": {
            "text/html": [
              "<div>\n",
              "<style scoped>\n",
              "    .dataframe tbody tr th:only-of-type {\n",
              "        vertical-align: middle;\n",
              "    }\n",
              "\n",
              "    .dataframe tbody tr th {\n",
              "        vertical-align: top;\n",
              "    }\n",
              "\n",
              "    .dataframe thead th {\n",
              "        text-align: right;\n",
              "    }\n",
              "</style>\n",
              "<table border=\"1\" class=\"dataframe\">\n",
              "  <thead>\n",
              "    <tr style=\"text-align: right;\">\n",
              "      <th></th>\n",
              "      <th>Control</th>\n",
              "      <th>Parkinson</th>\n",
              "    </tr>\n",
              "  </thead>\n",
              "  <tbody>\n",
              "    <tr>\n",
              "      <th>precision</th>\n",
              "      <td>0.642857</td>\n",
              "      <td>0.823237</td>\n",
              "    </tr>\n",
              "    <tr>\n",
              "      <th>recall</th>\n",
              "      <td>0.020690</td>\n",
              "      <td>0.997486</td>\n",
              "    </tr>\n",
              "    <tr>\n",
              "      <th>f1-score</th>\n",
              "      <td>0.040089</td>\n",
              "      <td>0.902023</td>\n",
              "    </tr>\n",
              "  </tbody>\n",
              "</table>\n",
              "</div>"
            ],
            "text/plain": [
              "            Control  Parkinson\n",
              "precision  0.642857   0.823237\n",
              "recall     0.020690   0.997486\n",
              "f1-score   0.040089   0.902023"
            ]
          },
          "metadata": {
            "tags": []
          },
          "execution_count": 212
        }
      ]
    },
    {
      "cell_type": "code",
      "metadata": {
        "colab": {
          "base_uri": "https://localhost:8080/",
          "height": 111
        },
        "id": "3Uh9bn8QMXpA",
        "outputId": "4215a36c-30a1-47e3-8818-339dc9df5cf7"
      },
      "source": [
        "df1.T"
      ],
      "execution_count": 214,
      "outputs": [
        {
          "output_type": "execute_result",
          "data": {
            "text/html": [
              "<div>\n",
              "<style scoped>\n",
              "    .dataframe tbody tr th:only-of-type {\n",
              "        vertical-align: middle;\n",
              "    }\n",
              "\n",
              "    .dataframe tbody tr th {\n",
              "        vertical-align: top;\n",
              "    }\n",
              "\n",
              "    .dataframe thead th {\n",
              "        text-align: right;\n",
              "    }\n",
              "</style>\n",
              "<table border=\"1\" class=\"dataframe\">\n",
              "  <thead>\n",
              "    <tr style=\"text-align: right;\">\n",
              "      <th></th>\n",
              "      <th>precision</th>\n",
              "      <th>recall</th>\n",
              "      <th>f1-score</th>\n",
              "    </tr>\n",
              "  </thead>\n",
              "  <tbody>\n",
              "    <tr>\n",
              "      <th>Control</th>\n",
              "      <td>0.642857</td>\n",
              "      <td>0.020690</td>\n",
              "      <td>0.040089</td>\n",
              "    </tr>\n",
              "    <tr>\n",
              "      <th>Parkinson</th>\n",
              "      <td>0.823237</td>\n",
              "      <td>0.997486</td>\n",
              "      <td>0.902023</td>\n",
              "    </tr>\n",
              "  </tbody>\n",
              "</table>\n",
              "</div>"
            ],
            "text/plain": [
              "           precision    recall  f1-score\n",
              "Control     0.642857  0.020690  0.040089\n",
              "Parkinson   0.823237  0.997486  0.902023"
            ]
          },
          "metadata": {
            "tags": []
          },
          "execution_count": 214
        }
      ]
    },
    {
      "cell_type": "code",
      "metadata": {
        "colab": {
          "base_uri": "https://localhost:8080/",
          "height": 353
        },
        "id": "aNrv3L1VMRUp",
        "outputId": "c6deb5ce-1018-402d-b044-8e7f552baa4b"
      },
      "source": [
        "\n",
        "fig = plt.figure()\n",
        "\n",
        "ax = fig.add_axes([0,0,1,1])\n",
        "\n",
        "ax.plot(df1['Control'],label = 'Control')\n",
        "ax.plot(df1['Parkinson'],label='Parkinson')\n",
        "\n",
        "ax.legend(loc =0)"
      ],
      "execution_count": 222,
      "outputs": [
        {
          "output_type": "execute_result",
          "data": {
            "text/plain": [
              "<matplotlib.legend.Legend at 0x7f7c925c6d90>"
            ]
          },
          "metadata": {
            "tags": []
          },
          "execution_count": 222
        },
        {
          "output_type": "display_data",
          "data": {
            "image/png": "[encoded data removed]",
            "text/plain": [
              "<Figure size 432x288 with 1 Axes>"
            ]
          },
          "metadata": {
            "tags": [],
            "needs_background": "light"
          }
        }
      ]
    },
    {
      "cell_type": "code",
      "metadata": {
        "colab": {
          "base_uri": "https://localhost:8080/",
          "height": 282
        },
        "id": "BLDu3swZMrRF",
        "outputId": "5b73c094-8f4e-4ec1-a832-65179a1b3129"
      },
      "source": [
        "df1.T.plot.hist(bins=10,alpha=0.53,stacked=True)"
      ],
      "execution_count": 218,
      "outputs": [
        {
          "output_type": "execute_result",
          "data": {
            "text/plain": [
              "<matplotlib.axes._subplots.AxesSubplot at 0x7f7c9269b190>"
            ]
          },
          "metadata": {
            "tags": []
          },
          "execution_count": 218
        },
        {
          "output_type": "display_data",
          "data": {
            "image/png": "[encoded data removed]",
            "text/plain": [
              "<Figure size 432x288 with 1 Axes>"
            ]
          },
          "metadata": {
            "tags": [],
            "needs_background": "light"
          }
        }
      ]
    },
    {
      "cell_type": "code",
      "metadata": {
        "colab": {
          "base_uri": "https://localhost:8080/"
        },
        "id": "PbtGdtPtz_yS",
        "outputId": "de5923de-bdc9-45f5-9f72-9d4fd10e8795"
      },
      "source": [
        "report_df.accuracy"
      ],
      "execution_count": 170,
      "outputs": [
        {
          "output_type": "execute_result",
          "data": {
            "text/plain": [
              "precision    0.823002\n",
              "recall       0.823002\n",
              "f1-score     0.823002\n",
              "support      0.823002\n",
              "Name: accuracy, dtype: float64"
            ]
          },
          "metadata": {
            "tags": []
          },
          "execution_count": 170
        }
      ]
    },
    {
      "cell_type": "code",
      "metadata": {
        "colab": {
          "base_uri": "https://localhost:8080/",
          "height": 311
        },
        "id": "BSD9nCbNy5wE",
        "outputId": "f7d15d0f-927d-4f6e-f043-fefcb478cf32"
      },
      "source": [
        "ax = report_df.plot.bar()"
      ],
      "execution_count": 173,
      "outputs": [
        {
          "output_type": "display_data",
          "data": {
            "image/png": "[encoded data removed]",
            "text/plain": [
              "<Figure size 432x288 with 1 Axes>"
            ]
          },
          "metadata": {
            "tags": [],
            "needs_background": "light"
          }
        }
      ]
    },
    {
      "cell_type": "code",
      "metadata": {
        "colab": {
          "base_uri": "https://localhost:8080/",
          "height": 204
        },
        "id": "oTVu--_f93hS",
        "outputId": "f85d33c3-161e-4785-c5fe-38a4ffcd0a7f"
      },
      "source": [
        "report_df.T"
      ],
      "execution_count": 182,
      "outputs": [
        {
          "output_type": "execute_result",
          "data": {
            "text/html": [
              "<div>\n",
              "<style scoped>\n",
              "    .dataframe tbody tr th:only-of-type {\n",
              "        vertical-align: middle;\n",
              "    }\n",
              "\n",
              "    .dataframe tbody tr th {\n",
              "        vertical-align: top;\n",
              "    }\n",
              "\n",
              "    .dataframe thead th {\n",
              "        text-align: right;\n",
              "    }\n",
              "</style>\n",
              "<table border=\"1\" class=\"dataframe\">\n",
              "  <thead>\n",
              "    <tr style=\"text-align: right;\">\n",
              "      <th></th>\n",
              "      <th>precision</th>\n",
              "      <th>recall</th>\n",
              "      <th>f1-score</th>\n",
              "      <th>support</th>\n",
              "    </tr>\n",
              "  </thead>\n",
              "  <tbody>\n",
              "    <tr>\n",
              "      <th>0</th>\n",
              "      <td>0.642857</td>\n",
              "      <td>0.020690</td>\n",
              "      <td>0.040089</td>\n",
              "      <td>4.350000e+02</td>\n",
              "    </tr>\n",
              "    <tr>\n",
              "      <th>1</th>\n",
              "      <td>0.823237</td>\n",
              "      <td>0.997486</td>\n",
              "      <td>0.902023</td>\n",
              "      <td>1.989000e+03</td>\n",
              "    </tr>\n",
              "    <tr>\n",
              "      <th>accuracy</th>\n",
              "      <td>0.823002</td>\n",
              "      <td>0.823002</td>\n",
              "      <td>0.823002</td>\n",
              "      <td>8.230018e-01</td>\n",
              "    </tr>\n",
              "    <tr>\n",
              "      <th>macro avg</th>\n",
              "      <td>0.790197</td>\n",
              "      <td>0.818568</td>\n",
              "      <td>0.744144</td>\n",
              "      <td>1.377120e+07</td>\n",
              "    </tr>\n",
              "    <tr>\n",
              "      <th>weighted avg</th>\n",
              "      <td>0.814804</td>\n",
              "      <td>0.951821</td>\n",
              "      <td>0.861728</td>\n",
              "      <td>1.377120e+07</td>\n",
              "    </tr>\n",
              "  </tbody>\n",
              "</table>\n",
              "</div>"
            ],
            "text/plain": [
              "              precision    recall  f1-score       support\n",
              "0              0.642857  0.020690  0.040089  4.350000e+02\n",
              "1              0.823237  0.997486  0.902023  1.989000e+03\n",
              "accuracy       0.823002  0.823002  0.823002  8.230018e-01\n",
              "macro avg      0.790197  0.818568  0.744144  1.377120e+07\n",
              "weighted avg   0.814804  0.951821  0.861728  1.377120e+07"
            ]
          },
          "metadata": {
            "tags": []
          },
          "execution_count": 182
        }
      ]
    },
    {
      "cell_type": "code",
      "metadata": {
        "colab": {
          "base_uri": "https://localhost:8080/",
          "height": 204
        },
        "id": "DE2l32pZ_FS4",
        "outputId": "0a394e99-61f9-4c42-baf9-d291f3633d24"
      },
      "source": [
        "report_dff =report_df.T \n",
        "report_dff"
      ],
      "execution_count": 184,
      "outputs": [
        {
          "output_type": "execute_result",
          "data": {
            "text/html": [
              "<div>\n",
              "<style scoped>\n",
              "    .dataframe tbody tr th:only-of-type {\n",
              "        vertical-align: middle;\n",
              "    }\n",
              "\n",
              "    .dataframe tbody tr th {\n",
              "        vertical-align: top;\n",
              "    }\n",
              "\n",
              "    .dataframe thead th {\n",
              "        text-align: right;\n",
              "    }\n",
              "</style>\n",
              "<table border=\"1\" class=\"dataframe\">\n",
              "  <thead>\n",
              "    <tr style=\"text-align: right;\">\n",
              "      <th></th>\n",
              "      <th>precision</th>\n",
              "      <th>recall</th>\n",
              "      <th>f1-score</th>\n",
              "      <th>support</th>\n",
              "    </tr>\n",
              "  </thead>\n",
              "  <tbody>\n",
              "    <tr>\n",
              "      <th>0</th>\n",
              "      <td>0.642857</td>\n",
              "      <td>0.020690</td>\n",
              "      <td>0.040089</td>\n",
              "      <td>4.350000e+02</td>\n",
              "    </tr>\n",
              "    <tr>\n",
              "      <th>1</th>\n",
              "      <td>0.823237</td>\n",
              "      <td>0.997486</td>\n",
              "      <td>0.902023</td>\n",
              "      <td>1.989000e+03</td>\n",
              "    </tr>\n",
              "    <tr>\n",
              "      <th>accuracy</th>\n",
              "      <td>0.823002</td>\n",
              "      <td>0.823002</td>\n",
              "      <td>0.823002</td>\n",
              "      <td>8.230018e-01</td>\n",
              "    </tr>\n",
              "    <tr>\n",
              "      <th>macro avg</th>\n",
              "      <td>0.790197</td>\n",
              "      <td>0.818568</td>\n",
              "      <td>0.744144</td>\n",
              "      <td>1.377120e+07</td>\n",
              "    </tr>\n",
              "    <tr>\n",
              "      <th>weighted avg</th>\n",
              "      <td>0.814804</td>\n",
              "      <td>0.951821</td>\n",
              "      <td>0.861728</td>\n",
              "      <td>1.377120e+07</td>\n",
              "    </tr>\n",
              "  </tbody>\n",
              "</table>\n",
              "</div>"
            ],
            "text/plain": [
              "              precision    recall  f1-score       support\n",
              "0              0.642857  0.020690  0.040089  4.350000e+02\n",
              "1              0.823237  0.997486  0.902023  1.989000e+03\n",
              "accuracy       0.823002  0.823002  0.823002  8.230018e-01\n",
              "macro avg      0.790197  0.818568  0.744144  1.377120e+07\n",
              "weighted avg   0.814804  0.951821  0.861728  1.377120e+07"
            ]
          },
          "metadata": {
            "tags": []
          },
          "execution_count": 184
        }
      ]
    },
    {
      "cell_type": "code",
      "metadata": {
        "colab": {
          "base_uri": "https://localhost:8080/",
          "height": 282
        },
        "id": "CLbCXC_p_Urr",
        "outputId": "af50175a-4ac7-4a89-9fdb-a8ade9db6c27"
      },
      "source": [
        ""
      ],
      "execution_count": 210,
      "outputs": [
        {
          "output_type": "error",
          "ename": "IndexError",
          "evalue": "ignored",
          "traceback": [
            "\u001b[0;31m---------------------------------------------------------------------------\u001b[0m",
            "\u001b[0;31mIndexError\u001b[0m                                Traceback (most recent call last)",
            "\u001b[0;32m<ipython-input-210-0f13f5be96b5>\u001b[0m in \u001b[0;36m<module>\u001b[0;34m()\u001b[0m\n\u001b[0;32m----> 1\u001b[0;31m \u001b[0mreport_dff\u001b[0m\u001b[0;34m.\u001b[0m\u001b[0mindex\u001b[0m\u001b[0;34m[\u001b[0m\u001b[0maccuracy\u001b[0m\u001b[0;34m]\u001b[0m\u001b[0;34m\u001b[0m\u001b[0;34m\u001b[0m\u001b[0m\n\u001b[0m",
            "\u001b[0;32m/usr/local/lib/python3.7/dist-packages/pandas/core/indexes/base.py\u001b[0m in \u001b[0;36m__getitem__\u001b[0;34m(self, key)\u001b[0m\n\u001b[1;32m   4112\u001b[0m             \u001b[0mkey\u001b[0m \u001b[0;34m=\u001b[0m \u001b[0mnp\u001b[0m\u001b[0;34m.\u001b[0m\u001b[0masarray\u001b[0m\u001b[0;34m(\u001b[0m\u001b[0mkey\u001b[0m\u001b[0;34m,\u001b[0m \u001b[0mdtype\u001b[0m\u001b[0;34m=\u001b[0m\u001b[0mbool\u001b[0m\u001b[0;34m)\u001b[0m\u001b[0;34m\u001b[0m\u001b[0;34m\u001b[0m\u001b[0m\n\u001b[1;32m   4113\u001b[0m \u001b[0;34m\u001b[0m\u001b[0m\n\u001b[0;32m-> 4114\u001b[0;31m         \u001b[0mresult\u001b[0m \u001b[0;34m=\u001b[0m \u001b[0mgetitem\u001b[0m\u001b[0;34m(\u001b[0m\u001b[0mkey\u001b[0m\u001b[0;34m)\u001b[0m\u001b[0;34m\u001b[0m\u001b[0;34m\u001b[0m\u001b[0m\n\u001b[0m\u001b[1;32m   4115\u001b[0m         \u001b[0;32mif\u001b[0m \u001b[0;32mnot\u001b[0m \u001b[0mis_scalar\u001b[0m\u001b[0;34m(\u001b[0m\u001b[0mresult\u001b[0m\u001b[0;34m)\u001b[0m\u001b[0;34m:\u001b[0m\u001b[0;34m\u001b[0m\u001b[0;34m\u001b[0m\u001b[0m\n\u001b[1;32m   4116\u001b[0m             \u001b[0;32mif\u001b[0m \u001b[0mnp\u001b[0m\u001b[0;34m.\u001b[0m\u001b[0mndim\u001b[0m\u001b[0;34m(\u001b[0m\u001b[0mresult\u001b[0m\u001b[0;34m)\u001b[0m \u001b[0;34m>\u001b[0m \u001b[0;36m1\u001b[0m\u001b[0;34m:\u001b[0m\u001b[0;34m\u001b[0m\u001b[0;34m\u001b[0m\u001b[0m\n",
            "\u001b[0;31mIndexError\u001b[0m: only integers, slices (`:`), ellipsis (`...`), numpy.newaxis (`None`) and integer or boolean arrays are valid indices"
          ]
        }
      ]
    },
    {
      "cell_type": "code",
      "metadata": {
        "colab": {
          "base_uri": "https://localhost:8080/"
        },
        "id": "o9tzuVdzB-TP",
        "outputId": "cd0d9df6-5b26-4cbf-8574-b9ac340cb220"
      },
      "source": [
        "report_dff[:2]['f1-score']"
      ],
      "execution_count": 203,
      "outputs": [
        {
          "output_type": "execute_result",
          "data": {
            "text/plain": [
              "0    0.040089\n",
              "1    0.902023\n",
              "Name: f1-score, dtype: float64"
            ]
          },
          "metadata": {
            "tags": []
          },
          "execution_count": 203
        }
      ]
    },
    {
      "cell_type": "code",
      "metadata": {
        "colab": {
          "base_uri": "https://localhost:8080/",
          "height": 306
        },
        "id": "RHNLUC3pC8Kd",
        "outputId": "124425a3-79d0-4efa-b74f-1759ec0f3017"
      },
      "source": [
        "sns.catplot(x=report_dff.index[:1],y=report_dff.index[:2],kind='bar',hue=report_dff[:2]['precision'],data=report_dff)"
      ],
      "execution_count": 208,
      "outputs": [
        {
          "output_type": "error",
          "ename": "ValueError",
          "evalue": "ignored",
          "traceback": [
            "\u001b[0;31m---------------------------------------------------------------------------\u001b[0m",
            "\u001b[0;31mValueError\u001b[0m                                Traceback (most recent call last)",
            "\u001b[0;32m<ipython-input-208-d1a53ea71fc7>\u001b[0m in \u001b[0;36m<module>\u001b[0;34m()\u001b[0m\n\u001b[0;32m----> 1\u001b[0;31m \u001b[0msns\u001b[0m\u001b[0;34m.\u001b[0m\u001b[0mcatplot\u001b[0m\u001b[0;34m(\u001b[0m\u001b[0mx\u001b[0m\u001b[0;34m=\u001b[0m\u001b[0mreport_dff\u001b[0m\u001b[0;34m.\u001b[0m\u001b[0mindex\u001b[0m\u001b[0;34m[\u001b[0m\u001b[0;34m:\u001b[0m\u001b[0;36m1\u001b[0m\u001b[0;34m]\u001b[0m\u001b[0;34m,\u001b[0m\u001b[0my\u001b[0m\u001b[0;34m=\u001b[0m\u001b[0mreport_dff\u001b[0m\u001b[0;34m.\u001b[0m\u001b[0mindex\u001b[0m\u001b[0;34m[\u001b[0m\u001b[0;34m:\u001b[0m\u001b[0;36m2\u001b[0m\u001b[0;34m]\u001b[0m\u001b[0;34m,\u001b[0m\u001b[0mkind\u001b[0m\u001b[0;34m=\u001b[0m\u001b[0;34m'bar'\u001b[0m\u001b[0;34m,\u001b[0m\u001b[0mhue\u001b[0m\u001b[0;34m=\u001b[0m\u001b[0mreport_dff\u001b[0m\u001b[0;34m[\u001b[0m\u001b[0;34m:\u001b[0m\u001b[0;36m2\u001b[0m\u001b[0;34m]\u001b[0m\u001b[0;34m[\u001b[0m\u001b[0;34m'precision'\u001b[0m\u001b[0;34m]\u001b[0m\u001b[0;34m,\u001b[0m\u001b[0mdata\u001b[0m\u001b[0;34m=\u001b[0m\u001b[0mreport_dff\u001b[0m\u001b[0;34m)\u001b[0m\u001b[0;34m\u001b[0m\u001b[0;34m\u001b[0m\u001b[0m\n\u001b[0m",
            "\u001b[0;32m/usr/local/lib/python3.7/dist-packages/seaborn/_decorators.py\u001b[0m in \u001b[0;36minner_f\u001b[0;34m(*args, **kwargs)\u001b[0m\n\u001b[1;32m     44\u001b[0m             )\n\u001b[1;32m     45\u001b[0m         \u001b[0mkwargs\u001b[0m\u001b[0;34m.\u001b[0m\u001b[0mupdate\u001b[0m\u001b[0;34m(\u001b[0m\u001b[0;34m{\u001b[0m\u001b[0mk\u001b[0m\u001b[0;34m:\u001b[0m \u001b[0marg\u001b[0m \u001b[0;32mfor\u001b[0m \u001b[0mk\u001b[0m\u001b[0;34m,\u001b[0m \u001b[0marg\u001b[0m \u001b[0;32min\u001b[0m \u001b[0mzip\u001b[0m\u001b[0;34m(\u001b[0m\u001b[0msig\u001b[0m\u001b[0;34m.\u001b[0m\u001b[0mparameters\u001b[0m\u001b[0;34m,\u001b[0m \u001b[0margs\u001b[0m\u001b[0;34m)\u001b[0m\u001b[0;34m}\u001b[0m\u001b[0;34m)\u001b[0m\u001b[0;34m\u001b[0m\u001b[0;34m\u001b[0m\u001b[0m\n\u001b[0;32m---> 46\u001b[0;31m         \u001b[0;32mreturn\u001b[0m \u001b[0mf\u001b[0m\u001b[0;34m(\u001b[0m\u001b[0;34m**\u001b[0m\u001b[0mkwargs\u001b[0m\u001b[0;34m)\u001b[0m\u001b[0;34m\u001b[0m\u001b[0;34m\u001b[0m\u001b[0m\n\u001b[0m\u001b[1;32m     47\u001b[0m     \u001b[0;32mreturn\u001b[0m \u001b[0minner_f\u001b[0m\u001b[0;34m\u001b[0m\u001b[0;34m\u001b[0m\u001b[0m\n\u001b[1;32m     48\u001b[0m \u001b[0;34m\u001b[0m\u001b[0m\n",
            "\u001b[0;32m/usr/local/lib/python3.7/dist-packages/seaborn/categorical.py\u001b[0m in \u001b[0;36mcatplot\u001b[0;34m(x, y, hue, data, row, col, col_wrap, estimator, ci, n_boot, units, seed, order, hue_order, row_order, col_order, kind, height, aspect, orient, color, palette, legend, legend_out, sharex, sharey, margin_titles, facet_kws, **kwargs)\u001b[0m\n\u001b[1;32m   3787\u001b[0m     \u001b[0mp\u001b[0m \u001b[0;34m=\u001b[0m \u001b[0m_CategoricalPlotter\u001b[0m\u001b[0;34m(\u001b[0m\u001b[0;34m)\u001b[0m\u001b[0;34m\u001b[0m\u001b[0;34m\u001b[0m\u001b[0m\n\u001b[1;32m   3788\u001b[0m     \u001b[0mp\u001b[0m\u001b[0;34m.\u001b[0m\u001b[0mrequire_numeric\u001b[0m \u001b[0;34m=\u001b[0m \u001b[0mplotter_class\u001b[0m\u001b[0;34m.\u001b[0m\u001b[0mrequire_numeric\u001b[0m\u001b[0;34m\u001b[0m\u001b[0;34m\u001b[0m\u001b[0m\n\u001b[0;32m-> 3789\u001b[0;31m     \u001b[0mp\u001b[0m\u001b[0;34m.\u001b[0m\u001b[0mestablish_variables\u001b[0m\u001b[0;34m(\u001b[0m\u001b[0mx_\u001b[0m\u001b[0;34m,\u001b[0m \u001b[0my_\u001b[0m\u001b[0;34m,\u001b[0m \u001b[0mhue\u001b[0m\u001b[0;34m,\u001b[0m \u001b[0mdata\u001b[0m\u001b[0;34m,\u001b[0m \u001b[0morient\u001b[0m\u001b[0;34m,\u001b[0m \u001b[0morder\u001b[0m\u001b[0;34m,\u001b[0m \u001b[0mhue_order\u001b[0m\u001b[0;34m)\u001b[0m\u001b[0;34m\u001b[0m\u001b[0;34m\u001b[0m\u001b[0m\n\u001b[0m\u001b[1;32m   3790\u001b[0m     if (\n\u001b[1;32m   3791\u001b[0m         \u001b[0morder\u001b[0m \u001b[0;32mis\u001b[0m \u001b[0;32mnot\u001b[0m \u001b[0;32mNone\u001b[0m\u001b[0;34m\u001b[0m\u001b[0;34m\u001b[0m\u001b[0m\n",
            "\u001b[0;32m/usr/local/lib/python3.7/dist-packages/seaborn/categorical.py\u001b[0m in \u001b[0;36mestablish_variables\u001b[0;34m(self, x, y, hue, data, orient, order, hue_order, units)\u001b[0m\n\u001b[1;32m    205\u001b[0m                 \u001b[0;31m# Group the numeric data\u001b[0m\u001b[0;34m\u001b[0m\u001b[0;34m\u001b[0m\u001b[0;34m\u001b[0m\u001b[0m\n\u001b[1;32m    206\u001b[0m                 plot_data, value_label = self._group_longform(vals, groups,\n\u001b[0;32m--> 207\u001b[0;31m                                                               group_names)\n\u001b[0m\u001b[1;32m    208\u001b[0m \u001b[0;34m\u001b[0m\u001b[0m\n\u001b[1;32m    209\u001b[0m                 \u001b[0;31m# Now handle the hue levels for nested ordering\u001b[0m\u001b[0;34m\u001b[0m\u001b[0;34m\u001b[0m\u001b[0;34m\u001b[0m\u001b[0m\n",
            "\u001b[0;32m/usr/local/lib/python3.7/dist-packages/seaborn/categorical.py\u001b[0m in \u001b[0;36m_group_longform\u001b[0;34m(self, vals, grouper, order)\u001b[0m\n\u001b[1;32m    251\u001b[0m \u001b[0;34m\u001b[0m\u001b[0m\n\u001b[1;32m    252\u001b[0m         \u001b[0;31m# Group the val data\u001b[0m\u001b[0;34m\u001b[0m\u001b[0;34m\u001b[0m\u001b[0;34m\u001b[0m\u001b[0m\n\u001b[0;32m--> 253\u001b[0;31m         \u001b[0mgrouped_vals\u001b[0m \u001b[0;34m=\u001b[0m \u001b[0mvals\u001b[0m\u001b[0;34m.\u001b[0m\u001b[0mgroupby\u001b[0m\u001b[0;34m(\u001b[0m\u001b[0mgrouper\u001b[0m\u001b[0;34m)\u001b[0m\u001b[0;34m\u001b[0m\u001b[0;34m\u001b[0m\u001b[0m\n\u001b[0m\u001b[1;32m    254\u001b[0m         \u001b[0mout_data\u001b[0m \u001b[0;34m=\u001b[0m \u001b[0;34m[\u001b[0m\u001b[0;34m]\u001b[0m\u001b[0;34m\u001b[0m\u001b[0;34m\u001b[0m\u001b[0m\n\u001b[1;32m    255\u001b[0m         \u001b[0;32mfor\u001b[0m \u001b[0mg\u001b[0m \u001b[0;32min\u001b[0m \u001b[0morder\u001b[0m\u001b[0;34m:\u001b[0m\u001b[0;34m\u001b[0m\u001b[0;34m\u001b[0m\u001b[0m\n",
            "\u001b[0;32m/usr/local/lib/python3.7/dist-packages/pandas/core/series.py\u001b[0m in \u001b[0;36mgroupby\u001b[0;34m(self, by, axis, level, as_index, sort, group_keys, squeeze, observed, dropna)\u001b[0m\n\u001b[1;32m   1744\u001b[0m             \u001b[0msqueeze\u001b[0m\u001b[0;34m=\u001b[0m\u001b[0msqueeze\u001b[0m\u001b[0;34m,\u001b[0m\u001b[0;34m\u001b[0m\u001b[0;34m\u001b[0m\u001b[0m\n\u001b[1;32m   1745\u001b[0m             \u001b[0mobserved\u001b[0m\u001b[0;34m=\u001b[0m\u001b[0mobserved\u001b[0m\u001b[0;34m,\u001b[0m\u001b[0;34m\u001b[0m\u001b[0;34m\u001b[0m\u001b[0m\n\u001b[0;32m-> 1746\u001b[0;31m             \u001b[0mdropna\u001b[0m\u001b[0;34m=\u001b[0m\u001b[0mdropna\u001b[0m\u001b[0;34m,\u001b[0m\u001b[0;34m\u001b[0m\u001b[0;34m\u001b[0m\u001b[0m\n\u001b[0m\u001b[1;32m   1747\u001b[0m         )\n\u001b[1;32m   1748\u001b[0m \u001b[0;34m\u001b[0m\u001b[0m\n",
            "\u001b[0;32m/usr/local/lib/python3.7/dist-packages/pandas/core/groupby/groupby.py\u001b[0m in \u001b[0;36m__init__\u001b[0;34m(self, obj, keys, axis, level, grouper, exclusions, selection, as_index, sort, group_keys, squeeze, observed, mutated, dropna)\u001b[0m\n\u001b[1;32m    531\u001b[0m                 \u001b[0mobserved\u001b[0m\u001b[0;34m=\u001b[0m\u001b[0mobserved\u001b[0m\u001b[0;34m,\u001b[0m\u001b[0;34m\u001b[0m\u001b[0;34m\u001b[0m\u001b[0m\n\u001b[1;32m    532\u001b[0m                 \u001b[0mmutated\u001b[0m\u001b[0;34m=\u001b[0m\u001b[0mself\u001b[0m\u001b[0;34m.\u001b[0m\u001b[0mmutated\u001b[0m\u001b[0;34m,\u001b[0m\u001b[0;34m\u001b[0m\u001b[0;34m\u001b[0m\u001b[0m\n\u001b[0;32m--> 533\u001b[0;31m                 \u001b[0mdropna\u001b[0m\u001b[0;34m=\u001b[0m\u001b[0mself\u001b[0m\u001b[0;34m.\u001b[0m\u001b[0mdropna\u001b[0m\u001b[0;34m,\u001b[0m\u001b[0;34m\u001b[0m\u001b[0;34m\u001b[0m\u001b[0m\n\u001b[0m\u001b[1;32m    534\u001b[0m             )\n\u001b[1;32m    535\u001b[0m \u001b[0;34m\u001b[0m\u001b[0m\n",
            "\u001b[0;32m/usr/local/lib/python3.7/dist-packages/pandas/core/groupby/grouper.py\u001b[0m in \u001b[0;36mget_grouper\u001b[0;34m(obj, key, axis, level, sort, observed, mutated, validate, dropna)\u001b[0m\n\u001b[1;32m    812\u001b[0m                 \u001b[0mdropna\u001b[0m\u001b[0;34m=\u001b[0m\u001b[0mdropna\u001b[0m\u001b[0;34m,\u001b[0m\u001b[0;34m\u001b[0m\u001b[0;34m\u001b[0m\u001b[0m\n\u001b[1;32m    813\u001b[0m             )\n\u001b[0;32m--> 814\u001b[0;31m             \u001b[0;32mif\u001b[0m \u001b[0;32mnot\u001b[0m \u001b[0misinstance\u001b[0m\u001b[0;34m(\u001b[0m\u001b[0mgpr\u001b[0m\u001b[0;34m,\u001b[0m \u001b[0mGrouping\u001b[0m\u001b[0;34m)\u001b[0m\u001b[0;34m\u001b[0m\u001b[0;34m\u001b[0m\u001b[0m\n\u001b[0m\u001b[1;32m    815\u001b[0m             \u001b[0;32melse\u001b[0m \u001b[0mgpr\u001b[0m\u001b[0;34m\u001b[0m\u001b[0;34m\u001b[0m\u001b[0m\n\u001b[1;32m    816\u001b[0m         )\n",
            "\u001b[0;32m/usr/local/lib/python3.7/dist-packages/pandas/core/groupby/grouper.py\u001b[0m in \u001b[0;36m__init__\u001b[0;34m(self, index, grouper, obj, name, level, sort, observed, in_axis, dropna)\u001b[0m\n\u001b[1;32m    425\u001b[0m         \u001b[0mself\u001b[0m\u001b[0;34m.\u001b[0m\u001b[0mname\u001b[0m \u001b[0;34m=\u001b[0m \u001b[0mname\u001b[0m\u001b[0;34m\u001b[0m\u001b[0;34m\u001b[0m\u001b[0m\n\u001b[1;32m    426\u001b[0m         \u001b[0mself\u001b[0m\u001b[0;34m.\u001b[0m\u001b[0mlevel\u001b[0m \u001b[0;34m=\u001b[0m \u001b[0mlevel\u001b[0m\u001b[0;34m\u001b[0m\u001b[0;34m\u001b[0m\u001b[0m\n\u001b[0;32m--> 427\u001b[0;31m         \u001b[0mself\u001b[0m\u001b[0;34m.\u001b[0m\u001b[0mgrouper\u001b[0m \u001b[0;34m=\u001b[0m \u001b[0m_convert_grouper\u001b[0m\u001b[0;34m(\u001b[0m\u001b[0mindex\u001b[0m\u001b[0;34m,\u001b[0m \u001b[0mgrouper\u001b[0m\u001b[0;34m)\u001b[0m\u001b[0;34m\u001b[0m\u001b[0;34m\u001b[0m\u001b[0m\n\u001b[0m\u001b[1;32m    428\u001b[0m         \u001b[0mself\u001b[0m\u001b[0;34m.\u001b[0m\u001b[0mall_grouper\u001b[0m \u001b[0;34m=\u001b[0m \u001b[0;32mNone\u001b[0m\u001b[0;34m\u001b[0m\u001b[0;34m\u001b[0m\u001b[0m\n\u001b[1;32m    429\u001b[0m         \u001b[0mself\u001b[0m\u001b[0;34m.\u001b[0m\u001b[0mindex\u001b[0m \u001b[0;34m=\u001b[0m \u001b[0mindex\u001b[0m\u001b[0;34m\u001b[0m\u001b[0;34m\u001b[0m\u001b[0m\n",
            "\u001b[0;32m/usr/local/lib/python3.7/dist-packages/pandas/core/groupby/grouper.py\u001b[0m in \u001b[0;36m_convert_grouper\u001b[0;34m(axis, grouper)\u001b[0m\n\u001b[1;32m    842\u001b[0m     \u001b[0;32melif\u001b[0m \u001b[0misinstance\u001b[0m\u001b[0;34m(\u001b[0m\u001b[0mgrouper\u001b[0m\u001b[0;34m,\u001b[0m \u001b[0;34m(\u001b[0m\u001b[0mlist\u001b[0m\u001b[0;34m,\u001b[0m \u001b[0mSeries\u001b[0m\u001b[0;34m,\u001b[0m \u001b[0mIndex\u001b[0m\u001b[0;34m,\u001b[0m \u001b[0mnp\u001b[0m\u001b[0;34m.\u001b[0m\u001b[0mndarray\u001b[0m\u001b[0;34m)\u001b[0m\u001b[0;34m)\u001b[0m\u001b[0;34m:\u001b[0m\u001b[0;34m\u001b[0m\u001b[0;34m\u001b[0m\u001b[0m\n\u001b[1;32m    843\u001b[0m         \u001b[0;32mif\u001b[0m \u001b[0mlen\u001b[0m\u001b[0;34m(\u001b[0m\u001b[0mgrouper\u001b[0m\u001b[0;34m)\u001b[0m \u001b[0;34m!=\u001b[0m \u001b[0mlen\u001b[0m\u001b[0;34m(\u001b[0m\u001b[0maxis\u001b[0m\u001b[0;34m)\u001b[0m\u001b[0;34m:\u001b[0m\u001b[0;34m\u001b[0m\u001b[0;34m\u001b[0m\u001b[0m\n\u001b[0;32m--> 844\u001b[0;31m             \u001b[0;32mraise\u001b[0m \u001b[0mValueError\u001b[0m\u001b[0;34m(\u001b[0m\u001b[0;34m\"Grouper and axis must be same length\"\u001b[0m\u001b[0;34m)\u001b[0m\u001b[0;34m\u001b[0m\u001b[0;34m\u001b[0m\u001b[0m\n\u001b[0m\u001b[1;32m    845\u001b[0m         \u001b[0;32mreturn\u001b[0m \u001b[0mgrouper\u001b[0m\u001b[0;34m\u001b[0m\u001b[0;34m\u001b[0m\u001b[0m\n\u001b[1;32m    846\u001b[0m     \u001b[0;32melse\u001b[0m\u001b[0;34m:\u001b[0m\u001b[0;34m\u001b[0m\u001b[0;34m\u001b[0m\u001b[0m\n",
            "\u001b[0;31mValueError\u001b[0m: Grouper and axis must be same length"
          ]
        }
      ]
    },
    {
      "cell_type": "code",
      "metadata": {
        "colab": {
          "base_uri": "https://localhost:8080/",
          "height": 800
        },
        "id": "qFqeGClK8Skv",
        "outputId": "ad142372-6072-4ed1-8572-4bdaed139a1a"
      },
      "source": [
        "g = sns.catplot(x=report_dff.index[:2],y=report_dff[:2]['f1-score'],kind='bar',data=report_dff)\n",
        "g.fig.set_figwidth(11.27)\n",
        "g.fig.set_figheight(11.7)"
      ],
      "execution_count": 204,
      "outputs": [
        {
          "output_type": "display_data",
          "data": {
            "image/png": "[encoded data removed]",
            "text/plain": [
              "<Figure size 811.44x842.4 with 1 Axes>"
            ]
          },
          "metadata": {
            "tags": [],
            "needs_background": "light"
          }
        }
      ]
    },
    {
      "cell_type": "code",
      "metadata": {
        "id": "VGzRyvRSC5iO"
      },
      "source": [
        ""
      ],
      "execution_count": null,
      "outputs": []
    },
    {
      "cell_type": "code",
      "metadata": {
        "colab": {
          "base_uri": "https://localhost:8080/",
          "height": 800
        },
        "id": "ml2SbKAaCaNH",
        "outputId": "f18ebdaa-a534-410d-d5b3-30538767fce9"
      },
      "source": [
        "g = sns.catplot(x=report_dff.index[:2],y=report_dff[:2]['precision'],kind='bar',data=report_dff)\n",
        "g.fig.set_figwidth(11.27)\n",
        "g.fig.set_figheight(11.7)"
      ],
      "execution_count": 205,
      "outputs": [
        {
          "output_type": "display_data",
          "data": {
            "image/png": "[encoded data removed]",
            "text/plain": [
              "<Figure size 811.44x842.4 with 1 Axes>"
            ]
          },
          "metadata": {
            "tags": [],
            "needs_background": "light"
          }
        }
      ]
    },
    {
      "cell_type": "code",
      "metadata": {
        "colab": {
          "base_uri": "https://localhost:8080/",
          "height": 282
        },
        "id": "ygVot7g3BCZM",
        "outputId": "9f28b2b3-0005-45c5-f709-8a22845c1b84"
      },
      "source": [
        "sns.heatmap(pd.DataFrame(clf_report).iloc[:-1, :].T, annot=True)"
      ],
      "execution_count": 85,
      "outputs": [
        {
          "output_type": "execute_result",
          "data": {
            "text/plain": [
              "<matplotlib.axes._subplots.AxesSubplot at 0x7f7c992e1ad0>"
            ]
          },
          "metadata": {
            "tags": []
          },
          "execution_count": 85
        },
        {
          "output_type": "display_data",
          "data": {
            "image/png": "[encoded data removed]",
            "text/plain": [
              "<Figure size 432x288 with 2 Axes>"
            ]
          },
          "metadata": {
            "tags": [],
            "needs_background": "light"
          }
        }
      ]
    },
    {
      "cell_type": "code",
      "metadata": {
        "id": "YKxPJA7tneOe"
      },
      "source": [
        "# PLOTTING\n",
        "import matplotlib.pyplot as plt\n",
        "import scikitplot as skplt"
      ],
      "execution_count": 96,
      "outputs": []
    },
    {
      "cell_type": "code",
      "metadata": {
        "colab": {
          "base_uri": "https://localhost:8080/"
        },
        "id": "VPIEMzlFoGfK",
        "outputId": "f87f5285-0b30-43ea-8955-41355f6405a8"
      },
      "source": [
        "accuracy_score(Y_pred, test_target)"
      ],
      "execution_count": 131,
      "outputs": [
        {
          "output_type": "execute_result",
          "data": {
            "text/plain": [
              "0.8221947194719472"
            ]
          },
          "metadata": {
            "tags": []
          },
          "execution_count": 131
        }
      ]
    },
    {
      "cell_type": "code",
      "metadata": {
        "colab": {
          "base_uri": "https://localhost:8080/"
        },
        "id": "wtpvAeNnrOWS",
        "outputId": "c28dbd02-8abf-4e2c-a2d3-13d7a59d4bff"
      },
      "source": [
        "df.index[:2499]"
      ],
      "execution_count": 109,
      "outputs": [
        {
          "output_type": "execute_result",
          "data": {
            "text/plain": [
              "Int64Index([   0,    1,    2,    3,    4,    5,    6,    7,    8,    9,\n",
              "            ...\n",
              "            2489, 2490, 2491, 2492, 2493, 2494, 2495, 2496, 2497, 2498],\n",
              "           dtype='int64', length=2499)"
            ]
          },
          "metadata": {
            "tags": []
          },
          "execution_count": 109
        }
      ]
    },
    {
      "cell_type": "code",
      "metadata": {
        "colab": {
          "base_uri": "https://localhost:8080/",
          "height": 439
        },
        "id": "lJ4vxOkPt5AD",
        "outputId": "7fc64ee5-0f95-440f-a114-b6a930144372"
      },
      "source": [
        "final"
      ],
      "execution_count": 120,
      "outputs": [
        {
          "output_type": "execute_result",
          "data": {
            "text/html": [
              "<div>\n",
              "<style scoped>\n",
              "    .dataframe tbody tr th:only-of-type {\n",
              "        vertical-align: middle;\n",
              "    }\n",
              "\n",
              "    .dataframe tbody tr th {\n",
              "        vertical-align: top;\n",
              "    }\n",
              "\n",
              "    .dataframe thead th {\n",
              "        text-align: right;\n",
              "    }\n",
              "</style>\n",
              "<table border=\"1\" class=\"dataframe\">\n",
              "  <thead>\n",
              "    <tr style=\"text-align: right;\">\n",
              "      <th></th>\n",
              "      <th>no_strokes_st</th>\n",
              "      <th>no_strokes_dy</th>\n",
              "      <th>speed_st</th>\n",
              "      <th>speed_dy</th>\n",
              "      <th>magnitude_vel_st</th>\n",
              "      <th>magnitude_horz_vel_st</th>\n",
              "      <th>magnitude_vert_vel_st</th>\n",
              "      <th>magnitude_vel_dy</th>\n",
              "      <th>magnitude_horz_vel_dy</th>\n",
              "      <th>magnitude_vert_vel_dy</th>\n",
              "      <th>magnitude_acc_st</th>\n",
              "      <th>magnitude_horz_acc_st</th>\n",
              "      <th>magnitude_vert_acc_st</th>\n",
              "      <th>magnitude_acc_dy</th>\n",
              "      <th>magnitude_horz_acc_dy</th>\n",
              "      <th>magnitude_vert_acc_dy</th>\n",
              "      <th>magnitude_jerk_st</th>\n",
              "      <th>magnitude_horz_jerk_st</th>\n",
              "      <th>magnitude_vert_jerk_st</th>\n",
              "      <th>magnitude_jerk_dy</th>\n",
              "      <th>magnitude_horz_jerk_dy</th>\n",
              "      <th>magnitude_vert_jerk_dy</th>\n",
              "      <th>ncv_st</th>\n",
              "      <th>ncv_dy</th>\n",
              "      <th>nca_st</th>\n",
              "      <th>nca_dy</th>\n",
              "      <th>in_air_stcp</th>\n",
              "      <th>on_surface_st</th>\n",
              "      <th>on_surface_dy</th>\n",
              "      <th>target</th>\n",
              "      <th>Y_pred</th>\n",
              "    </tr>\n",
              "  </thead>\n",
              "  <tbody>\n",
              "    <tr>\n",
              "      <th>0</th>\n",
              "      <td>0.0</td>\n",
              "      <td>0.0</td>\n",
              "      <td>0.000000</td>\n",
              "      <td>0.000000</td>\n",
              "      <td>0.000000</td>\n",
              "      <td>0.000000</td>\n",
              "      <td>0.000000</td>\n",
              "      <td>0.000000</td>\n",
              "      <td>0.000000</td>\n",
              "      <td>0.000000</td>\n",
              "      <td>0.000000</td>\n",
              "      <td>0.000000</td>\n",
              "      <td>0.000000</td>\n",
              "      <td>0.000000</td>\n",
              "      <td>0.000000</td>\n",
              "      <td>0.000000</td>\n",
              "      <td>0.000000</td>\n",
              "      <td>0.000000</td>\n",
              "      <td>0.000000</td>\n",
              "      <td>0.000000</td>\n",
              "      <td>0.000000</td>\n",
              "      <td>0.000000</td>\n",
              "      <td>0.000000</td>\n",
              "      <td>0.000000</td>\n",
              "      <td>0.000000</td>\n",
              "      <td>0.0</td>\n",
              "      <td>0.0</td>\n",
              "      <td>0.0</td>\n",
              "      <td>0.0</td>\n",
              "      <td>1.0</td>\n",
              "      <td>NaN</td>\n",
              "    </tr>\n",
              "    <tr>\n",
              "      <th>1</th>\n",
              "      <td>0.0</td>\n",
              "      <td>0.0</td>\n",
              "      <td>0.000000</td>\n",
              "      <td>0.000000</td>\n",
              "      <td>0.000000</td>\n",
              "      <td>0.000000</td>\n",
              "      <td>0.000000</td>\n",
              "      <td>0.000000</td>\n",
              "      <td>0.000000</td>\n",
              "      <td>0.000000</td>\n",
              "      <td>0.000000</td>\n",
              "      <td>0.000000</td>\n",
              "      <td>0.000000</td>\n",
              "      <td>0.000000</td>\n",
              "      <td>0.000000</td>\n",
              "      <td>0.000000</td>\n",
              "      <td>0.000000</td>\n",
              "      <td>0.000000</td>\n",
              "      <td>0.000000</td>\n",
              "      <td>0.000000</td>\n",
              "      <td>0.000000</td>\n",
              "      <td>0.000000</td>\n",
              "      <td>0.000000</td>\n",
              "      <td>0.000000</td>\n",
              "      <td>0.000000</td>\n",
              "      <td>0.0</td>\n",
              "      <td>0.0</td>\n",
              "      <td>0.0</td>\n",
              "      <td>0.0</td>\n",
              "      <td>1.0</td>\n",
              "      <td>NaN</td>\n",
              "    </tr>\n",
              "    <tr>\n",
              "      <th>2</th>\n",
              "      <td>2.0</td>\n",
              "      <td>6.0</td>\n",
              "      <td>0.001793</td>\n",
              "      <td>0.001434</td>\n",
              "      <td>0.041127</td>\n",
              "      <td>0.026362</td>\n",
              "      <td>0.025751</td>\n",
              "      <td>0.059535</td>\n",
              "      <td>0.037716</td>\n",
              "      <td>0.038586</td>\n",
              "      <td>0.000159</td>\n",
              "      <td>0.000095</td>\n",
              "      <td>0.000098</td>\n",
              "      <td>0.000194</td>\n",
              "      <td>0.000118</td>\n",
              "      <td>0.000118</td>\n",
              "      <td>0.000003</td>\n",
              "      <td>0.000002</td>\n",
              "      <td>0.000002</td>\n",
              "      <td>0.000004</td>\n",
              "      <td>0.000002</td>\n",
              "      <td>0.000002</td>\n",
              "      <td>315.714286</td>\n",
              "      <td>299.666667</td>\n",
              "      <td>212.000000</td>\n",
              "      <td>285.0</td>\n",
              "      <td>705.0</td>\n",
              "      <td>4025.0</td>\n",
              "      <td>2487.0</td>\n",
              "      <td>1.0</td>\n",
              "      <td>NaN</td>\n",
              "    </tr>\n",
              "    <tr>\n",
              "      <th>3</th>\n",
              "      <td>22.0</td>\n",
              "      <td>12.0</td>\n",
              "      <td>0.001636</td>\n",
              "      <td>0.001620</td>\n",
              "      <td>0.128316</td>\n",
              "      <td>0.083959</td>\n",
              "      <td>0.079109</td>\n",
              "      <td>0.068212</td>\n",
              "      <td>0.042802</td>\n",
              "      <td>0.043473</td>\n",
              "      <td>0.000409</td>\n",
              "      <td>0.000266</td>\n",
              "      <td>0.000253</td>\n",
              "      <td>0.000270</td>\n",
              "      <td>0.000175</td>\n",
              "      <td>0.000163</td>\n",
              "      <td>0.000005</td>\n",
              "      <td>0.000003</td>\n",
              "      <td>0.000003</td>\n",
              "      <td>0.000004</td>\n",
              "      <td>0.000003</td>\n",
              "      <td>0.000003</td>\n",
              "      <td>205.714286</td>\n",
              "      <td>262.285714</td>\n",
              "      <td>53.666667</td>\n",
              "      <td>83.0</td>\n",
              "      <td>206.0</td>\n",
              "      <td>1369.0</td>\n",
              "      <td>2807.0</td>\n",
              "      <td>1.0</td>\n",
              "      <td>NaN</td>\n",
              "    </tr>\n",
              "    <tr>\n",
              "      <th>4</th>\n",
              "      <td>54.0</td>\n",
              "      <td>34.0</td>\n",
              "      <td>0.003032</td>\n",
              "      <td>0.002656</td>\n",
              "      <td>0.092602</td>\n",
              "      <td>0.060102</td>\n",
              "      <td>0.057756</td>\n",
              "      <td>0.104627</td>\n",
              "      <td>0.067375</td>\n",
              "      <td>0.066732</td>\n",
              "      <td>0.000406</td>\n",
              "      <td>0.000235</td>\n",
              "      <td>0.000277</td>\n",
              "      <td>0.000422</td>\n",
              "      <td>0.000244</td>\n",
              "      <td>0.000289</td>\n",
              "      <td>0.000008</td>\n",
              "      <td>0.000004</td>\n",
              "      <td>0.000005</td>\n",
              "      <td>0.000007</td>\n",
              "      <td>0.000004</td>\n",
              "      <td>0.000005</td>\n",
              "      <td>310.000000</td>\n",
              "      <td>334.750000</td>\n",
              "      <td>225.000000</td>\n",
              "      <td>75.5</td>\n",
              "      <td>1497.0</td>\n",
              "      <td>1881.0</td>\n",
              "      <td>1592.0</td>\n",
              "      <td>1.0</td>\n",
              "      <td>NaN</td>\n",
              "    </tr>\n",
              "    <tr>\n",
              "      <th>...</th>\n",
              "      <td>...</td>\n",
              "      <td>...</td>\n",
              "      <td>...</td>\n",
              "      <td>...</td>\n",
              "      <td>...</td>\n",
              "      <td>...</td>\n",
              "      <td>...</td>\n",
              "      <td>...</td>\n",
              "      <td>...</td>\n",
              "      <td>...</td>\n",
              "      <td>...</td>\n",
              "      <td>...</td>\n",
              "      <td>...</td>\n",
              "      <td>...</td>\n",
              "      <td>...</td>\n",
              "      <td>...</td>\n",
              "      <td>...</td>\n",
              "      <td>...</td>\n",
              "      <td>...</td>\n",
              "      <td>...</td>\n",
              "      <td>...</td>\n",
              "      <td>...</td>\n",
              "      <td>...</td>\n",
              "      <td>...</td>\n",
              "      <td>...</td>\n",
              "      <td>...</td>\n",
              "      <td>...</td>\n",
              "      <td>...</td>\n",
              "      <td>...</td>\n",
              "      <td>...</td>\n",
              "      <td>...</td>\n",
              "    </tr>\n",
              "    <tr>\n",
              "      <th>2494</th>\n",
              "      <td>NaN</td>\n",
              "      <td>NaN</td>\n",
              "      <td>NaN</td>\n",
              "      <td>NaN</td>\n",
              "      <td>NaN</td>\n",
              "      <td>NaN</td>\n",
              "      <td>NaN</td>\n",
              "      <td>NaN</td>\n",
              "      <td>NaN</td>\n",
              "      <td>NaN</td>\n",
              "      <td>NaN</td>\n",
              "      <td>NaN</td>\n",
              "      <td>NaN</td>\n",
              "      <td>NaN</td>\n",
              "      <td>NaN</td>\n",
              "      <td>NaN</td>\n",
              "      <td>NaN</td>\n",
              "      <td>NaN</td>\n",
              "      <td>NaN</td>\n",
              "      <td>NaN</td>\n",
              "      <td>NaN</td>\n",
              "      <td>NaN</td>\n",
              "      <td>NaN</td>\n",
              "      <td>NaN</td>\n",
              "      <td>NaN</td>\n",
              "      <td>NaN</td>\n",
              "      <td>NaN</td>\n",
              "      <td>NaN</td>\n",
              "      <td>NaN</td>\n",
              "      <td>NaN</td>\n",
              "      <td>1.0</td>\n",
              "    </tr>\n",
              "    <tr>\n",
              "      <th>2495</th>\n",
              "      <td>NaN</td>\n",
              "      <td>NaN</td>\n",
              "      <td>NaN</td>\n",
              "      <td>NaN</td>\n",
              "      <td>NaN</td>\n",
              "      <td>NaN</td>\n",
              "      <td>NaN</td>\n",
              "      <td>NaN</td>\n",
              "      <td>NaN</td>\n",
              "      <td>NaN</td>\n",
              "      <td>NaN</td>\n",
              "      <td>NaN</td>\n",
              "      <td>NaN</td>\n",
              "      <td>NaN</td>\n",
              "      <td>NaN</td>\n",
              "      <td>NaN</td>\n",
              "      <td>NaN</td>\n",
              "      <td>NaN</td>\n",
              "      <td>NaN</td>\n",
              "      <td>NaN</td>\n",
              "      <td>NaN</td>\n",
              "      <td>NaN</td>\n",
              "      <td>NaN</td>\n",
              "      <td>NaN</td>\n",
              "      <td>NaN</td>\n",
              "      <td>NaN</td>\n",
              "      <td>NaN</td>\n",
              "      <td>NaN</td>\n",
              "      <td>NaN</td>\n",
              "      <td>NaN</td>\n",
              "      <td>1.0</td>\n",
              "    </tr>\n",
              "    <tr>\n",
              "      <th>2496</th>\n",
              "      <td>NaN</td>\n",
              "      <td>NaN</td>\n",
              "      <td>NaN</td>\n",
              "      <td>NaN</td>\n",
              "      <td>NaN</td>\n",
              "      <td>NaN</td>\n",
              "      <td>NaN</td>\n",
              "      <td>NaN</td>\n",
              "      <td>NaN</td>\n",
              "      <td>NaN</td>\n",
              "      <td>NaN</td>\n",
              "      <td>NaN</td>\n",
              "      <td>NaN</td>\n",
              "      <td>NaN</td>\n",
              "      <td>NaN</td>\n",
              "      <td>NaN</td>\n",
              "      <td>NaN</td>\n",
              "      <td>NaN</td>\n",
              "      <td>NaN</td>\n",
              "      <td>NaN</td>\n",
              "      <td>NaN</td>\n",
              "      <td>NaN</td>\n",
              "      <td>NaN</td>\n",
              "      <td>NaN</td>\n",
              "      <td>NaN</td>\n",
              "      <td>NaN</td>\n",
              "      <td>NaN</td>\n",
              "      <td>NaN</td>\n",
              "      <td>NaN</td>\n",
              "      <td>NaN</td>\n",
              "      <td>1.0</td>\n",
              "    </tr>\n",
              "    <tr>\n",
              "      <th>2497</th>\n",
              "      <td>NaN</td>\n",
              "      <td>NaN</td>\n",
              "      <td>NaN</td>\n",
              "      <td>NaN</td>\n",
              "      <td>NaN</td>\n",
              "      <td>NaN</td>\n",
              "      <td>NaN</td>\n",
              "      <td>NaN</td>\n",
              "      <td>NaN</td>\n",
              "      <td>NaN</td>\n",
              "      <td>NaN</td>\n",
              "      <td>NaN</td>\n",
              "      <td>NaN</td>\n",
              "      <td>NaN</td>\n",
              "      <td>NaN</td>\n",
              "      <td>NaN</td>\n",
              "      <td>NaN</td>\n",
              "      <td>NaN</td>\n",
              "      <td>NaN</td>\n",
              "      <td>NaN</td>\n",
              "      <td>NaN</td>\n",
              "      <td>NaN</td>\n",
              "      <td>NaN</td>\n",
              "      <td>NaN</td>\n",
              "      <td>NaN</td>\n",
              "      <td>NaN</td>\n",
              "      <td>NaN</td>\n",
              "      <td>NaN</td>\n",
              "      <td>NaN</td>\n",
              "      <td>NaN</td>\n",
              "      <td>1.0</td>\n",
              "    </tr>\n",
              "    <tr>\n",
              "      <th>2498</th>\n",
              "      <td>NaN</td>\n",
              "      <td>NaN</td>\n",
              "      <td>NaN</td>\n",
              "      <td>NaN</td>\n",
              "      <td>NaN</td>\n",
              "      <td>NaN</td>\n",
              "      <td>NaN</td>\n",
              "      <td>NaN</td>\n",
              "      <td>NaN</td>\n",
              "      <td>NaN</td>\n",
              "      <td>NaN</td>\n",
              "      <td>NaN</td>\n",
              "      <td>NaN</td>\n",
              "      <td>NaN</td>\n",
              "      <td>NaN</td>\n",
              "      <td>NaN</td>\n",
              "      <td>NaN</td>\n",
              "      <td>NaN</td>\n",
              "      <td>NaN</td>\n",
              "      <td>NaN</td>\n",
              "      <td>NaN</td>\n",
              "      <td>NaN</td>\n",
              "      <td>NaN</td>\n",
              "      <td>NaN</td>\n",
              "      <td>NaN</td>\n",
              "      <td>NaN</td>\n",
              "      <td>NaN</td>\n",
              "      <td>NaN</td>\n",
              "      <td>NaN</td>\n",
              "      <td>NaN</td>\n",
              "      <td>1.0</td>\n",
              "    </tr>\n",
              "  </tbody>\n",
              "</table>\n",
              "<p>2499 rows × 31 columns</p>\n",
              "</div>"
            ],
            "text/plain": [
              "      no_strokes_st  no_strokes_dy  speed_st  ...  on_surface_dy  target  Y_pred\n",
              "0               0.0            0.0  0.000000  ...            0.0     1.0     NaN\n",
              "1               0.0            0.0  0.000000  ...            0.0     1.0     NaN\n",
              "2               2.0            6.0  0.001793  ...         2487.0     1.0     NaN\n",
              "3              22.0           12.0  0.001636  ...         2807.0     1.0     NaN\n",
              "4              54.0           34.0  0.003032  ...         1592.0     1.0     NaN\n",
              "...             ...            ...       ...  ...            ...     ...     ...\n",
              "2494            NaN            NaN       NaN  ...            NaN     NaN     1.0\n",
              "2495            NaN            NaN       NaN  ...            NaN     NaN     1.0\n",
              "2496            NaN            NaN       NaN  ...            NaN     NaN     1.0\n",
              "2497            NaN            NaN       NaN  ...            NaN     NaN     1.0\n",
              "2498            NaN            NaN       NaN  ...            NaN     NaN     1.0\n",
              "\n",
              "[2499 rows x 31 columns]"
            ]
          },
          "metadata": {
            "tags": []
          },
          "execution_count": 120
        }
      ]
    },
    {
      "cell_type": "code",
      "metadata": {
        "colab": {
          "base_uri": "https://localhost:8080/",
          "height": 337
        },
        "id": "ewDxtEYYoWRB",
        "outputId": "30a6ee8d-22c5-4a1b-8a36-1bfeb7af8641"
      },
      "source": [
        "\n",
        "pred = pd.DataFrame(Y_pred, columns = ['Y_pred'])\n",
        "target = pd.DataFrame(test_target,columns = ['test_target'])\n",
        "final = pd.concat([train,pred],ignore_index=True,sort=False)\n",
        "final = final.set_index(df.index[:2499])\n",
        "plt.figure(figsize=(10,5))\n",
        "sns.lineplot(x=final.index[:2424], y=final[:2424]['target'])\n",
        "sns.lineplot(x=final.index[:2424], y=final[:2424]['Y_pred'])\n",
        "plt.legend(['test_target','Y_pred'],\n",
        "            loc='upper left')\n",
        "plt.ylabel('y')"
      ],
      "execution_count": 128,
      "outputs": [
        {
          "output_type": "execute_result",
          "data": {
            "text/plain": [
              "Text(0, 0.5, 'y')"
            ]
          },
          "metadata": {
            "tags": []
          },
          "execution_count": 128
        },
        {
          "output_type": "display_data",
          "data": {
            "image/png": "[encoded data removed]",
            "text/plain": [
              "<Figure size 720x360 with 1 Axes>"
            ]
          },
          "metadata": {
            "tags": [],
            "needs_background": "light"
          }
        }
      ]
    },
    {
      "cell_type": "code",
      "metadata": {
        "colab": {
          "base_uri": "https://localhost:8080/"
        },
        "id": "xgHNw_ylAewQ",
        "outputId": "e4cd29ae-72ce-4d7c-bcdd-12854d968abb"
      },
      "source": [
        "target"
      ],
      "execution_count": 86,
      "outputs": [
        {
          "output_type": "execute_result",
          "data": {
            "text/plain": [
              "array([0, 0, 0, ..., 1, 1, 1])"
            ]
          },
          "metadata": {
            "tags": []
          },
          "execution_count": 86
        }
      ]
    },
    {
      "cell_type": "code",
      "metadata": {
        "id": "GV2fxBwv_SeQ",
        "colab": {
          "base_uri": "https://localhost:8080/"
        },
        "outputId": "866dac11-d5e8-4077-d518-12b62ed7751d"
      },
      "source": [
        "pip install scikit-plot"
      ],
      "execution_count": 95,
      "outputs": [
        {
          "output_type": "stream",
          "text": [
            "Collecting scikit-plot\n",
            "  Downloading https://files.pythonhosted.org/packages/7c/47/32520e259340c140a4ad27c1b97050dd3254fdc517b1d59974d47037510e/scikit_plot-0.3.7-py3-none-any.whl\n",
            "Requirement already satisfied: matplotlib>=1.4.0 in /usr/local/lib/python3.7/dist-packages (from scikit-plot) (3.2.2)\n",
            "Requirement already satisfied: scipy>=0.9 in /usr/local/lib/python3.7/dist-packages (from scikit-plot) (1.4.1)\n",
            "Requirement already satisfied: scikit-learn>=0.18 in /usr/local/lib/python3.7/dist-packages (from scikit-plot) (0.22.2.post1)\n",
            "Requirement already satisfied: joblib>=0.10 in /usr/local/lib/python3.7/dist-packages (from scikit-plot) (1.0.1)\n",
            "Requirement already satisfied: cycler>=0.10 in /usr/local/lib/python3.7/dist-packages (from matplotlib>=1.4.0->scikit-plot) (0.10.0)\n",
            "Requirement already satisfied: kiwisolver>=1.0.1 in /usr/local/lib/python3.7/dist-packages (from matplotlib>=1.4.0->scikit-plot) (1.3.1)\n",
            "Requirement already satisfied: numpy>=1.11 in /usr/local/lib/python3.7/dist-packages (from matplotlib>=1.4.0->scikit-plot) (1.19.5)\n",
            "Requirement already satisfied: pyparsing!=2.0.4,!=2.1.2,!=2.1.6,>=2.0.1 in /usr/local/lib/python3.7/dist-packages (from matplotlib>=1.4.0->scikit-plot) (2.4.7)\n",
            "Requirement already satisfied: python-dateutil>=2.1 in /usr/local/lib/python3.7/dist-packages (from matplotlib>=1.4.0->scikit-plot) (2.8.1)\n",
            "Requirement already satisfied: six in /usr/local/lib/python3.7/dist-packages (from cycler>=0.10->matplotlib>=1.4.0->scikit-plot) (1.15.0)\n",
            "Installing collected packages: scikit-plot\n",
            "Successfully installed scikit-plot-0.3.7\n"
          ],
          "name": "stdout"
        }
      ]
    },
    {
      "cell_type": "code",
      "metadata": {
        "id": "4qyS-xjuEpxL"
      },
      "source": [
        ""
      ],
      "execution_count": 86,
      "outputs": []
    },
    {
      "cell_type": "code",
      "metadata": {
        "colab": {
          "base_uri": "https://localhost:8080/"
        },
        "id": "w95CKIw2xbUc",
        "outputId": "86879c56-25b2-4374-b52f-aff3ee3662fa"
      },
      "source": [
        "control = getControlFeatures()\n",
        "park = getParkinsonFeatures()\n",
        "target = getClasses(control,park)\n",
        "all_data = np.concatenate((control,park),axis= 0)"
      ],
      "execution_count": 87,
      "outputs": [
        {
          "output_type": "stream",
          "text": [
            "/usr/local/lib/python3.7/dist-packages/pandas/core/internals/construction.py:305: VisibleDeprecationWarning: Creating an ndarray from ragged nested sequences (which is a list-or-tuple of lists-or-tuples-or ndarrays with different lengths or shapes) is deprecated. If you meant to do this, you must specify 'dtype=object' when creating the ndarray\n",
            "  values = np.array([convert(v) for v in values])\n"
          ],
          "name": "stderr"
        }
      ]
    },
    {
      "cell_type": "code",
      "metadata": {
        "colab": {
          "base_uri": "https://localhost:8080/"
        },
        "id": "mBzU9mRkxbXJ",
        "outputId": "29c1bfd5-96fc-416d-b038-8e62b4474ef1"
      },
      "source": [
        "all_data"
      ],
      "execution_count": 88,
      "outputs": [
        {
          "output_type": "execute_result",
          "data": {
            "text/plain": [
              "array([[ 233, -308,    0,  311, -152],\n",
              "       [-211,  220,  205,  161,  -84],\n",
              "       [ 288, -258,  194, -166,  207],\n",
              "       ...,\n",
              "       [ 115,  106,    0,  -53, -105],\n",
              "       [-102,  104,    0,   41,   48],\n",
              "       [ -74,  -59,  155,  -38,  139]])"
            ]
          },
          "metadata": {
            "tags": []
          },
          "execution_count": 88
        }
      ]
    },
    {
      "cell_type": "markdown",
      "metadata": {
        "id": "ojmNWnkrFsU5"
      },
      "source": [
        ""
      ]
    },
    {
      "cell_type": "code",
      "metadata": {
        "id": "kmulV0_evvov"
      },
      "source": [
        "control_path = \"/content/drive/MyDrive/Kaggle/datanew/hw_dataset/hw_dataset/control\"\n",
        "parkinson_path = \"/content/drive/MyDrive/Kaggle/datanew/hw_dataset/hw_dataset/parkinson\""
      ],
      "execution_count": 89,
      "outputs": []
    },
    {
      "cell_type": "code",
      "metadata": {
        "id": "6Az7uT-rvvsx"
      },
      "source": [
        "df_control = pd.read_csv(control_path + '/control_all_with_header.csv')\n",
        "df_park = pd.read_csv(parkinson_path + '/park_all_with_header.csv')\n",
        "df = pd.concat([df_control, df_park])"
      ],
      "execution_count": 90,
      "outputs": []
    },
    {
      "cell_type": "code",
      "metadata": {
        "colab": {
          "base_uri": "https://localhost:8080/",
          "height": 270
        },
        "id": "NrcdKRHZvvxR",
        "outputId": "a082c40f-8014-45d3-e0a3-65759941a32d"
      },
      "source": [
        "df_corr = df.drop(['Subject', 'PWP'], axis=1)\n",
        "fig = plt.figure()\n",
        "ax = fig.add_subplot(111)\n",
        "ax.matshow(df_corr.corr())\n",
        "plt.xticks(range(len(df_corr.columns)), df_corr.columns)\n",
        "plt.yticks(range(len(df_corr.columns)), df_corr.columns)\n",
        "plt.show()"
      ],
      "execution_count": 91,
      "outputs": [
        {
          "output_type": "display_data",
          "data": {
            "image/png": "[encoded data removed]",
            "text/plain": [
              "<Figure size 432x288 with 1 Axes>"
            ]
          },
          "metadata": {
            "tags": [],
            "needs_background": "light"
          }
        }
      ]
    },
    {
      "cell_type": "code",
      "metadata": {
        "colab": {
          "base_uri": "https://localhost:8080/",
          "height": 265
        },
        "id": "Az6tD1T6vv0I",
        "outputId": "edfdae7f-836f-46e9-ffad-e66c8e2aaaa7"
      },
      "source": [
        "plt.hist(df['Test_ID'])\n",
        "plt.show()\n",
        "df_0 = df[df['Test_ID'] == 0]\n",
        "df_1 = df[df['Test_ID'] == 1]\n",
        "df_2 = df[df['Test_ID'] == 2]"
      ],
      "execution_count": 92,
      "outputs": [
        {
          "output_type": "display_data",
          "data": {
            "image/png": "[encoded data removed]",
            "text/plain": [
              "<Figure size 432x288 with 1 Axes>"
            ]
          },
          "metadata": {
            "tags": [],
            "needs_background": "light"
          }
        }
      ]
    },
    {
      "cell_type": "code",
      "metadata": {
        "colab": {
          "base_uri": "https://localhost:8080/"
        },
        "id": "UnpcszCyvv3Q",
        "outputId": "c9f5c292-f51b-4229-bca1-c30feeed32a5"
      },
      "source": [
        "print(df_0.head())\n",
        "print(df_1.head())\n",
        "print(df_2.head())"
      ],
      "execution_count": 93,
      "outputs": [
        {
          "output_type": "stream",
          "text": [
            "   Subject    X    Y  Z  Pressure  GripAngle  Timestamp  Test_ID  PWP\n",
            "0        1  226  234  0        80        960    1283186        0    0\n",
            "1        1  226  234  0       119        960    1283195        0    0\n",
            "2        1  226  234  0       161        960    1283204        0    0\n",
            "3        1  226  234  0       194        980    1283213        0    0\n",
            "4        1  226  234  0       241        980    1283222        0    0\n",
            "      Subject    X    Y  Z  Pressure  GripAngle  Timestamp  Test_ID  PWP\n",
            "3948        1  225  235  0       142       1060    1320323        1    0\n",
            "3949        1  226  235  0       191       1070    1320332        1    0\n",
            "3950        1  226  235  0       276       1070    1320341        1    0\n",
            "3951        1  226  235  0       327       1060    1320350        1    0\n",
            "3952        1  226  235  0       366       1050    1320359        1    0\n",
            "       Subject    X    Y    Z  Pressure  GripAngle  Timestamp  Test_ID  PWP\n",
            "39654        5  242  247  682         0       2330    6551462        2    0\n",
            "39655        5  242  247  682         0       2330    6551469        2    0\n",
            "39656        5  243  247  665         0       2310    6551476        2    0\n",
            "39657        5  243  247  665         0       2250    6551483        2    0\n",
            "39658        5  243  247  653         0       2250    6551490        2    0\n"
          ],
          "name": "stdout"
        }
      ]
    },
    {
      "cell_type": "code",
      "metadata": {
        "id": "2cHblO88vv64"
      },
      "source": [
        ""
      ],
      "execution_count": 93,
      "outputs": []
    },
    {
      "cell_type": "code",
      "metadata": {
        "id": "z32QApB6O1Zy"
      },
      "source": [
        ""
      ],
      "execution_count": 93,
      "outputs": []
    },
    {
      "cell_type": "code",
      "metadata": {
        "id": "aT5e73kHO1dq"
      },
      "source": [
        ""
      ],
      "execution_count": 93,
      "outputs": []
    },
    {
      "cell_type": "code",
      "metadata": {
        "id": "0MSqk0GPO1i1"
      },
      "source": [
        ""
      ],
      "execution_count": 93,
      "outputs": []
    },
    {
      "cell_type": "code",
      "metadata": {
        "id": "h5qJA_w2LzZx"
      },
      "source": [
        ""
      ],
      "execution_count": 93,
      "outputs": []
    },
    {
      "cell_type": "code",
      "metadata": {
        "id": "iDkJBVNPLzc0"
      },
      "source": [
        ""
      ],
      "execution_count": 93,
      "outputs": []
    },
    {
      "cell_type": "code",
      "metadata": {
        "id": "CnkiNgG-LzgP"
      },
      "source": [
        ""
      ],
      "execution_count": 93,
      "outputs": []
    },
    {
      "cell_type": "code",
      "metadata": {
        "id": "l514rysdLzmn"
      },
      "source": [
        ""
      ],
      "execution_count": 93,
      "outputs": []
    },
    {
      "cell_type": "code",
      "metadata": {
        "id": "OezaEVxaLzpr"
      },
      "source": [
        ""
      ],
      "execution_count": 93,
      "outputs": []
    },
    {
      "cell_type": "code",
      "metadata": {
        "id": "K8ZhgRuILzrz"
      },
      "source": [
        ""
      ],
      "execution_count": 93,
      "outputs": []
    },
    {
      "cell_type": "code",
      "metadata": {
        "id": "J9VRzpiALzv6"
      },
      "source": [
        ""
      ],
      "execution_count": 93,
      "outputs": []
    },
    {
      "cell_type": "code",
      "metadata": {
        "id": "ee8vtdosLzyL"
      },
      "source": [
        ""
      ],
      "execution_count": 93,
      "outputs": []
    },
    {
      "cell_type": "code",
      "metadata": {
        "id": "gilTWC6WLz0n"
      },
      "source": [
        ""
      ],
      "execution_count": 93,
      "outputs": []
    }
  ]
}